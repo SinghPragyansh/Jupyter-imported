{
 "cells": [
  {
   "cell_type": "code",
   "execution_count": 1,
   "id": "324d9d0c",
   "metadata": {},
   "outputs": [],
   "source": [
    "import numpy as np\n",
    "import matplotlib.pyplot as plt"
   ]
  },
  {
   "cell_type": "code",
   "execution_count": 15,
   "id": "70c96847",
   "metadata": {},
   "outputs": [],
   "source": [
    "def simpson(u, f):\n",
    "    h = u[1] - u[0]\n",
    "    l = len(u)\n",
    "    odd_sum = 0\n",
    "    even_sum = 0\n",
    "    \n",
    "    for i in range(1, l-1):\n",
    "        \n",
    "        if i % 2 == 0:\n",
    "            even_sum += f(u[i])\n",
    "            \n",
    "        else:\n",
    "            odd_sum += f(u[i])\n",
    "            \n",
    "    total_sum = (h/3) * (f(u[0]) + 4*(odd_sum) + 2*(even_sum) + f(u[-1]))\n",
    "    \n",
    "    return total_sum"
   ]
  },
  {
   "cell_type": "code",
   "execution_count": 17,
   "id": "9fc8ef47",
   "metadata": {},
   "outputs": [
    {
     "name": "stdout",
     "output_type": "stream",
     "text": [
      "The Simpson integration value of fucntion is: 2.0001095173150043\n"
     ]
    }
   ],
   "source": [
    "x = np.linspace(0, np.pi, 11)\n",
    "\n",
    "f = lambda x: np.sin(x) \n",
    "\n",
    "simpson_int = simpson(x, f)\n",
    "\n",
    "print(f\"The Simpson integration value of fucntion is: {simpson_int}\")"
   ]
  },
  {
   "cell_type": "code",
   "execution_count": 18,
   "id": "8d38b0c2",
   "metadata": {},
   "outputs": [
    {
     "data": {
      "text/plain": [
       "[<matplotlib.lines.Line2D at 0x7f5931fd72e0>]"
      ]
     },
     "execution_count": 18,
     "metadata": {},
     "output_type": "execute_result"
    },
    {
     "data": {
      "image/png": "[encoded data removed]",
      "text/plain": [
       "<Figure size 432x288 with 1 Axes>"
      ]
     },
     "metadata": {
      "needs_background": "light"
     },
     "output_type": "display_data"
    }
   ],
   "source": [
    "plt.plot(x, f(x))"
   ]
  },
  {
   "cell_type": "code",
   "execution_count": null,
   "id": "228af04f",
   "metadata": {},
   "outputs": [],
   "source": []
  }
 ],
 "metadata": {
  "kernelspec": {
   "display_name": "Python 3",
   "language": "python",
   "name": "python3"
  },
  "language_info": {
   "codemirror_mode": {
    "name": "ipython",
    "version": 3
   },
   "file_extension": ".py",
   "mimetype": "text/x-python",
   "name": "python",
   "nbconvert_exporter": "python",
   "pygments_lexer": "ipython3",
   "version": "3.8.8"
  }
 },
 "nbformat": 4,
 "nbformat_minor": 5
}
