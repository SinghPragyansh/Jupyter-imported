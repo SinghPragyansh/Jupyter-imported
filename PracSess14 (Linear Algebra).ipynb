{
 "cells": [
  {
   "cell_type": "code",
   "execution_count": 57,
   "id": "91966652",
   "metadata": {},
   "outputs": [],
   "source": [
    "# Linear algebra and amd linear equation "
   ]
  },
  {
   "cell_type": "code",
   "execution_count": 84,
   "id": "fbc2aaca",
   "metadata": {},
   "outputs": [
    {
     "name": "stdout",
     "output_type": "stream",
     "text": [
      "(1, 5)\n",
      "(4, 1)\n"
     ]
    }
   ],
   "source": [
    "import numpy as np\n",
    "r_vec = np.array([[1,1,-5,2,7]])\n",
    "c_vec = np.array([[3],[6],[9],[0]])\n",
    "\n",
    "print(r_vec.shape)\n",
    "print(c_vec.shape)"
   ]
  },
  {
   "cell_type": "code",
   "execution_count": 89,
   "id": "e56c0106",
   "metadata": {},
   "outputs": [
    {
     "name": "stdout",
     "output_type": "stream",
     "text": [
      "[[ 1]\n",
      " [ 1]\n",
      " [-5]\n",
      " [ 2]\n",
      " [ 7]]\n",
      "L_1 is: 16.0\n",
      "L_2 is: 8.9\n",
      "L_inf is: 7.0\n"
     ]
    }
   ],
   "source": [
    "# Calculating norm with different method\n",
    "\n",
    "from numpy.linalg import norm\n",
    "new_vec = r_vec.T     # Transposing the vector\n",
    "print(new_vec)\n",
    "\n",
    "norm1 = norm(new_vec, 1)       # norm = sigma(elements)\n",
    "norm2 = norm(new_vec, 2)      # norm = sigma(root(square(element)))\n",
    "norm_inf = norm(new_vec, np.inf)    \n",
    "\n",
    "print(\"L_1 is: %.1f\"%norm1)\n",
    "print(\"L_2 is: %.1f\"%norm2)\n",
    "print(\"L_inf is: %.1f\"%norm_inf)"
   ]
  },
  {
   "cell_type": "code",
   "execution_count": 90,
   "id": "e81dd944",
   "metadata": {},
   "outputs": [],
   "source": [
    "# Vector addition, u(i) = v(i) + w(i)"
   ]
  },
  {
   "cell_type": "code",
   "execution_count": 150,
   "id": "4cd6a0f4",
   "metadata": {},
   "outputs": [
    {
     "name": "stdout",
     "output_type": "stream",
     "text": [
      "51\n"
     ]
    }
   ],
   "source": [
    "# The dot-product is a measure of how similarly directed the two vectors are\n",
    "\n",
    "def dot_pro(m, n):\n",
    "    for i,j in zip(m,n):\n",
    "        mult_2 =sum(i*j)\n",
    "    return mult_2\n",
    "        \n",
    "    \n",
    "vec_1 = np.array([[1,3,1,9]])\n",
    "vec_2 = np.array([[2,2,7,4]])\n",
    "dp = dot_pro(vec_1, vec_2)\n",
    "print(dp)"
   ]
  },
  {
   "cell_type": "code",
   "execution_count": 158,
   "id": "06d99339",
   "metadata": {},
   "outputs": [
    {
     "name": "stdout",
     "output_type": "stream",
     "text": [
      "[[0.69885032]]\n"
     ]
    }
   ],
   "source": [
    "# Dot product with library and finding the respective angle between\n",
    "# two vectors\n",
    "\n",
    "from numpy import arccos, dot\n",
    "\n",
    "v_1 = np.array([[10, 9 ,34, 9]])\n",
    "v_2 = np.array([[2, 6, 8, 12]])\n",
    "\n",
    "theta = arccos(dot(v_1, v_2.T)/(norm(v_1)*norm(v_2)))\n",
    "print(theta)"
   ]
  },
  {
   "cell_type": "code",
   "execution_count": 159,
   "id": "b42c1b14",
   "metadata": {},
   "outputs": [],
   "source": [
    "# Cross Product"
   ]
  },
  {
   "cell_type": "code",
   "execution_count": 164,
   "id": "9a19a32d",
   "metadata": {},
   "outputs": [
    {
     "name": "stdout",
     "output_type": "stream",
     "text": [
      "[[ 0  0 -6]]\n",
      "[[0 0 6]]\n"
     ]
    }
   ],
   "source": [
    "from numpy import cross\n",
    "v_1 = np.array([[0,2,0]])\n",
    "v_2 = np.array([[3,0,0]])\n",
    "\n",
    "print(np.cross(v_1, v_2))\n",
    "print(np.cross(v_2, v_1))"
   ]
  },
  {
   "cell_type": "code",
   "execution_count": 178,
   "id": "2d6efe20",
   "metadata": {},
   "outputs": [],
   "source": [
    "# Matrices\n",
    "# \"np.dot\" is used here as well for the matrix multiplication "
   ]
  },
  {
   "cell_type": "code",
   "execution_count": 179,
   "id": "3866eb51",
   "metadata": {},
   "outputs": [
    {
     "name": "stdout",
     "output_type": "stream",
     "text": [
      "m_1:\n",
      " [[0 2 1 3]\n",
      " [3 2 8 1]\n",
      " [1 0 0 3]\n",
      " [0 3 2 1]]\n",
      "Determinant: -38.0\n"
     ]
    }
   ],
   "source": [
    "from numpy.linalg import det\n",
    "m_1 = np.array([[0, 2, 1, 3],[3,2,8,1],[1,0,0,3],[0,3,2,1]])\n",
    "print(\"m_1:\\n\",m_1)\n",
    "\n",
    "print(\"Determinant: %.1f\"%det(m_1))"
   ]
  },
  {
   "cell_type": "code",
   "execution_count": 180,
   "id": "d76eaf07",
   "metadata": {},
   "outputs": [
    {
     "name": "stdout",
     "output_type": "stream",
     "text": [
      "[[0. 2. 1. 3.]\n",
      " [3. 2. 8. 1.]\n",
      " [1. 0. 0. 3.]\n",
      " [0. 3. 2. 1.]]\n"
     ]
    }
   ],
   "source": [
    "I = np.eye(4)\n",
    "print(np.dot(m_1,I))"
   ]
  },
  {
   "cell_type": "code",
   "execution_count": 181,
   "id": "da31ea3c",
   "metadata": {},
   "outputs": [],
   "source": [
    "# Inverse of matrix is: (M)^(-1).M = I\n",
    "# also, M^(-1) = 1/det(M)*[Cofactor(M)]^(T)"
   ]
  },
  {
   "cell_type": "code",
   "execution_count": 182,
   "id": "2d737cd4",
   "metadata": {},
   "outputs": [],
   "source": [
    "# If determinant of a matrix is zero, then the matrix is singular"
   ]
  },
  {
   "cell_type": "code",
   "execution_count": 185,
   "id": "86ef5f6a",
   "metadata": {},
   "outputs": [
    {
     "name": "stdout",
     "output_type": "stream",
     "text": [
      "The matrix is: [[0 2 1 3]\n",
      " [3 2 8 1]\n",
      " [1 0 0 3]\n",
      " [0 3 2 1]]\n",
      "The inverse is: [[-1.57894737 -0.07894737  1.23684211  1.10526316]\n",
      " [-0.63157895 -0.13157895  0.39473684  0.84210526]\n",
      " [ 0.68421053  0.18421053 -0.55263158 -0.57894737]\n",
      " [ 0.52631579  0.02631579 -0.07894737 -0.36842105]]\n"
     ]
    }
   ],
   "source": [
    "from numpy.linalg import inv\n",
    "print(\"The matrix is:\", m_1)\n",
    "print(\"The inverse is:\", inv(m_1))"
   ]
  },
  {
   "cell_type": "code",
   "execution_count": 190,
   "id": "72a15174",
   "metadata": {},
   "outputs": [
    {
     "name": "stdout",
     "output_type": "stream",
     "text": [
      "0.0\n"
     ]
    }
   ],
   "source": [
    "m_2 = np.array([[0,1,0],[0,0,0],[1,0,1]])\n",
    "det_m2 = det(m_2)\n",
    "print(det_m2)"
   ]
  },
  {
   "cell_type": "code",
   "execution_count": 192,
   "id": "e319cf0a",
   "metadata": {},
   "outputs": [],
   "source": [
    "# The rank of an m × n matrix A is the number of linearly independent columns or rows of A\n",
    "# and is denoted by rank(A).\n",
    "# The matrix A is also of full rank if all of its columns are linearly independent."
   ]
  },
  {
   "cell_type": "code",
   "execution_count": 193,
   "id": "2222fb9b",
   "metadata": {},
   "outputs": [],
   "source": [
    "# An augmented matrix is a matrix A concatenated with a vector y and is written [A, y].\n",
    "# This is commonly read as “A augmented with y.”"
   ]
  },
  {
   "cell_type": "code",
   "execution_count": 213,
   "id": "f0ac46ea",
   "metadata": {},
   "outputs": [
    {
     "name": "stdout",
     "output_type": "stream",
     "text": [
      "The condition number of the matrix a:\n",
      " 4.048917339522305\n",
      "Rank of the matrix a:\n",
      " 3\n"
     ]
    }
   ],
   "source": [
    "# Finding condition number, rank of matrix\n",
    "from numpy.linalg import cond, matrix_rank\n",
    "\n",
    "mat_a = np.array([[1,1,0],[0,1,0],[1,0,1]])\n",
    "\n",
    "print(\"The condition number of the matrix a:\\n\", cond(mat_a))\n",
    "print(\"Rank of the matrix a:\\n\", matrix_rank(mat_a))"
   ]
  },
  {
   "cell_type": "code",
   "execution_count": 219,
   "id": "a3ee5f06",
   "metadata": {},
   "outputs": [
    {
     "name": "stdout",
     "output_type": "stream",
     "text": [
      "Augmented matrix of mat a and b:\n",
      " [[1 1 0 1]\n",
      " [0 1 0 2]\n",
      " [1 0 1 1]]\n",
      "Augmented matrix of mat a and c:\n",
      " [[1 1 0]\n",
      " [0 1 0]\n",
      " [1 0 1]\n",
      " [1 2 1]]\n"
     ]
    }
   ],
   "source": [
    "# Augmented matrix using concatenate library of numpy\n",
    "mat_b = np.array([[1],[2],[1]])\n",
    "mat_c = mat_b.T\n",
    "\n",
    "#adds the the column vector as a new column to already existing one\n",
    "aug_ab = np.concatenate((mat_a, mat_b), axis = 1)  # axis=1 is for column add\n",
    "\n",
    "#adds the row vector to the already existing matrix\n",
    "aug_ac = np.concatenate((mat_a, mat_c), axis = 0) # axis=0 is for row add\n",
    "\n",
    "print(\"Augmented matrix of mat a and b:\\n\", aug_ab)\n",
    "print(\"Augmented matrix of mat a and c:\\n\", aug_ac)"
   ]
  },
  {
   "cell_type": "code",
   "execution_count": 223,
   "id": "0989ef79",
   "metadata": {},
   "outputs": [
    {
     "name": "stdout",
     "output_type": "stream",
     "text": [
      "The rank of augmented matrix ab:\n",
      " 3\n",
      "The rank of augmented matrix ac:\n",
      " 3\n"
     ]
    }
   ],
   "source": [
    "# Checking if the addition of column has increased the rank\n",
    "# if the rank increases, it would mean the added column is linearly \n",
    "# independent vector in the space\n",
    "\n",
    "print(\"The rank of augmented matrix ab:\\n\", matrix_rank(aug_ab))\n",
    "print(\"The rank of augmented matrix ac:\\n\", matrix_rank(aug_ac))"
   ]
  },
  {
   "cell_type": "code",
   "execution_count": 224,
   "id": "07388d2c",
   "metadata": {},
   "outputs": [],
   "source": [
    "# Since Rank stays the same, therefore the addition must be linearly dependent vector"
   ]
  },
  {
   "cell_type": "code",
   "execution_count": null,
   "id": "379fbe6b",
   "metadata": {},
   "outputs": [],
   "source": []
  },
  {
   "cell_type": "code",
   "execution_count": null,
   "id": "414545c2",
   "metadata": {},
   "outputs": [],
   "source": []
  },
  {
   "cell_type": "code",
   "execution_count": null,
   "id": "8d467566",
   "metadata": {},
   "outputs": [],
   "source": []
  },
  {
   "cell_type": "code",
   "execution_count": null,
   "id": "f3691d44",
   "metadata": {},
   "outputs": [],
   "source": []
  },
  {
   "cell_type": "code",
   "execution_count": null,
   "id": "d13f2d7c",
   "metadata": {},
   "outputs": [],
   "source": []
  }
 ],
 "metadata": {
  "kernelspec": {
   "display_name": "Python 3",
   "language": "python",
   "name": "python3"
  },
  "language_info": {
   "codemirror_mode": {
    "name": "ipython",
    "version": 3
   },
   "file_extension": ".py",
   "mimetype": "text/x-python",
   "name": "python",
   "nbconvert_exporter": "python",
   "pygments_lexer": "ipython3",
   "version": "3.8.8"
  }
 },
 "nbformat": 4,
 "nbformat_minor": 5
}
