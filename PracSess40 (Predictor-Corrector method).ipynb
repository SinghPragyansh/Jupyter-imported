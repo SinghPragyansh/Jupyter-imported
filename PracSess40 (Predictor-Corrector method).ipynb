{
 "cells": [
  {
   "cell_type": "code",
   "execution_count": 17,
   "id": "96175c39",
   "metadata": {},
   "outputs": [],
   "source": [
    "import numpy as np\n",
    "import matplotlib.pyplot as plt"
   ]
  },
  {
   "cell_type": "code",
   "execution_count": 18,
   "id": "2c2785b1",
   "metadata": {},
   "outputs": [],
   "source": [
    "# ODE\n",
    "f = lambda t, s : np.exp(-t)  # f here is the derivative term\n",
    "h = 0.1      # delta(t)\n",
    "t0 = 0\n",
    "tf = 1\n",
    "t = np.arange(t0, tf+h, h)\n",
    "\n",
    "# Initial condition \n",
    "z0 = -1"
   ]
  },
  {
   "cell_type": "code",
   "execution_count": 19,
   "id": "62413c48",
   "metadata": {},
   "outputs": [],
   "source": [
    "def Euler_predictor(f, t, h, s0):\n",
    "    s = np.zeros(len(t))\n",
    "    s[0] = s0\n",
    "    \n",
    "    for i in range(len(t)-1):\n",
    "        s[i+1] = s[i] + h*f(t[i], s[i])\n",
    "        \n",
    "    return s"
   ]
  },
  {
   "cell_type": "code",
   "execution_count": 20,
   "id": "d0a07c44",
   "metadata": {},
   "outputs": [],
   "source": [
    "z = Euler_predictor(f, t, h, z0)"
   ]
  },
  {
   "cell_type": "code",
   "execution_count": 21,
   "id": "a6e98ed3",
   "metadata": {},
   "outputs": [],
   "source": [
    "def midpoint_pred(f, t, h, s):\n",
    "    m = np.zeros(len(s))\n",
    "        \n",
    "    for i in range(len(s)-1):\n",
    "        m[i] = s[i] + (h/2)*f(t[i], s[i])\n",
    "        \n",
    "    return m"
   ]
  },
  {
   "cell_type": "code",
   "execution_count": 22,
   "id": "1b1f4556",
   "metadata": {},
   "outputs": [],
   "source": [
    "midpoint_array = midpoint_pred(f, t, h, z)"
   ]
  },
  {
   "cell_type": "code",
   "execution_count": 29,
   "id": "a31905fd",
   "metadata": {},
   "outputs": [],
   "source": [
    "def corrector_fun(f, t, h, m, s):\n",
    "    x = np.zeros(len(s))\n",
    "    x[0] = s[0]\n",
    "    \n",
    "    for i in range(len(s) -1):\n",
    "        x[i+1] = x[i] + h* f(t[i]+(h/2), m[i])\n",
    "        \n",
    "    return x\n",
    "# x is the position vector, obtained with the array from midpoint"
   ]
  },
  {
   "cell_type": "code",
   "execution_count": 30,
   "id": "75d67128",
   "metadata": {},
   "outputs": [],
   "source": [
    "x_corrector = corrector_fun(f, t, h, midpoint_array, z)"
   ]
  },
  {
   "cell_type": "code",
   "execution_count": 31,
   "id": "626e39de",
   "metadata": {},
   "outputs": [
    {
     "data": {
      "text/plain": [
       "<matplotlib.legend.Legend at 0x7f7cd68ad7c0>"
      ]
     },
     "execution_count": 31,
     "metadata": {},
     "output_type": "execute_result"
    },
    {
     "data": {
      "image/png": "[encoded data removed]",
      "text/plain": [
       "<Figure size 576x360 with 1 Axes>"
      ]
     },
     "metadata": {
      "needs_background": "light"
     },
     "output_type": "display_data"
    }
   ],
   "source": [
    "plt.figure(figsize = (8,5))\n",
    "plt.plot(t, x_corrector, \"b.-\", label = \"Approximation\")\n",
    "plt.plot(t, -np.exp(-t), \"g\", label = \"Exact\")\n",
    "plt.title(\"Approximate and Exact solution for simple ODE\")\n",
    "plt.xlabel(\"t\")\n",
    "plt.ylabel(\"f(t)\")\n",
    "plt.grid()\n",
    "plt.legend(loc = \"lower right\")"
   ]
  },
  {
   "cell_type": "code",
   "execution_count": null,
   "id": "05592d11",
   "metadata": {},
   "outputs": [],
   "source": []
  }
 ],
 "metadata": {
  "kernelspec": {
   "display_name": "Python 3",
   "language": "python",
   "name": "python3"
  },
  "language_info": {
   "codemirror_mode": {
    "name": "ipython",
    "version": 3
   },
   "file_extension": ".py",
   "mimetype": "text/x-python",
   "name": "python",
   "nbconvert_exporter": "python",
   "pygments_lexer": "ipython3",
   "version": "3.8.8"
  }
 },
 "nbformat": 4,
 "nbformat_minor": 5
}
