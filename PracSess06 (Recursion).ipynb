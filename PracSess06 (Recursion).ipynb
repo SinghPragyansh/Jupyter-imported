{
 "cells": [
  {
   "cell_type": "code",
   "execution_count": 289,
   "id": "7a2ce1e9",
   "metadata": {},
   "outputs": [],
   "source": [
    "import numpy as np"
   ]
  },
  {
   "cell_type": "markdown",
   "id": "14af9cb9",
   "metadata": {},
   "source": [
    "'''\n",
    "A recursive function is a function that makes calls to itself. It works like the loops.\n",
    "Every recursive function has two components: a base case and a recursive step.\n",
    "'''"
   ]
  },
  {
   "cell_type": "code",
   "execution_count": 2,
   "id": "64f1a4b6",
   "metadata": {},
   "outputs": [
    {
     "data": {
      "text/plain": [
       "24"
      ]
     },
     "execution_count": 2,
     "metadata": {},
     "output_type": "execute_result"
    }
   ],
   "source": [
    "# Factorial cal with recursive relation of function\n",
    "def fun_fact(n):\n",
    "    if n==1:\n",
    "        return 1\n",
    "    else:\n",
    "        return n*fun_fact(n-1)     # Recurisve Call\n",
    "fun_fact(4)    "
   ]
  },
  {
   "cell_type": "code",
   "execution_count": 291,
   "id": "151259dd",
   "metadata": {},
   "outputs": [
    {
     "name": "stdout",
     "output_type": "stream",
     "text": [
      "1\n",
      "1\n",
      "2\n",
      "3\n",
      "5\n",
      "8\n",
      "13\n"
     ]
    }
   ],
   "source": [
    "# Fibbonacci without recursive\n",
    "x = 1\n",
    "y = 1\n",
    "print(x)\n",
    "print(y)\n",
    "sum =0\n",
    "for i in range(5):\n",
    "    sum = x + y\n",
    "    t = x\n",
    "    x = y\n",
    "    y = sum\n",
    "    print(sum)"
   ]
  },
  {
   "cell_type": "code",
   "execution_count": 292,
   "id": "a487f94b",
   "metadata": {},
   "outputs": [
    {
     "name": "stdout",
     "output_type": "stream",
     "text": [
      "1\n",
      "1\n",
      "2\n",
      "3\n",
      "5\n",
      "8\n",
      "13\n"
     ]
    }
   ],
   "source": [
    "# Fibbonacci with recursive function\n",
    "def fibbo(n):\n",
    "    if n == 1:\n",
    "        return 1\n",
    "    elif n ==2:\n",
    "        return 1\n",
    "    else:\n",
    "        return fibbo(n-1)+fibbo(n-2)    # recursive call\n",
    "for i in range(1,8):\n",
    "    print(fibbo(i))"
   ]
  },
  {
   "cell_type": "code",
   "execution_count": 293,
   "id": "80f88a02",
   "metadata": {},
   "outputs": [
    {
     "name": "stdout",
     "output_type": "stream",
     "text": [
      "[1. 1. 1. 1. 1. 1. 1. 1. 1. 1.]\n",
      "[ 1.  1.  2.  3.  5.  8. 13. 21. 34. 55.]\n",
      "143.0\n"
     ]
    }
   ],
   "source": [
    "# n fibbonacci numbers\n",
    "def iter_fibbo(n):\n",
    "    fib = np.ones(n)     # creating an array with n elements\n",
    "    print(fib)\n",
    "    for i in range(2,n):    # Starting from 2, because first and second index are already 1, given in the array\n",
    "        fib[i] = fib[i-1] + fib[i-2]    # Recursive Call \n",
    "    return fib\n",
    "\n",
    "fibbo_list = iter_fibbo(10)    # exporting the argument and storing the list of fibbo numbers in the given variable    \n",
    "print(fibbo_list)            \n",
    "sum = 0\n",
    "for i in fibbo_list:        # summing up the the n fibbo numbers\n",
    "    sum = sum + i \n",
    "print(sum)\n",
    "\n"
   ]
  },
  {
   "cell_type": "code",
   "execution_count": 294,
   "id": "6f977e96",
   "metadata": {},
   "outputs": [],
   "source": [
    "# It is important for the recursion to reach the base level of recursion"
   ]
  },
  {
   "cell_type": "markdown",
   "id": "fa06a6a5",
   "metadata": {},
   "source": [
    "# Tower  of Hanoi problem\n",
    "'''\n",
    "The Tower of Hanoi problem consists of three vertical rods (or towers) and N disks of different sizes,\n",
    "each with a hole in the center so that the rod can slide through it. The original configuration of the disks\n",
    "is that they are stacked on one of the towers in the order of descending size (i.e., the largest disc is on\n",
    "the bottom). The goal of the problem is to move all the disks to a different rod while complying with\n",
    "the following three rules:\n",
    "1. Only one disk can be moved at a time.\n",
    "2. Only the disk at the top of a stack may be moved.\n",
    "3. A disk may not be placed on top of a smaller disk.\n",
    "\n",
    "The key to the Tower of Hanoi problem is breaking it down into smaller, easier-to-manage problems\n",
    "that we will refer to as subproblems. For this problem, it is relatively easy to see that moving a disk is\n",
    "easy (which has only three rules), but moving a tower is difficult, and the solution is not obvious. So\n",
    "we will assign moving a stack of size N to several subproblems of moving a stack of size N − 1.\n",
    "Consider a stack of N disks that we wish to move from tower 1 to tower 3, and let my_tower(N)\n",
    "move a stack of size N to the desired tower (i.e., display the moves). How to write my_tower may not\n",
    "immediately be clear. If we think about the problem in terms of subproblems, we can see that we need\n",
    "to move the top N − 1 disks to the middle tower, then the bottom disk to the right tower, and then the\n",
    "N − 1 disks on the middle tower to the right tower. my_tower can display the instruction to move disk\n",
    "N and then make recursive calls to my_tower(N-1) to handle moving the smaller towers. The calls to\n",
    "my_tower(N-1) make recursive calls to my_tower(N-2), and so on.\n",
    "'''"
   ]
  },
  {
   "cell_type": "code",
   "execution_count": 295,
   "id": "c8b7a80a",
   "metadata": {
    "scrolled": true
   },
   "outputs": [
    {
     "name": "stdout",
     "output_type": "stream",
     "text": [
      "moving disc 1 from tower 1 to tower 3.\n",
      "moving disc 2 from tower 1 to tower 2.\n",
      "moving disc 1 from tower 3 to tower 2.\n",
      "moving disc 3 from tower 1 to tower 3.\n",
      "moving disc 1 from tower 2 to tower 1.\n",
      "moving disc 2 from tower 2 to tower 3.\n",
      "moving disc 1 from tower 1 to tower 3.\n"
     ]
    }
   ],
   "source": [
    "# Towers of Hanoi Problem\n",
    "# The program is divided into two set of recursive function program\n",
    "def towers(N, from_T, to_T, middle_T):\n",
    "    if N != 0:\n",
    "# recursive call that moves N-1 stack fro\n",
    "# starting tower to middle tower        \n",
    "        towers(N-1, from_T, middle_T, to_T)\n",
    "        print(\"moving disc %d from tower %d to tower %d.\"\n",
    "              %(N, from_T, to_T))\n",
    "# recursive call that moves N-1 stack from\n",
    "# alternate tower to final tower\n",
    "        towers(N-1, middle_T, to_T, from_T)\n",
    "towers(3,1,3,2)          "
   ]
  },
  {
   "cell_type": "code",
   "execution_count": 296,
   "id": "23f891b0",
   "metadata": {},
   "outputs": [
    {
     "name": "stdout",
     "output_type": "stream",
     "text": [
      "[2, 4, 4, 6, 12, 23, 34, 56, 67, 90]\n"
     ]
    }
   ],
   "source": [
    "# Quicksort, sorting of list, using recursive\n",
    "\n",
    "def quicksort(lst):\n",
    "    \n",
    "    if len(lst) <= 1:\n",
    "        sorted_list = lst\n",
    "    else:\n",
    "        # Selecting pivot as the first element of the list\n",
    "        pivot = lst[0]\n",
    " # creating list for bigger, smaller and same elements as pivot       \n",
    "        bigger = []\n",
    "        smaller = []\n",
    "        same = []\n",
    "        \n",
    "        for item in lst:\n",
    "            if item > pivot:\n",
    "                bigger.append(item)\n",
    "            elif item < pivot:\n",
    "                smaller.append(item)\n",
    "            else:\n",
    "                same.append(item)\n",
    "# Writing the list with the recursive ability of function with bogger and smaller list as argument                 \n",
    "            sorted_list = quicksort(smaller) + same + quicksort(bigger)\n",
    "            \n",
    "    return sorted_list\n",
    "    \n",
    "list_a = quicksort([4,2,6,4,23,12,67,90,56,34])\n",
    "print(list_a)"
   ]
  },
  {
   "cell_type": "code",
   "execution_count": 297,
   "id": "8ca51ccd",
   "metadata": {},
   "outputs": [
    {
     "name": "stdout",
     "output_type": "stream",
     "text": [
      "350 5050\n"
     ]
    }
   ],
   "source": [
    "# Summing the list elements\n",
    "\n",
    "def sum_list(list_a):\n",
    "    sum = 0\n",
    "    for i in list_a:\n",
    "        sum += i\n",
    "    return sum\n",
    "\n",
    "output1 = sum_list([3,5,7,4,3,75,23,45,87,23,17,58])\n",
    "output2 = sum_list(range(1,101))\n",
    "print(output1, output2)"
   ]
  },
  {
   "cell_type": "code",
   "execution_count": 298,
   "id": "2f255004",
   "metadata": {},
   "outputs": [
    {
     "data": {
      "text/plain": [
       "array([ 1,  7, 17, 31, 49])"
      ]
     },
     "execution_count": 298,
     "metadata": {},
     "output_type": "execute_result"
    }
   ],
   "source": [
    "# Chebyshev Polynomial\n",
    "def cheby(n,x):\n",
    "    y = np.array([])\n",
    "    if n == 0:\n",
    "        y = 1\n",
    "    elif n == 1:\n",
    "        y = x\n",
    "    else:\n",
    "        y = 2*x*cheby(n-1,x) - cheby(n-2,x)\n",
    "    return y\n",
    "\n",
    "x = np.array([1,2,3,4,5])\n",
    "\n",
    "cheby(2,x)"
   ]
  },
  {
   "cell_type": "code",
   "execution_count": 299,
   "id": "cd38eab1",
   "metadata": {},
   "outputs": [
    {
     "data": {
      "text/plain": [
       "array([  1,  26,  99, 244, 485])"
      ]
     },
     "execution_count": 299,
     "metadata": {},
     "output_type": "execute_result"
    }
   ],
   "source": [
    "# Chebyshev Polynomial\n",
    "def cheby(n,x):\n",
    "    y = np.array([])\n",
    "    if n == 0:\n",
    "        return 1\n",
    "    elif n == 1:\n",
    "        return x\n",
    "    else:\n",
    "        return 2*x*cheby(n-1,x) - cheby(n-2,x)\n",
    "    \n",
    "\n",
    "x = np.array([1,2,3,4,5])\n",
    "\n",
    "cheby(3,x)"
   ]
  },
  {
   "cell_type": "code",
   "execution_count": 300,
   "id": "b958dca8",
   "metadata": {},
   "outputs": [
    {
     "data": {
      "text/plain": [
       "3"
      ]
     },
     "execution_count": 300,
     "metadata": {},
     "output_type": "execute_result"
    }
   ],
   "source": [
    "# Ackermann function\n",
    "# Output is incorrect\n",
    "def Acker(m,n):\n",
    "    if m==0:\n",
    "        return n+1\n",
    "    elif m>0 and n==1:\n",
    "        return Acker(m-1, 1)\n",
    "    else:\n",
    "        return Acker(m-1, Acker(m, n-1))\n",
    "    \n",
    "Acker(1,2)    \n"
   ]
  },
  {
   "cell_type": "code",
   "execution_count": 29,
   "id": "294cd4b8",
   "metadata": {},
   "outputs": [
    {
     "data": {
      "text/plain": [
       "[[1], [1, 1], [1, 2, 1], [1, 3, 3, 1], [1, 4, 6, 4, 1]]"
      ]
     },
     "execution_count": 29,
     "metadata": {},
     "output_type": "execute_result"
    }
   ],
   "source": [
    "def triangle(n):\n",
    "    if n == 0:\n",
    "        return []\n",
    "    elif n == 1:\n",
    "        return [[1]]\n",
    "    else:\n",
    "        new_row = [1]          # starting every row with 1\n",
    "        result = triangle(n-1)    \n",
    "#Storing all triangles of upto n-1 row such that the can be called in the function       \n",
    "        last_row = result[-1]     # Calling only the last row of the triangle \n",
    "        for i in range(len(last_row)-1):       # running loop over in-between elements,\n",
    "#such that 1st and last elements (1) is not included\n",
    "            new_row.append(last_row[i] + last_row[i+1])  \n",
    "#Since we are counting the 1st element of current row therefore the first element of the loops is actuallysecond\n",
    "#element of the required row, hence the index 0 of current loop is made up from elements of 0 and 1 of last row.'''\n",
    "        new_row += [1]      # Adding 1 as the last element to every row list\n",
    "        result.append(new_row)    \n",
    "#appending the nth row into the result list of existing n-1 rows of pascal triangle.\n",
    "#This currently added row can be used as the last row with command result[-1] for next row calculation.'''\n",
    "    return result\n",
    "\n",
    "triangle(5)\n"
   ]
  },
  {
   "cell_type": "code",
   "execution_count": null,
   "id": "44eb2ef9",
   "metadata": {},
   "outputs": [],
   "source": []
  },
  {
   "cell_type": "code",
   "execution_count": null,
   "id": "b0c429e1",
   "metadata": {},
   "outputs": [],
   "source": []
  },
  {
   "cell_type": "code",
   "execution_count": null,
   "id": "42c05e39",
   "metadata": {},
   "outputs": [],
   "source": []
  },
  {
   "cell_type": "code",
   "execution_count": null,
   "id": "395d2c58",
   "metadata": {},
   "outputs": [],
   "source": []
  },
  {
   "cell_type": "code",
   "execution_count": null,
   "id": "0663b32e",
   "metadata": {},
   "outputs": [],
   "source": []
  }
 ],
 "metadata": {
  "kernelspec": {
   "display_name": "Python 3",
   "language": "python",
   "name": "python3"
  },
  "language_info": {
   "codemirror_mode": {
    "name": "ipython",
    "version": 3
   },
   "file_extension": ".py",
   "mimetype": "text/x-python",
   "name": "python",
   "nbconvert_exporter": "python",
   "pygments_lexer": "ipython3",
   "version": "3.8.8"
  }
 },
 "nbformat": 4,
 "nbformat_minor": 5
}
