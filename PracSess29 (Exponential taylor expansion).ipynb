{
 "cells": [
  {
   "cell_type": "code",
   "execution_count": null,
   "id": "bf717565",
   "metadata": {},
   "outputs": [],
   "source": [
    "# Taylor series of exponential function"
   ]
  },
  {
   "cell_type": "markdown",
   "id": "1cd99313",
   "metadata": {},
   "source": [
    "The most common Taylor series approximation is the first order approximation, or linear approxi-\n",
    "mation. Intuitively, for “smooth” functions the linear approximation of the function around a point, a,\n",
    "is legitimate provided you stay sufficiently close to a. In other words, “smooth” functions look more\n",
    "and more like a line the more you zoom into any point. In the figure below this has been plotted in\n",
    "successive levels of zoom using a smooth function to illustrate the linear nature of functions locally.\n",
    "Linear approximations are useful tools when analyzing “complicated” functions locally."
   ]
  },
  {
   "cell_type": "code",
   "execution_count": 4,
   "id": "44cc17ac",
   "metadata": {},
   "outputs": [],
   "source": [
    "import numpy as np\n",
    "import matplotlib.pyplot as plt"
   ]
  },
  {
   "cell_type": "code",
   "execution_count": null,
   "id": "b40659a3",
   "metadata": {},
   "outputs": [],
   "source": [
    "x = np.linspace(0, 3, 30)\n",
    "y = np.exp(x)\n",
    "plt.figure(figsize = (14, 4.5))\n",
    "plt.subplot(1, 3, 1)\n",
    "plt.plot(x, y)\n",
    "plt.grid()\n",
    "plt.subplot(1, 3, 2)\n",
    "plt.plot(x, y)\n",
    "plt.grid()\n",
    "plt.xlim(1.7, 2.3)\n",
    "plt.ylim(5, 10)\n",
    "plt.subplot(1, 3, 3)\n",
    "plt.plot(x, y)\n",
    "plt.grid()\n",
    "plt.xlim(1.92, 2.08)\n",
    "plt.ylim(6.6, 8.2)\n",
    "plt.tight_layout()\n",
    "plt.show()"
   ]
  },
  {
   "cell_type": "code",
   "execution_count": null,
   "id": "2df94262",
   "metadata": {},
   "outputs": [],
   "source": []
  },
  {
   "cell_type": "code",
   "execution_count": null,
   "id": "b0873d67",
   "metadata": {},
   "outputs": [],
   "source": [
    "# With taylor series, and convergence around zero."
   ]
  },
  {
   "cell_type": "code",
   "execution_count": 8,
   "id": "44c160d9",
   "metadata": {},
   "outputs": [
    {
     "name": "stdout",
     "output_type": "stream",
     "text": [
      "2  and  2.718281828459045\n",
      "1.01  and  1.010050167084168\n"
     ]
    }
   ],
   "source": [
    "# the linear expansion of expo\n",
    "u_1 = 1\n",
    "u_2 = 0.01\n",
    "\n",
    "y_1 = 1 + u_1\n",
    "e_1 = np.exp(u_1)\n",
    "\n",
    "y_2 = 1 + u_2\n",
    "e_2 = np.exp(u_2)\n",
    "\n",
    "print(y_1, \" and \", e_1)\n",
    "print(y_2, \" and \", e_2)"
   ]
  },
  {
   "cell_type": "code",
   "execution_count": 57,
   "id": "0b386fa4",
   "metadata": {},
   "outputs": [],
   "source": [
    "# expo expansion value at individual x\n",
    "\n",
    "def expo(x, t):\n",
    "    f = 1   # Zero order definition\n",
    "    for n in range(1, t+1): # For nth order term inclusion, we will need to go upto n+1 terms\n",
    "        f = f + ((x**(n)/ np.math.factorial(n))) \n",
    "        \n",
    "    return f   "
   ]
  },
  {
   "cell_type": "code",
   "execution_count": 73,
   "id": "13b01706",
   "metadata": {},
   "outputs": [
    {
     "name": "stdout",
     "output_type": "stream",
     "text": [
      "Enter the po}wer of exponential: -30\n",
      "Enter the order of expansion: 110\n",
      "-6.0138631012393697e-05\n"
     ]
    }
   ],
   "source": [
    "# The linear exp would take input t =1 and so on....\n",
    "# For a large input of x, give large expansion order for correct answer\n",
    "u = float(input(\"Enter the po}wer of exponential: \"))\n",
    "t = int(input(\"Enter the order of expansion: \"))\n",
    "val = expo(u, t) \n",
    "print(val)"
   ]
  },
  {
   "cell_type": "code",
   "execution_count": 62,
   "id": "0ca0fe76",
   "metadata": {},
   "outputs": [
    {
     "data": {
      "text/plain": [
       "9.357622968840175e-14"
      ]
     },
     "execution_count": 62,
     "metadata": {},
     "output_type": "execute_result"
    }
   ],
   "source": [
    "np.exp(-30)"
   ]
  },
  {
   "cell_type": "code",
   "execution_count": null,
   "id": "20b15043",
   "metadata": {},
   "outputs": [],
   "source": []
  }
 ],
 "metadata": {
  "kernelspec": {
   "display_name": "Python 3",
   "language": "python",
   "name": "python3"
  },
  "language_info": {
   "codemirror_mode": {
    "name": "ipython",
    "version": 3
   },
   "file_extension": ".py",
   "mimetype": "text/x-python",
   "name": "python",
   "nbconvert_exporter": "python",
   "pygments_lexer": "ipython3",
   "version": "3.8.8"
  }
 },
 "nbformat": 4,
 "nbformat_minor": 5
}
