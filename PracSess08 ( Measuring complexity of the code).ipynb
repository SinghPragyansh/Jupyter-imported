{
 "cells": [
  {
   "cell_type": "code",
   "execution_count": 1,
   "id": "c6c4d5b8",
   "metadata": {},
   "outputs": [],
   "source": [
    "# Complexity"
   ]
  },
  {
   "cell_type": "code",
   "execution_count": 3,
   "id": "2f42a8af",
   "metadata": {},
   "outputs": [],
   "source": [
    "# Counting the number of basic operation\n",
    "\n",
    "def f(n):\n",
    "    out = 0\n",
    "    for i in range(n):\n",
    "        for j in range(n):\n",
    "            out = out + i*j\n",
    "    return out\n",
    "\n",
    "# The number of assignments is 2n2 + n + 1 because the line out += i*j is evaluated n2 times, j is\n",
    "#assigned n2 times, i is assigned n times, and the line out = 0 is assigned once. So, the complexity of\n",
    "#the function f can be described as 4n2 + n + 1."
   ]
  },
  {
   "cell_type": "code",
   "execution_count": 5,
   "id": "467ee2ce",
   "metadata": {},
   "outputs": [],
   "source": [
    "# A common notation for complexity is called Big-O notation [O(n)]. Big-O notation establishes the rela-\n",
    "# tionship in the growth of the number of basic operations with respect to the size of the input as the input\n",
    "# size becomes very large."
   ]
  },
  {
   "cell_type": "code",
   "execution_count": 11,
   "id": "19946c63",
   "metadata": {},
   "outputs": [
    {
     "data": {
      "text/plain": [
       "' There are ways to check the run time of the code in the Jupyter notebook. Introduced below are the\\nmagic commands to do that:\\n• %time: Get the run time of a single statement.\\n• %timeit: Get the repeated run time of a single statement.\\n• %%time: Get the run time of all the code in the cell.\\n• %%timeit: Get the repeated run time of a cell.\\n'"
      ]
     },
     "execution_count": 11,
     "metadata": {},
     "output_type": "execute_result"
    }
   ],
   "source": [
    "''' There are ways to check the run time of the code in the Jupyter notebook. Introduced below are the\n",
    "magic commands to do that:\n",
    "• %time: Get the run time of a single statement.\n",
    "• %timeit: Get the repeated run time of a single statement.\n",
    "• %%time: Get the run time of all the code in the cell.\n",
    "• %%timeit: Get the repeated run time of a cell.\n",
    "'''"
   ]
  },
  {
   "cell_type": "code",
   "execution_count": null,
   "id": "d89bff2a",
   "metadata": {},
   "outputs": [],
   "source": []
  }
 ],
 "metadata": {
  "kernelspec": {
   "display_name": "Python 3",
   "language": "python",
   "name": "python3"
  },
  "language_info": {
   "codemirror_mode": {
    "name": "ipython",
    "version": 3
   },
   "file_extension": ".py",
   "mimetype": "text/x-python",
   "name": "python",
   "nbconvert_exporter": "python",
   "pygments_lexer": "ipython3",
   "version": "3.8.8"
  }
 },
 "nbformat": 4,
 "nbformat_minor": 5
}
