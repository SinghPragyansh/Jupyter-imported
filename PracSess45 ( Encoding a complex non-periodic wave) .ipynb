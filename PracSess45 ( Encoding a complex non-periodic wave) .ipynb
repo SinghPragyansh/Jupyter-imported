{
 "cells": [
  {
   "cell_type": "markdown",
   "id": "191a3109",
   "metadata": {},
   "source": [
    "There are complicated cases of waves in the real world, which are not periodic. The Fourier Transform can be used for the\n",
    "purpose to study these waves. It decomposes any signal into a sum of fundamental sine and cosine\n",
    "waves that easily measures the frequency, amplitude, and phase. The Fourier transform can be applied to continuous or discrete waves."
   ]
  },
  {
   "cell_type": "markdown",
   "id": "28227cdf",
   "metadata": {},
   "source": [
    "Que: Generate three sine waves with frequencies 1, 4, and 7 Hz, amplitudes 3, 1, and 0.5, and\n",
    "phases being all zeros. Add these three sine waves together with a sampling rate of 100 Hz; it is\n",
    "the same signal shown at the beginning of the section"
   ]
  },
  {
   "cell_type": "code",
   "execution_count": 1,
   "id": "4bb7c071",
   "metadata": {},
   "outputs": [],
   "source": [
    "import numpy as np\n",
    "import matplotlib.pyplot as plt"
   ]
  },
  {
   "cell_type": "code",
   "execution_count": 15,
   "id": "92bb597d",
   "metadata": {},
   "outputs": [],
   "source": [
    "# sampling rate \n",
    "sr = 100\n",
    "s = 1.0/sr\n",
    "t = np.arange(0,1,s)"
   ]
  },
  {
   "cell_type": "code",
   "execution_count": 16,
   "id": "279b4ddb",
   "metadata": {},
   "outputs": [],
   "source": [
    "def sin_wave(freq, amplitude, phase, time_grid):\n",
    "    \n",
    "    omega = 2*np.pi*freq\n",
    "    y = amplitude*np.sin(omega*time_grid + phase)\n",
    "    \n",
    "    return y"
   ]
  },
  {
   "cell_type": "code",
   "execution_count": 17,
   "id": "ce8d7c2f",
   "metadata": {},
   "outputs": [],
   "source": [
    "freq_mu_1 = 1\n",
    "amp_1 = 3\n",
    "phase_1 = 0\n",
    "wave_1 = sin_wave(freq_mu_1, amp_1, phase_1, t)"
   ]
  },
  {
   "cell_type": "code",
   "execution_count": 18,
   "id": "9865e3ec",
   "metadata": {},
   "outputs": [],
   "source": [
    "freq_mu_2 = 4\n",
    "amp_2 = 1\n",
    "phase_2 = 0\n",
    "wave_2 = sin_wave(freq_mu_2, amp_2, phase_2, t)"
   ]
  },
  {
   "cell_type": "code",
   "execution_count": 19,
   "id": "a0ad731c",
   "metadata": {},
   "outputs": [],
   "source": [
    "freq_mu_3 = 7\n",
    "amp_3 = 0.5\n",
    "phase_3 = 0\n",
    "wave_3 = sin_wave(freq_mu_3, amp_3, phase_3, t)"
   ]
  },
  {
   "cell_type": "code",
   "execution_count": 20,
   "id": "56b3f572",
   "metadata": {},
   "outputs": [],
   "source": [
    "# wave fucntion values are stored separately in the wave equations\n",
    "# asall have same dimension, therefore we can perform the vector addition\n",
    "\n",
    "final_wave = wave_1 + wave_2 + wave_3"
   ]
  },
  {
   "cell_type": "code",
   "execution_count": 22,
   "id": "63ec126e",
   "metadata": {},
   "outputs": [
    {
     "data": {
      "text/plain": [
       "Text(0.5, 0, 'time-domain')"
      ]
     },
     "execution_count": 22,
     "metadata": {},
     "output_type": "execute_result"
    },
    {
     "data": {
      "image/png": "[encoded data removed]",
      "text/plain": [
       "<Figure size 432x288 with 1 Axes>"
      ]
     },
     "metadata": {
      "needs_background": "light"
     },
     "output_type": "display_data"
    }
   ],
   "source": [
    "plt.plot(t, final_wave, \"r\")\n",
    "plt.ylabel(\"Amplitude\")\n",
    "plt.xlabel(\"time-domain\")"
   ]
  },
  {
   "cell_type": "code",
   "execution_count": null,
   "id": "1881f2d7",
   "metadata": {},
   "outputs": [],
   "source": []
  },
  {
   "cell_type": "code",
   "execution_count": 23,
   "id": "fec1928c",
   "metadata": {},
   "outputs": [],
   "source": []
  },
  {
   "cell_type": "code",
   "execution_count": null,
   "id": "6b23e887",
   "metadata": {},
   "outputs": [],
   "source": []
  }
 ],
 "metadata": {
  "kernelspec": {
   "display_name": "Python 3",
   "language": "python",
   "name": "python3"
  },
  "language_info": {
   "codemirror_mode": {
    "name": "ipython",
    "version": 3
   },
   "file_extension": ".py",
   "mimetype": "text/x-python",
   "name": "python",
   "nbconvert_exporter": "python",
   "pygments_lexer": "ipython3",
   "version": "3.8.8"
  }
 },
 "nbformat": 4,
 "nbformat_minor": 5
}
