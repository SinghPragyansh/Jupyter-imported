{
 "cells": [
  {
   "cell_type": "code",
   "execution_count": 21,
   "id": "ffa448fb",
   "metadata": {},
   "outputs": [],
   "source": [
    "importt numpy as np \n",
    "y = 2\n",
    "x =y*2\n",
    "t = \" name\"\n",
    "z = []\n",
    "k = np.array([])"
   ]
  },
  {
   "cell_type": "code",
   "execution_count": 22,
   "id": "72f79ac7",
   "metadata": {},
   "outputs": [
    {
     "name": "stdout",
     "output_type": "stream",
     "text": [
      "Variable   Type       Data/Info\n",
      "-------------------------------\n",
      "k          ndarray    0: 0 elems, type `float64`, 0 bytes\n",
      "np         module     <module 'numpy' from '/ho<...>kages/numpy/__init__.py'>\n",
      "t          str         name\n",
      "x          int        4\n",
      "y          int        2\n",
      "z          list       n=0\n"
     ]
    }
   ],
   "source": [
    "%whos\n"
   ]
  },
  {
   "cell_type": "code",
   "execution_count": 26,
   "id": "00956afb",
   "metadata": {},
   "outputs": [
    {
     "data": {
      "text/plain": [
       "' '"
      ]
     },
     "execution_count": 26,
     "metadata": {},
     "output_type": "execute_result"
    }
   ],
   "source": [
    "t[0]"
   ]
  },
  {
   "cell_type": "code",
   "execution_count": 34,
   "id": "8135eac6",
   "metadata": {},
   "outputs": [
    {
     "data": {
      "text/plain": [
       "'name'"
      ]
     },
     "execution_count": 34,
     "metadata": {},
     "output_type": "execute_result"
    }
   ],
   "source": [
    "t[1:]"
   ]
  },
  {
   "cell_type": "code",
   "execution_count": 28,
   "id": "8d3b48c2",
   "metadata": {},
   "outputs": [
    {
     "data": {
      "text/plain": [
       "' na'"
      ]
     },
     "execution_count": 28,
     "metadata": {},
     "output_type": "execute_result"
    }
   ],
   "source": [
    "t[:3]"
   ]
  },
  {
   "cell_type": "code",
   "execution_count": 29,
   "id": "10c00a78",
   "metadata": {},
   "outputs": [
    {
     "data": {
      "text/plain": [
       "' name'"
      ]
     },
     "execution_count": 29,
     "metadata": {},
     "output_type": "execute_result"
    }
   ],
   "source": [
    "t[:]"
   ]
  },
  {
   "cell_type": "code",
   "execution_count": 30,
   "id": "af08660d",
   "metadata": {},
   "outputs": [
    {
     "data": {
      "text/plain": [
       "' name'"
      ]
     },
     "execution_count": 30,
     "metadata": {},
     "output_type": "execute_result"
    }
   ],
   "source": [
    "t[:5]"
   ]
  },
  {
   "cell_type": "code",
   "execution_count": 31,
   "id": "f806ac77",
   "metadata": {},
   "outputs": [
    {
     "data": {
      "text/plain": [
       "'m'"
      ]
     },
     "execution_count": 31,
     "metadata": {},
     "output_type": "execute_result"
    }
   ],
   "source": [
    "t[3:4]"
   ]
  },
  {
   "cell_type": "code",
   "execution_count": 35,
   "id": "db44c4b1",
   "metadata": {},
   "outputs": [
    {
     "data": {
      "text/plain": [
       "' ae'"
      ]
     },
     "execution_count": 35,
     "metadata": {},
     "output_type": "execute_result"
    }
   ],
   "source": [
    "#Alternate character in the string\n",
    "t[::2]"
   ]
  },
  {
   "cell_type": "code",
   "execution_count": 38,
   "id": "610c49c8",
   "metadata": {},
   "outputs": [
    {
     "name": "stdout",
     "output_type": "stream",
     "text": [
      "Name is Bond, James Bond!\n"
     ]
    }
   ],
   "source": [
    "str_a = \"Name is Bond, \"\n",
    "str_b = \"James Bond!\"\n",
    "print(str_a+str_b)"
   ]
  },
  {
   "cell_type": "code",
   "execution_count": 42,
   "id": "30fc44f9",
   "metadata": {},
   "outputs": [
    {
     "data": {
      "text/plain": [
       "'NAME IS BOND, '"
      ]
     },
     "execution_count": 42,
     "metadata": {},
     "output_type": "execute_result"
    }
   ],
   "source": [
    "str_a.upper()"
   ]
  },
  {
   "cell_type": "code",
   "execution_count": 43,
   "id": "d4e72402",
   "metadata": {},
   "outputs": [
    {
     "data": {
      "text/plain": [
       "'james bond!'"
      ]
     },
     "execution_count": 43,
     "metadata": {},
     "output_type": "execute_result"
    }
   ],
   "source": [
    "str_b.lower()"
   ]
  },
  {
   "cell_type": "code",
   "execution_count": 49,
   "id": "eaff4e4c",
   "metadata": {},
   "outputs": [
    {
     "data": {
      "text/plain": [
       "1"
      ]
     },
     "execution_count": 49,
     "metadata": {},
     "output_type": "execute_result"
    }
   ],
   "source": [
    "str_a.count(\"B\")"
   ]
  },
  {
   "cell_type": "code",
   "execution_count": 53,
   "id": "07dc43c1",
   "metadata": {},
   "outputs": [
    {
     "data": {
      "text/plain": [
       "'Name is BOND, '"
      ]
     },
     "execution_count": 53,
     "metadata": {},
     "output_type": "execute_result"
    }
   ],
   "source": [
    "str_a.replace(\"Bond\",\"BOND\")"
   ]
  },
  {
   "cell_type": "code",
   "execution_count": 58,
   "id": "c3214676",
   "metadata": {},
   "outputs": [
    {
     "name": "stdout",
     "output_type": "stream",
     "text": [
      "I study Science and What about you \n"
     ]
    }
   ],
   "source": [
    "str_c = \"I study Science\"\n",
    "str_d = \"What about\"\n",
    "print(\"%s and %s you \"%(str_c,str_d))"
   ]
  },
  {
   "cell_type": "code",
   "execution_count": 135,
   "id": "a0214723",
   "metadata": {},
   "outputs": [
    {
     "name": "stdout",
     "output_type": "stream",
     "text": [
      "[\"Everything's\", 'gonna', 'be', 'allright ', 1, 2, 3, 4, 5]\n"
     ]
    }
   ],
   "source": [
    "# List can hold any type of data: Numerical, string etc\n",
    "list_a = [\"Everything's\",\"gonna\",\"be\",\"all\" \"right \"]\n",
    "list_b = [1,2,3,4,5]\n",
    "# Combining two lists to give single list\n",
    "list_c = list_a + list_b      \n",
    "print(list_c)"
   ]
  },
  {
   "cell_type": "code",
   "execution_count": 136,
   "id": "f368676d",
   "metadata": {},
   "outputs": [
    {
     "data": {
      "text/plain": [
       "[\"Everything's\", 'gonna', 'be']"
      ]
     },
     "execution_count": 136,
     "metadata": {},
     "output_type": "execute_result"
    }
   ],
   "source": [
    "list_c[:3]"
   ]
  },
  {
   "cell_type": "code",
   "execution_count": 137,
   "id": "aebbbba8",
   "metadata": {},
   "outputs": [
    {
     "data": {
      "text/plain": [
       "[1, 2, 3, 4, 5]"
      ]
     },
     "execution_count": 137,
     "metadata": {},
     "output_type": "execute_result"
    }
   ],
   "source": [
    "list_c[4:]"
   ]
  },
  {
   "cell_type": "code",
   "execution_count": 138,
   "id": "dced5ccc",
   "metadata": {},
   "outputs": [
    {
     "data": {
      "text/plain": [
       "[1, 2, 3, 4]"
      ]
     },
     "execution_count": 138,
     "metadata": {},
     "output_type": "execute_result"
    }
   ],
   "source": [
    "list_c[4:-1]"
   ]
  },
  {
   "cell_type": "code",
   "execution_count": 139,
   "id": "4ed4d01b",
   "metadata": {},
   "outputs": [
    {
     "data": {
      "text/plain": [
       "9"
      ]
     },
     "execution_count": 139,
     "metadata": {},
     "output_type": "execute_result"
    }
   ],
   "source": [
    "len(list_c)"
   ]
  },
  {
   "cell_type": "code",
   "execution_count": 140,
   "id": "4fe980b9",
   "metadata": {},
   "outputs": [
    {
     "data": {
      "text/plain": [
       "[[\"Everything's\", 'gonna', 'be', 'allright '], [1, 2, 3, 4, 5]]"
      ]
     },
     "execution_count": 140,
     "metadata": {},
     "output_type": "execute_result"
    }
   ],
   "source": [
    "# Importing list under list\n",
    "list_d =[list_a,list_b]\n",
    "list_d   "
   ]
  },
  {
   "cell_type": "code",
   "execution_count": 141,
   "id": "04a55418",
   "metadata": {},
   "outputs": [],
   "source": [
    "list_b.append(6)"
   ]
  },
  {
   "cell_type": "code",
   "execution_count": 142,
   "id": "fb145ce7",
   "metadata": {},
   "outputs": [
    {
     "name": "stdout",
     "output_type": "stream",
     "text": [
      "[1, 2, 3, 4, 5, 6]\n"
     ]
    }
   ],
   "source": [
    "print(list_b)"
   ]
  },
  {
   "cell_type": "code",
   "execution_count": 143,
   "id": "7c5c1b0f",
   "metadata": {},
   "outputs": [
    {
     "data": {
      "text/plain": [
       "[1, 2, 3, 4, 5, 6, \"Everything's\", 'gonna', 'be', 'allright ']"
      ]
     },
     "execution_count": 143,
     "metadata": {},
     "output_type": "execute_result"
    }
   ],
   "source": [
    "list_b+list_a"
   ]
  },
  {
   "cell_type": "code",
   "execution_count": 144,
   "id": "797e74c8",
   "metadata": {},
   "outputs": [],
   "source": [
    "# Addition of elements in the list, according to our position\n",
    "list_b.insert(3,3.5)"
   ]
  },
  {
   "cell_type": "code",
   "execution_count": 145,
   "id": "d3c06aa4",
   "metadata": {},
   "outputs": [
    {
     "data": {
      "text/plain": [
       "[1, 2, 3, 3.5, 4, 5, 6]"
      ]
     },
     "execution_count": 145,
     "metadata": {},
     "output_type": "execute_result"
    }
   ],
   "source": [
    "list_b"
   ]
  },
  {
   "cell_type": "code",
   "execution_count": 146,
   "id": "bbda7a18",
   "metadata": {},
   "outputs": [],
   "source": [
    "list_b.remove(3.5)   # removing the element itself"
   ]
  },
  {
   "cell_type": "code",
   "execution_count": 147,
   "id": "030bf545",
   "metadata": {},
   "outputs": [
    {
     "data": {
      "text/plain": [
       "[1, 2, 3, 4, 5, 6]"
      ]
     },
     "execution_count": 147,
     "metadata": {},
     "output_type": "execute_result"
    }
   ],
   "source": [
    "list_b"
   ]
  },
  {
   "cell_type": "code",
   "execution_count": 148,
   "id": "687d3549",
   "metadata": {},
   "outputs": [],
   "source": [
    "del list_b[5]       # removing according to the index"
   ]
  },
  {
   "cell_type": "code",
   "execution_count": 149,
   "id": "681249ff",
   "metadata": {},
   "outputs": [
    {
     "data": {
      "text/plain": [
       "[1, 2, 3, 4, 5]"
      ]
     },
     "execution_count": 149,
     "metadata": {},
     "output_type": "execute_result"
    }
   ],
   "source": [
    "list_b"
   ]
  },
  {
   "cell_type": "code",
   "execution_count": 150,
   "id": "55cbe1e9",
   "metadata": {},
   "outputs": [
    {
     "data": {
      "text/plain": [
       "False"
      ]
     },
     "execution_count": 150,
     "metadata": {},
     "output_type": "execute_result"
    }
   ],
   "source": [
    "6 in list_b"
   ]
  },
  {
   "cell_type": "code",
   "execution_count": 154,
   "id": "31fa14d3",
   "metadata": {},
   "outputs": [
    {
     "data": {
      "text/plain": [
       "['O', 'k', 'a', 'y', ' ', 'G', 'r', 'e', 'a', 't']"
      ]
     },
     "execution_count": 154,
     "metadata": {},
     "output_type": "execute_result"
    }
   ],
   "source": [
    "# Turning string into the list of charcater itself\n",
    "list(\"Okay Great\")"
   ]
  },
  {
   "cell_type": "code",
   "execution_count": null,
   "id": "17892001",
   "metadata": {},
   "outputs": [],
   "source": [
    "# TUPLE\n",
    "#These are immutable (can not changed/interefered) and therefore different from list"
   ]
  },
  {
   "cell_type": "code",
   "execution_count": 155,
   "id": "1a0d2825",
   "metadata": {},
   "outputs": [],
   "source": [
    "tuple_a = (1,2,3,4,5)"
   ]
  },
  {
   "cell_type": "code",
   "execution_count": 159,
   "id": "24d53a37",
   "metadata": {},
   "outputs": [
    {
     "data": {
      "text/plain": [
       "5"
      ]
     },
     "execution_count": 159,
     "metadata": {},
     "output_type": "execute_result"
    }
   ],
   "source": [
    "len(tuple_a)"
   ]
  },
  {
   "cell_type": "code",
   "execution_count": 160,
   "id": "db7f1aca",
   "metadata": {},
   "outputs": [
    {
     "data": {
      "text/plain": [
       "(1, 2, 3)"
      ]
     },
     "execution_count": 160,
     "metadata": {},
     "output_type": "execute_result"
    }
   ],
   "source": [
    "tuple_a[:3]"
   ]
  },
  {
   "cell_type": "code",
   "execution_count": 162,
   "id": "4bfad17f",
   "metadata": {},
   "outputs": [
    {
     "data": {
      "text/plain": [
       "('Great', ' Idea')"
      ]
     },
     "execution_count": 162,
     "metadata": {},
     "output_type": "execute_result"
    }
   ],
   "source": [
    "tuple_b = (\"Great\",\" Idea\")\n",
    "tuple_b"
   ]
  },
  {
   "cell_type": "code",
   "execution_count": 166,
   "id": "7dae454c",
   "metadata": {},
   "outputs": [
    {
     "data": {
      "text/plain": [
       "[('apple', 3), ('orange', 5), ('banana', 10)]"
      ]
     },
     "execution_count": 166,
     "metadata": {},
     "output_type": "execute_result"
    }
   ],
   "source": [
    "list_e = [(\"apple\",3),(\"orange\",5),(\"banana\",10)]\n",
    "list_e"
   ]
  },
  {
   "cell_type": "code",
   "execution_count": 169,
   "id": "4c3ac68c",
   "metadata": {},
   "outputs": [
    {
     "name": "stdout",
     "output_type": "stream",
     "text": [
      "('apple', 3) ('orange', 5) ('banana', 10)\n"
     ]
    }
   ],
   "source": [
    "# Let's assign the chosen variable to the elements of list \n",
    "j,k,l = list_e\n",
    "print(j,k,l)\n",
    "# Note, the varibales must be on the LHS"
   ]
  },
  {
   "cell_type": "code",
   "execution_count": 170,
   "id": "098f54b3",
   "metadata": {},
   "outputs": [],
   "source": [
    "# SET\n",
    "#It is a type that can store an unordered collection with no duplicate elements. It can also support mathematical operations like union, intersection, difference, symmetric difference. It is defined by using a pair of braces, { }, and its elements are separated bycommas."
   ]
  },
  {
   "cell_type": "code",
   "execution_count": 173,
   "id": "d0ebbe88",
   "metadata": {},
   "outputs": [
    {
     "data": {
      "text/plain": [
       "{1, 2, 3, 4, 5, 7, 9, 10}"
      ]
     },
     "execution_count": 173,
     "metadata": {},
     "output_type": "execute_result"
    }
   ],
   "source": [
    "set_a = set([2,1,4,5,3,2,7,1,9,10])\n",
    "set_a   # No Repetition in the list elements"
   ]
  },
  {
   "cell_type": "code",
   "execution_count": 183,
   "id": "90d6b4c5",
   "metadata": {},
   "outputs": [
    {
     "name": "stdout",
     "output_type": "stream",
     "text": [
      "{'B', 'n', 'a'}\n"
     ]
    }
   ],
   "source": [
    "# Let' s find the unique elements in the tuple or list containing string\n",
    "set_b = set(\"Banana\")\n",
    "print(set_b)"
   ]
  },
  {
   "cell_type": "code",
   "execution_count": 185,
   "id": "9b5b2166",
   "metadata": {},
   "outputs": [
    {
     "data": {
      "text/plain": [
       "{'Banana', 'Orange'}"
      ]
     },
     "execution_count": 185,
     "metadata": {},
     "output_type": "execute_result"
    }
   ],
   "source": [
    "set_c =set((\"Banana\",\"Orange\"))\n",
    "set_c"
   ]
  },
  {
   "cell_type": "code",
   "execution_count": 194,
   "id": "72055ad2",
   "metadata": {},
   "outputs": [
    {
     "name": "stdout",
     "output_type": "stream",
     "text": [
      "{1, 2, 3, 4, 5, 'n', 7, 'a', 9, 10, 'B'}\n"
     ]
    }
   ],
   "source": [
    "set_d = set_a.union(set_b)\n",
    "print(set_d)"
   ]
  },
  {
   "cell_type": "code",
   "execution_count": 195,
   "id": "88980661",
   "metadata": {},
   "outputs": [
    {
     "data": {
      "text/plain": [
       "{1, 10, 2, 3, 4, 5, 7, 9, 'B', 'Banana', 'Orange', 'a', 'n'}"
      ]
     },
     "execution_count": 195,
     "metadata": {},
     "output_type": "execute_result"
    }
   ],
   "source": [
    "set_a.union(set_b.union(set_c))"
   ]
  },
  {
   "cell_type": "code",
   "execution_count": 196,
   "id": "19bfbb65",
   "metadata": {},
   "outputs": [
    {
     "data": {
      "text/plain": [
       "{1, 2, 3, 4, 5, 7, 9, 10}"
      ]
     },
     "execution_count": 196,
     "metadata": {},
     "output_type": "execute_result"
    }
   ],
   "source": [
    "set_a.intersection(set_d)"
   ]
  },
  {
   "cell_type": "code",
   "execution_count": 200,
   "id": "c1cfa9e1",
   "metadata": {},
   "outputs": [
    {
     "data": {
      "text/plain": [
       "True"
      ]
     },
     "execution_count": 200,
     "metadata": {},
     "output_type": "execute_result"
    }
   ],
   "source": [
    "set_a.issubset({1,2,3,4,5,6,7,8,9,10})"
   ]
  },
  {
   "cell_type": "code",
   "execution_count": 201,
   "id": "6075d0b8",
   "metadata": {},
   "outputs": [
    {
     "data": {
      "text/plain": [
       "True"
      ]
     },
     "execution_count": 201,
     "metadata": {},
     "output_type": "execute_result"
    }
   ],
   "source": [
    "set_a.issubset(set_d)"
   ]
  },
  {
   "cell_type": "code",
   "execution_count": 203,
   "id": "e3f6f687",
   "metadata": {},
   "outputs": [],
   "source": [
    "# DICTIONARY\n",
    "#dictionaries are indexed by keys, which can be a string, number, or even tuple (but not list). A dictionary comprises key-value pairs, and each key maps to a corresponding value."
   ]
  },
  {
   "cell_type": "code",
   "execution_count": 207,
   "id": "59ef4bfc",
   "metadata": {},
   "outputs": [
    {
     "data": {
      "text/plain": [
       "{'Yup': 3, 'Great': 1, 'Idea': 2, 4: 'You Got this'}"
      ]
     },
     "execution_count": 207,
     "metadata": {},
     "output_type": "execute_result"
    }
   ],
   "source": [
    "dict_a = {\"Yup\":3,\"Great\":1,\"Idea\":2,4:\"You Got this\"}\n",
    "dict_a"
   ]
  },
  {
   "cell_type": "code",
   "execution_count": 208,
   "id": "7e4bfd94",
   "metadata": {},
   "outputs": [
    {
     "data": {
      "text/plain": [
       "3"
      ]
     },
     "execution_count": 208,
     "metadata": {},
     "output_type": "execute_result"
    }
   ],
   "source": [
    "dict_a[\"Yup\"]"
   ]
  },
  {
   "cell_type": "code",
   "execution_count": 209,
   "id": "cd8b7d3d",
   "metadata": {},
   "outputs": [
    {
     "data": {
      "text/plain": [
       "'You Got this'"
      ]
     },
     "execution_count": 209,
     "metadata": {},
     "output_type": "execute_result"
    }
   ],
   "source": [
    "dict_a[4]"
   ]
  },
  {
   "cell_type": "code",
   "execution_count": 211,
   "id": "262248aa",
   "metadata": {},
   "outputs": [],
   "source": [
    "# We are assigning the data type on the RHS of : to the data type on the LHS\n",
    "# The info stored on the RHS is callable with the dictionary by invoking LHS data similar to index\n",
    "# Therefore, the Data on LHS acts like an index"
   ]
  },
  {
   "cell_type": "code",
   "execution_count": null,
   "id": "6adfc414",
   "metadata": {},
   "outputs": [],
   "source": []
  }
 ],
 "metadata": {
  "kernelspec": {
   "display_name": "Python 3",
   "language": "python",
   "name": "python3"
  },
  "language_info": {
   "codemirror_mode": {
    "name": "ipython",
    "version": 3
   },
   "file_extension": ".py",
   "mimetype": "text/x-python",
   "name": "python",
   "nbconvert_exporter": "python",
   "pygments_lexer": "ipython3",
   "version": "3.8.8"
  }
 },
 "nbformat": 4,
 "nbformat_minor": 5
}
