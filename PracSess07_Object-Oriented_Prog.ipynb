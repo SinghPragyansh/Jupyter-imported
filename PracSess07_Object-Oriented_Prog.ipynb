{
 "cells": [
  {
   "cell_type": "markdown",
   "id": "57b18bc3",
   "metadata": {},
   "source": [
    "Class, which is a blueprint used to\n",
    "define a logical grouping of data and functions, and object, which is an instance of the defined class with actual values.\n",
    "The __init__ is one of the special\n",
    "methods in Python classes that is run as soon as an object of a class is instantiated (created). It assigns initial values to the object before it is ready to be used.\n",
    "The other_methods functions are used to define the instance methods that will be applied on the attributes, similar to functions we use normally. A class instance method must have this \"self\" extra argument as the first argument. This particular argument refers to the object itself; conventionally, we use self to name it. Instance\n",
    "methods can freely access attributes and other methods in the same object by using this self parameter."
   ]
  },
  {
   "cell_type": "code",
   "execution_count": 75,
   "id": "289851cb",
   "metadata": {},
   "outputs": [
    {
     "name": "stdout",
     "output_type": "stream",
     "text": [
      "my name is Shyam\n"
     ]
    }
   ],
   "source": [
    "class Student1():\n",
    "    def __init__(self, sid, name, gender):\n",
    "        self.sid = sid\n",
    "        self.name = name\n",
    "        self.gender = gender\n",
    "        self.type = \"learning\"\n",
    "        \n",
    "    def name_what(self):\n",
    "        print (\"my name is \" + self.name)\n",
    "        \n",
    "stu = Student1( '23330', 'Shyam','Male')\n",
    "stu.name_what()"
   ]
  },
  {
   "cell_type": "code",
   "execution_count": 78,
   "id": "3f4d7157",
   "metadata": {},
   "outputs": [
    {
     "name": "stdout",
     "output_type": "stream",
     "text": [
      "The name is = Shyam\n",
      "The name is = Shyam\n",
      "Student I'd is:  42342\n",
      "Score is:  54\n"
     ]
    }
   ],
   "source": [
    "class student2():\n",
    "    def __init__(self, name, sid, gender):\n",
    "        self.name = name\n",
    "        self.sid = sid\n",
    "        self.gender = gender\n",
    "        self.type = \"learning\"\n",
    "    \n",
    "    def name_what(self):\n",
    "        print(\"The name is =\", self.name)\n",
    "        \n",
    "    def report(self, score):\n",
    "        self.name_what()     # Calling another method within the class\n",
    "        print(\"Student I'd is: \", self.sid)\n",
    "        print(\"Score is: \", str(score))  # str is for string nature of input\n",
    "\n",
    "st = student2( \"Shyam\", \"42342\", \"male\")  \n",
    "st.name_what()\n",
    "st.report(54)"
   ]
  },
  {
   "cell_type": "code",
   "execution_count": 104,
   "id": "885ed478",
   "metadata": {},
   "outputs": [
    {
     "name": "stdout",
     "output_type": "stream",
     "text": [
      "The name is:  Susan\n",
      "The name is:  Mike\n",
      "learning\n",
      "M\n"
     ]
    }
   ],
   "source": [
    "class Student():\n",
    "    def __init__(self, sid, name , gender):\n",
    "        self.sid = sid\n",
    "        self.name = name\n",
    "        self.gender = gender\n",
    "        self.type = \"learning\"\n",
    "    def name_it(self):\n",
    "        print(\"The name is: \",self.name)\n",
    "    def report(self, score):\n",
    "        self.name_it()     # Calling another method within the class\n",
    "        print(\"Student I'd is: \", self.sid)\n",
    "        print(\"Score is: \", str(score))  # str is for string nature of in\n",
    "        \n",
    "student1 = Student(\"001\", \"Susan\", \"F\")     # Object_1\n",
    "student2 = Student(\"002\", \"Mike\", \"M\")      # Object_2\n",
    "\n",
    "# Two objects with two different set of values (info)\n",
    "# Each object is an instance of class Student \n",
    "# and has different set of attributes \n",
    "\n",
    "student1.name_it()    \n",
    "student2.name_it()             # call to get the method or the fucntion\n",
    "print(student2.type)         \n",
    "print(student2.gender)         # call to get the access of attribute"
   ]
  },
  {
   "cell_type": "code",
   "execution_count": 97,
   "id": "fd847603",
   "metadata": {},
   "outputs": [
    {
     "name": "stdout",
     "output_type": "stream",
     "text": [
      "The name is:  Susan\n",
      "Student I'd is:  001\n",
      "Score is:  87\n"
     ]
    }
   ],
   "source": [
    "# Calling the method/fucntion 'Report'\n",
    "student1.report(87)"
   ]
  },
  {
   "cell_type": "code",
   "execution_count": 98,
   "id": "0811beb3",
   "metadata": {},
   "outputs": [
    {
     "name": "stdout",
     "output_type": "stream",
     "text": [
      "The name is:  Mike\n",
      "Student I'd is:  002\n",
      "Score is:  78\n"
     ]
    }
   ],
   "source": [
    "student2.report(78)"
   ]
  },
  {
   "cell_type": "code",
   "execution_count": 127,
   "id": "2497d87b",
   "metadata": {},
   "outputs": [
    {
     "name": "stdout",
     "output_type": "stream",
     "text": [
      "The name is:  Praveen\n",
      "I'd is:  001\n",
      "score is:  97\n",
      "we have 2 -instances in total\n",
      "The name is:  Kumar\n",
      "I'd is:  002\n",
      "score is:  83\n",
      "we have 2 -instances in total\n"
     ]
    }
   ],
   "source": [
    "# Creating a attribute inside the class itself\n",
    "\n",
    "class Student():\n",
    "    n = 0\n",
    "    \n",
    "    def __init__(self, sid, name, gender):\n",
    "        self.sid =sid\n",
    "        self.name = name\n",
    "        self.gender = gender\n",
    "        self.type = \"learning\"\n",
    "        Student.n +=1  # Counts the object creation, counts as the soon as the attributes of class is imported from the function\n",
    "    \n",
    "    def name_it(self):\n",
    "        print(\"The name is: \", self.name)\n",
    "        \n",
    "    def report(self, score):\n",
    "        self.name_it()\n",
    "        print(\"I'd is: \", self.sid)\n",
    "        print(\"score is: \", str(score))\n",
    "        \n",
    "    def num_instances(self):\n",
    "        print(f\"we have {Student.n} -instances in total\")\n",
    "     \n",
    "student_a = Student(\"001\",\"Praveen\",\"M\")\n",
    "student_b = Student(\"002\",\"Kumar\",\"M\")   \n",
    "\n",
    "student_a.report(97)\n",
    "student_a.num_instances()\n",
    "\n",
    "\n",
    "student_b.report(83)\n",
    "student_b.num_instances()\n",
    "\n",
    "# num_instance would count number of object as long as object is \n",
    "# introduced, the counting does not depend upon wheter we are printing\n",
    "# the info of all introduced object"
   ]
  },
  {
   "cell_type": "markdown",
   "id": "292da397",
   "metadata": {},
   "source": [
    "There are three more important concepts: (1) inheritance, which makes the\n",
    "OOP code more modular, easier to reuse, and capable of building a relationship between classes;\n",
    "(2) encapsulation, which can hide some of the private details of a class from other objects; and\n",
    "(3) polymorphism, which allows us to use a common operation in different ways."
   ]
  },
  {
   "cell_type": "markdown",
   "id": "229a7289",
   "metadata": {},
   "source": [
    "Inheritance allows us to define a class that inherits all the methods and attributes from another class."
   ]
  },
  {
   "cell_type": "code",
   "execution_count": 129,
   "id": "330d20c4",
   "metadata": {},
   "outputs": [],
   "source": [
    "# Convention denotes the new class as child class, and the one that it inherits from is called the parent class or superclass.\n",
    "# structure for basic inheritance is class ClassName(superclass).\n",
    "# Usually, the parent class is a general type while the child class is a specific type."
   ]
  },
  {
   "cell_type": "code",
   "execution_count": 177,
   "id": "02d7a519",
   "metadata": {},
   "outputs": [
    {
     "name": "stdout",
     "output_type": "stream",
     "text": [
      "we have 10 points saved\n",
      "The name is:  sensor_a\n",
      "The location is: Varansi\n",
      "The recording data:  23-12-23\n",
      "The time/s is/are:  [ 1  2  3  4  5  6  7  8  9 10]\n"
     ]
    },
    {
     "data": {
      "text/plain": [
       "{'time': array([ 1,  2,  3,  4,  5,  6,  7,  8,  9, 10]),\n",
       " 'data': array([-1,  5, -6,  7, -9,  6, -6, -6,  9, -9])}"
      ]
     },
     "execution_count": 177,
     "metadata": {},
     "output_type": "execute_result"
    }
   ],
   "source": [
    "import numpy as np\n",
    "# Creating Sensor Class\n",
    "class Sensor():\n",
    "    def __init__(self, name, location, record_date):\n",
    "        self.name = name \n",
    "        self.location = location\n",
    "        self.record_date = record_date\n",
    "        self.data = {}  # Creating additional attribute,apart from attributes introduced in the object\n",
    "        \n",
    "    def add_data(self, t , data):    # using this fucntion to get the input for data dictionary and time t\n",
    "        self.data[\"time\"] = t      # data being the dict is making use of \"time\" and \"data\" as the key for the variables \n",
    "        self.data[\"data\"] = data\n",
    "        print(f\"we have {len(data)} points saved\")\n",
    "        \n",
    "    def clear_data(self): \n",
    "        self.data = {}         # makes the data dict, empty once again.\n",
    "        print(\"data cleared\")\n",
    "        \n",
    "    def show_info(self):\n",
    "        print(\"The name is: \", self.name)\n",
    "        print(\"The location is:\", self.location)\n",
    "        print(\"The recording data: \", self.record_date)\n",
    "        print(\"The time/s is/are: \", self.data[\"time\"])\n",
    "        \n",
    "# Creating Sensor Object        \n",
    "sensor1 = Sensor(\"sensor_a\",\"Varansi\",\"23-12-23\")\n",
    "data_array = np.random.randint(-10,10,10)\n",
    "\n",
    "sensor1.add_data(np.arange(1,11,1), data_array)    # the fucntion to export additional attributes into the class\n",
    "\n",
    "sensor1.show_info()\n",
    "\n",
    "sensor1.data              # calling the attribute itself\n",
    "\n"
   ]
  },
  {
   "cell_type": "code",
   "execution_count": 178,
   "id": "7fa51934",
   "metadata": {},
   "outputs": [],
   "source": [
    "# Inheritance Class"
   ]
  },
  {
   "cell_type": "code",
   "execution_count": 188,
   "id": "34ce0430",
   "metadata": {},
   "outputs": [
    {
     "name": "stdout",
     "output_type": "stream",
     "text": [
      "I am accelerometer!\n",
      "we have 10 points saved\n",
      "The name is:  accel_1\n",
      "The location is: Delhi\n",
      "The recording data:  4-3-2020\n",
      "The time/s is/are:  [0 1 2 3 4 5 6 7 8 9]\n"
     ]
    },
    {
     "data": {
      "text/plain": [
       "{'time': array([0, 1, 2, 3, 4, 5, 6, 7, 8, 9]),\n",
       " 'data': array([-5, 12, 12, -5, 13, 11,  4, -4,  1,  1])}"
      ]
     },
     "execution_count": 188,
     "metadata": {},
     "output_type": "execute_result"
    }
   ],
   "source": [
    "# Creating an child class of sensor\n",
    "# Appending some extra attributes to the fucntions of original class\n",
    "class Accelerometer(Sensor):\n",
    "    \n",
    "    def show_type(self):         # Additional function\n",
    "        print(\"I am accelerometer!\")\n",
    "        \n",
    "acc = Accelerometer(\"accel_1\", \"Delhi\", \"4-3-2020\")   \n",
    "acc.show_type()\n",
    "data_array_2 = np.random.randint(-5,15,10)\n",
    "acc.add_data(np.arange(10), data_array_2)\n",
    "acc.show_info()\n",
    "acc.data"
   ]
  },
  {
   "cell_type": "code",
   "execution_count": 186,
   "id": "49150c8c",
   "metadata": {},
   "outputs": [],
   "source": [
    "# Inhereting and method over-riding is when we inherit from a parent class, we can change the implementation of a method provided by the parent class"
   ]
  },
  {
   "cell_type": "code",
   "execution_count": 194,
   "id": "5510e3d2",
   "metadata": {},
   "outputs": [
    {
     "name": "stdout",
     "output_type": "stream",
     "text": [
      "I am Advance Accelero and created at IIT !\n"
     ]
    }
   ],
   "source": [
    "class IITAcc(Accelerometer):\n",
    "    \n",
    "    def show_type(self):   # This function will override the function already existing in parent class, but for this class specifically\n",
    "        print(f\"I am {self.name} and created at IIT !\")\n",
    "    \n",
    "acc_2 = IITAcc(\"Advance Accelero\", \"Chennai\", \"14-09-2021\")\n",
    "acc_2.show_type()"
   ]
  },
  {
   "cell_type": "code",
   "execution_count": 195,
   "id": "e6d077f7",
   "metadata": {},
   "outputs": [],
   "source": [
    "# Inhereting and updating attributes with Super"
   ]
  },
  {
   "cell_type": "code",
   "execution_count": 221,
   "id": "6d7be405",
   "metadata": {},
   "outputs": [
    {
     "name": "stdout",
     "output_type": "stream",
     "text": [
      "The brand of the modern sensor is: Good_one\n"
     ]
    }
   ],
   "source": [
    "class New_Sensor(Sensor):\n",
    "# This is super class therefore we can redefine whole __init__ fucntion\n",
    "    def __init__(self, name, location, record_date, brand):\n",
    "        self.name = name\n",
    "        self.location = location\n",
    "        self.record_date = record_date\n",
    "        self.brand = brand\n",
    "        self.data = {}\n",
    "        \n",
    "updated_sens = New_Sensor(\"Modern_sens\",\"Kalyani\",\"20-08-2022\",\"Good_one\")\n",
    "print(f\"The brand of the modern sensor is: {updated_sens.brand}\")"
   ]
  },
  {
   "cell_type": "code",
   "execution_count": 224,
   "id": "d8b9cae2",
   "metadata": {},
   "outputs": [
    {
     "data": {
      "text/plain": [
       "'Yes'"
      ]
     },
     "execution_count": 224,
     "metadata": {},
     "output_type": "execute_result"
    }
   ],
   "source": [
    "# Instead of re-writing all attribute of old class as well\n",
    "# We can import them and avoid the definition of the all attr.\n",
    "class New_Sensor_1(Sensor):\n",
    "    def __init__(self, name, location, record_date, brand):\n",
    "        super().__init__(name, location, record_date)\n",
    "        self.brand = brand\n",
    "        \n",
    "ok_sensor = New_Sensor_1(\"More_modern\",\"Pratapgarh\",\"20-10-1998\",\"Yes\")\n",
    "\n",
    "ok_sensor.brand\n",
    "    "
   ]
  },
  {
   "cell_type": "code",
   "execution_count": 212,
   "id": "3735ed84",
   "metadata": {},
   "outputs": [],
   "source": [
    "# Encapsulation, describes the idea of restricting access to \n",
    "# methods and attributes in a class. Encapsulation hides complex details from the users and prevents data\n",
    "# being modified by accident. This is achieved by using private methods or attributes using the\n",
    "# underscore as prefix, i.e., single “_” or double “__”"
   ]
  },
  {
   "cell_type": "code",
   "execution_count": 214,
   "id": "11586a6b",
   "metadata": {},
   "outputs": [
    {
     "name": "stdout",
     "output_type": "stream",
     "text": [
      "Naya machine\n",
      "India\n"
     ]
    },
    {
     "ename": "AttributeError",
     "evalue": "'New_equip' object has no attribute '__version'",
     "output_type": "error",
     "traceback": [
      "\u001b[0;31m---------------------------------------------------------------------------\u001b[0m",
      "\u001b[0;31mAttributeError\u001b[0m                            Traceback (most recent call last)",
      "\u001b[0;32m<ipython-input-214-53c9956866c3>\u001b[0m in \u001b[0;36m<module>\u001b[0;34m\u001b[0m\n\u001b[1;32m     15\u001b[0m \u001b[0mprint\u001b[0m\u001b[0;34m(\u001b[0m\u001b[0mNew_sens\u001b[0m\u001b[0;34m.\u001b[0m\u001b[0mname\u001b[0m\u001b[0;34m)\u001b[0m\u001b[0;34m\u001b[0m\u001b[0;34m\u001b[0m\u001b[0m\n\u001b[1;32m     16\u001b[0m \u001b[0mprint\u001b[0m\u001b[0;34m(\u001b[0m\u001b[0mNew_sens\u001b[0m\u001b[0;34m.\u001b[0m\u001b[0m_location\u001b[0m\u001b[0;34m)\u001b[0m\u001b[0;34m\u001b[0m\u001b[0;34m\u001b[0m\u001b[0m\n\u001b[0;32m---> 17\u001b[0;31m \u001b[0mprint\u001b[0m\u001b[0;34m(\u001b[0m\u001b[0mNew_sens\u001b[0m\u001b[0;34m.\u001b[0m\u001b[0m__version\u001b[0m\u001b[0;34m)\u001b[0m\u001b[0;34m\u001b[0m\u001b[0;34m\u001b[0m\u001b[0m\n\u001b[0m",
      "\u001b[0;31mAttributeError\u001b[0m: 'New_equip' object has no attribute '__version'"
     ]
    }
   ],
   "source": [
    "class New_equip():\n",
    "    def __init__(self, name, location):\n",
    "        self.name = name\n",
    "        self._location = location\n",
    "        self.__version = \"1.0\"\n",
    "        \n",
    "    def get_version(self):      # a getter function\n",
    "        print(f\"The sensor version is {self.__version}\")\n",
    "              \n",
    "    def set_version(self, version):     # a setter version\n",
    "              self.__version = version\n",
    "        \n",
    "New_sens = New_equip(\"Naya machine\", \"India\")\n",
    "\n",
    "print(New_sens.name)\n",
    "print(New_sens._location)\n",
    "print(New_sens.__version)\n",
    "\n",
    "# With single underscore, we defined a private variable that \n",
    "# should not be accessed directly"
   ]
  },
  {
   "cell_type": "code",
   "execution_count": 215,
   "id": "72ad0174",
   "metadata": {},
   "outputs": [],
   "source": [
    "# To get access to the double underscore attributes, we need to use \n",
    "# “getter” and “setter” functions to access it internally"
   ]
  },
  {
   "cell_type": "code",
   "execution_count": 216,
   "id": "aae5b47e",
   "metadata": {},
   "outputs": [
    {
     "name": "stdout",
     "output_type": "stream",
     "text": [
      "The sensor version is 1.0\n"
     ]
    }
   ],
   "source": [
    "New_sens.get_version()"
   ]
  },
  {
   "cell_type": "code",
   "execution_count": 218,
   "id": "66c00c47",
   "metadata": {},
   "outputs": [
    {
     "name": "stdout",
     "output_type": "stream",
     "text": [
      "The sensor version is 3.0\n"
     ]
    }
   ],
   "source": [
    "New_sens.set_version(\"3.0\")\n",
    "New_sens.get_version()"
   ]
  },
  {
   "cell_type": "code",
   "execution_count": null,
   "id": "de6bf41c",
   "metadata": {},
   "outputs": [],
   "source": []
  }
 ],
 "metadata": {
  "kernelspec": {
   "display_name": "Python 3",
   "language": "python",
   "name": "python3"
  },
  "language_info": {
   "codemirror_mode": {
    "name": "ipython",
    "version": 3
   },
   "file_extension": ".py",
   "mimetype": "text/x-python",
   "name": "python",
   "nbconvert_exporter": "python",
   "pygments_lexer": "ipython3",
   "version": "3.8.8"
  }
 },
 "nbformat": 4,
 "nbformat_minor": 5
}
