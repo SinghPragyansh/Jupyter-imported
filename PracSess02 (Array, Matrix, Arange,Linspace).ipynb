{
 "cells": [
  {
   "cell_type": "code",
   "execution_count": 3,
   "id": "a8ab5c14",
   "metadata": {},
   "outputs": [],
   "source": [
    "import numpy as np"
   ]
  },
  {
   "cell_type": "code",
   "execution_count": 4,
   "id": "9d0b48a2",
   "metadata": {},
   "outputs": [],
   "source": [
    "z = np.arange(1,1001,1)"
   ]
  },
  {
   "cell_type": "code",
   "execution_count": 5,
   "id": "6e704e81",
   "metadata": {},
   "outputs": [],
   "source": [
    "z = np.arange(0.5,3,0.5)"
   ]
  },
  {
   "cell_type": "code",
   "execution_count": 6,
   "id": "875bf676",
   "metadata": {},
   "outputs": [
    {
     "data": {
      "text/plain": [
       "array([2.        , 2.66666667, 3.33333333, 4.        , 4.66666667,\n",
       "       5.33333333, 6.        , 6.66666667, 7.33333333, 8.        ])"
      ]
     },
     "execution_count": 6,
     "metadata": {},
     "output_type": "execute_result"
    }
   ],
   "source": [
    "# linspace, helps in generation of equally spaced number between starting and end point.\n",
    "z = np.linspace(2,8,10)\n",
    "z\n",
    "# we did not need to assign the interval difference between two numbers"
   ]
  },
  {
   "cell_type": "code",
   "execution_count": 7,
   "id": "59274690",
   "metadata": {},
   "outputs": [
    {
     "data": {
      "text/plain": [
       "4.666666666666666"
      ]
     },
     "execution_count": 7,
     "metadata": {},
     "output_type": "execute_result"
    }
   ],
   "source": [
    "z[4]  #5th element of the array"
   ]
  },
  {
   "cell_type": "code",
   "execution_count": 8,
   "id": "702f036e",
   "metadata": {},
   "outputs": [
    {
     "data": {
      "text/plain": [
       "array([[0., 0., 0., 0.],\n",
       "       [0., 0., 0., 0.],\n",
       "       [0., 0., 0., 0.],\n",
       "       [0., 0., 0., 0.]])"
      ]
     },
     "execution_count": 8,
     "metadata": {},
     "output_type": "execute_result"
    }
   ],
   "source": [
    "# Multi-dimensional array or matrix generation\n",
    "m = np.zeros((4,4))\n",
    "m"
   ]
  },
  {
   "cell_type": "code",
   "execution_count": 9,
   "id": "16862127",
   "metadata": {},
   "outputs": [
    {
     "data": {
      "text/plain": [
       "array([[1., 1.],\n",
       "       [1., 1.],\n",
       "       [1., 1.]])"
      ]
     },
     "execution_count": 9,
     "metadata": {},
     "output_type": "execute_result"
    }
   ],
   "source": [
    "n = np.ones((3,2))\n",
    "n"
   ]
  },
  {
   "cell_type": "code",
   "execution_count": 10,
   "id": "a7a85bfa",
   "metadata": {},
   "outputs": [
    {
     "data": {
      "text/plain": [
       "array([4.68798154e-310, 0.00000000e+000, 1.58101007e-322])"
      ]
     },
     "execution_count": 10,
     "metadata": {},
     "output_type": "execute_result"
    }
   ],
   "source": [
    "# 1-D empty array\n",
    "a = np.empty(3)\n",
    "a\n",
    "# Empty array is not really empty, it is filled iwth very small numbers"
   ]
  },
  {
   "cell_type": "code",
   "execution_count": 11,
   "id": "6d93eab8",
   "metadata": {},
   "outputs": [
    {
     "data": {
      "text/plain": [
       "array([1, 1, 2, 7, 5, 6, 7])"
      ]
     },
     "execution_count": 11,
     "metadata": {},
     "output_type": "execute_result"
    }
   ],
   "source": [
    "z = np.arange(1,8,1)\n",
    "z[3] = 7\n",
    "z[0] = 1\n",
    "z[1] = 1\n",
    "z[2] = 2\n",
    "z"
   ]
  },
  {
   "cell_type": "code",
   "execution_count": 12,
   "id": "04af378a",
   "metadata": {},
   "outputs": [
    {
     "data": {
      "text/plain": [
       "(2, 2)"
      ]
     },
     "execution_count": 12,
     "metadata": {},
     "output_type": "execute_result"
    }
   ],
   "source": [
    "b = np.array([[1,2],[3,4]])\n",
    "c = np.array([[5,6],[7,8]])\n",
    "matsum = b+c\n",
    "matdiff = b-c\n",
    "matmul = b*c    # this is not our regular MatMul but only element by element multiplication\n",
    "matsum.shape"
   ]
  },
  {
   "cell_type": "code",
   "execution_count": 20,
   "id": "da1975e3",
   "metadata": {},
   "outputs": [
    {
     "name": "stdout",
     "output_type": "stream",
     "text": [
      "[[1 2]\n",
      " [3 4]] \n",
      " [[5 6]\n",
      " [7 8]] \n",
      " [[ 6  8]\n",
      " [10 12]] \n",
      " [[-4 -4]\n",
      " [-4 -4]] \n",
      " [[ 5 12]\n",
      " [21 32]]\n"
     ]
    }
   ],
   "source": [
    "print(b,'\\n',c,'\\n',matsum,'\\n',matdiff,'\\n',matmul)"
   ]
  },
  {
   "cell_type": "code",
   "execution_count": 14,
   "id": "e13223e4",
   "metadata": {},
   "outputs": [
    {
     "data": {
      "text/plain": [
       "array([ 1.        ,  1.47368421,  1.94736842,  2.42105263,  2.89473684,\n",
       "        3.36842105,  3.84210526,  4.31578947,  4.78947368,  5.26315789,\n",
       "        5.73684211,  6.21052632,  6.68421053,  7.15789474,  7.63157895,\n",
       "        8.10526316,  8.57894737,  9.05263158,  9.52631579, 10.        ])"
      ]
     },
     "execution_count": 14,
     "metadata": {},
     "output_type": "execute_result"
    }
   ],
   "source": [
    "z = np.linspace(1,10,20)\n",
    "z"
   ]
  },
  {
   "cell_type": "code",
   "execution_count": 15,
   "id": "7eb75945",
   "metadata": {},
   "outputs": [
    {
     "data": {
      "text/plain": [
       "array([False, False, False, False, False, False, False, False, False,\n",
       "       False, False, False, False,  True,  True,  True,  True,  True,\n",
       "        True,  True])"
      ]
     },
     "execution_count": 15,
     "metadata": {},
     "output_type": "execute_result"
    }
   ],
   "source": [
    "z>7   "
   ]
  },
  {
   "cell_type": "code",
   "execution_count": 16,
   "id": "64875356",
   "metadata": {},
   "outputs": [],
   "source": [
    "y = np.linspace(5,10,20)"
   ]
  },
  {
   "cell_type": "code",
   "execution_count": 17,
   "id": "5a3f5720",
   "metadata": {},
   "outputs": [
    {
     "data": {
      "text/plain": [
       "array([False, False, False, False, False, False, False, False, False,\n",
       "       False, False, False, False, False, False, False, False, False,\n",
       "       False, False])"
      ]
     },
     "execution_count": 17,
     "metadata": {},
     "output_type": "execute_result"
    }
   ],
   "source": [
    "z>y      # element by element comparison of the arrays"
   ]
  },
  {
   "cell_type": "code",
   "execution_count": 18,
   "id": "b8e434a5",
   "metadata": {},
   "outputs": [
    {
     "data": {
      "text/plain": [
       "array([ 6.21052632,  6.68421053,  7.15789474,  7.63157895,  8.10526316,\n",
       "        8.57894737,  9.05263158,  9.52631579, 10.        ])"
      ]
     },
     "execution_count": 18,
     "metadata": {},
     "output_type": "execute_result"
    }
   ],
   "source": [
    "w = z[z>6]\n",
    "w"
   ]
  },
  {
   "cell_type": "code",
   "execution_count": 19,
   "id": "42a42b90",
   "metadata": {},
   "outputs": [],
   "source": [
    "# altering the array of z, such that element> 5 will become zero\n",
    "z[z>5] = 0"
   ]
  },
  {
   "cell_type": "code",
   "execution_count": 21,
   "id": "558bac1d",
   "metadata": {},
   "outputs": [
    {
     "data": {
      "text/plain": [
       "4"
      ]
     },
     "execution_count": 21,
     "metadata": {},
     "output_type": "execute_result"
    }
   ],
   "source": [
    "matmul.size"
   ]
  },
  {
   "cell_type": "code",
   "execution_count": 25,
   "id": "0b07af9c",
   "metadata": {},
   "outputs": [
    {
     "data": {
      "text/plain": [
       "array([[4., 2.],\n",
       "       [9., 6.]])"
      ]
     },
     "execution_count": 25,
     "metadata": {},
     "output_type": "execute_result"
    }
   ],
   "source": [
    "b = np.zeros((2,2))\n",
    "b[0,0] = 4\n",
    "b[0,1] = 2\n",
    "b[1,0] = 9\n",
    "b[1,1] = 6\n",
    "b"
   ]
  },
  {
   "cell_type": "code",
   "execution_count": 27,
   "id": "607da0c8",
   "metadata": {},
   "outputs": [
    {
     "data": {
      "text/plain": [
       "array([[4., 9.],\n",
       "       [2., 6.]])"
      ]
     },
     "execution_count": 27,
     "metadata": {},
     "output_type": "execute_result"
    }
   ],
   "source": [
    "# Transpose\n",
    "b.T"
   ]
  },
  {
   "cell_type": "code",
   "execution_count": 29,
   "id": "0332ad22",
   "metadata": {},
   "outputs": [
    {
     "data": {
      "text/plain": [
       "array([[2.        , 1.41421356],\n",
       "       [3.        , 2.44948974]])"
      ]
     },
     "execution_count": 29,
     "metadata": {},
     "output_type": "execute_result"
    }
   ],
   "source": [
    "s = np.sqrt(b)\n",
    "s"
   ]
  },
  {
   "cell_type": "code",
   "execution_count": null,
   "id": "79dae5be",
   "metadata": {},
   "outputs": [],
   "source": []
  },
  {
   "cell_type": "code",
   "execution_count": null,
   "id": "d3c1ba75",
   "metadata": {},
   "outputs": [],
   "source": []
  },
  {
   "cell_type": "code",
   "execution_count": null,
   "id": "d9ca6dd9",
   "metadata": {},
   "outputs": [],
   "source": []
  },
  {
   "cell_type": "code",
   "execution_count": null,
   "id": "8b1fc3ad",
   "metadata": {},
   "outputs": [],
   "source": []
  },
  {
   "cell_type": "code",
   "execution_count": null,
   "id": "1a0dd40e",
   "metadata": {},
   "outputs": [],
   "source": []
  }
 ],
 "metadata": {
  "kernelspec": {
   "display_name": "Python 3",
   "language": "python",
   "name": "python3"
  },
  "language_info": {
   "codemirror_mode": {
    "name": "ipython",
    "version": 3
   },
   "file_extension": ".py",
   "mimetype": "text/x-python",
   "name": "python",
   "nbconvert_exporter": "python",
   "pygments_lexer": "ipython3",
   "version": "3.8.8"
  }
 },
 "nbformat": 4,
 "nbformat_minor": 5
}
