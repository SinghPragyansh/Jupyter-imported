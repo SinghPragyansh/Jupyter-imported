{
 "cells": [
  {
   "cell_type": "code",
   "execution_count": 1,
   "id": "2edefd0c",
   "metadata": {},
   "outputs": [],
   "source": [
    "# Reading and Writing Data"
   ]
  },
  {
   "cell_type": "code",
   "execution_count": 2,
   "id": "eafee930",
   "metadata": {},
   "outputs": [],
   "source": [
    "f = open(\"first.txt\", \"w\")\n",
    "for i in range(6):\n",
    "    f.write(f\"This is line number {i}\\n\")\n",
    "f.close()"
   ]
  },
  {
   "cell_type": "code",
   "execution_count": 3,
   "id": "4f91626f",
   "metadata": {},
   "outputs": [],
   "source": [
    "# Appending\n",
    "f = open(\"first.txt\", \"a\")\n",
    "f.write(f\"This is another line\\n\")\n",
    "f.close()"
   ]
  },
  {
   "cell_type": "code",
   "execution_count": 4,
   "id": "d20f080b",
   "metadata": {},
   "outputs": [
    {
     "name": "stdout",
     "output_type": "stream",
     "text": [
      "   19.   22.\n",
      "   43.   50.\n",
      "\n"
     ]
    }
   ],
   "source": [
    "f = open(\"./mat_c.dat\", \"r\")\n",
    "cont_read = f.read()\n",
    "print(cont_read)\n",
    "f.close()"
   ]
  },
  {
   "cell_type": "code",
   "execution_count": 5,
   "id": "cf3893bd",
   "metadata": {},
   "outputs": [
    {
     "name": "stdout",
     "output_type": "stream",
     "text": [
      "This is line number 0\n",
      "This is line number 1\n",
      "This is line number 2\n",
      "This is line number 3\n",
      "This is line number 4\n",
      "This is line number 5\n",
      "This is another line\n",
      "\n"
     ]
    }
   ],
   "source": [
    "f = open(\"./first.txt\",\"r\")\n",
    "read_file = f.read()\n",
    "print(read_file)\n",
    "f.close()"
   ]
  },
  {
   "cell_type": "code",
   "execution_count": 6,
   "id": "9a38e60b",
   "metadata": {},
   "outputs": [
    {
     "data": {
      "text/plain": [
       "str"
      ]
     },
     "execution_count": 6,
     "metadata": {},
     "output_type": "execute_result"
    }
   ],
   "source": [
    "type(read_file)"
   ]
  },
  {
   "cell_type": "code",
   "execution_count": 10,
   "id": "343a6c15",
   "metadata": {},
   "outputs": [
    {
     "name": "stdout",
     "output_type": "stream",
     "text": [
      "['This is line number 0\\n', 'This is line number 1\\n', 'This is line number 2\\n', 'This is line number 3\\n', 'This is line number 4\\n', 'This is line number 5\\n', 'This is another line\\n']\n"
     ]
    }
   ],
   "source": [
    "# Reading line by line, and storing it in list\n",
    "\n",
    "f = open(\"./first.txt\",\"r\")\n",
    "read_lines = f.readlines()\n",
    "print(read_lines)\n",
    "f.close()"
   ]
  },
  {
   "cell_type": "code",
   "execution_count": 11,
   "id": "14fa4aea",
   "metadata": {},
   "outputs": [
    {
     "data": {
      "text/plain": [
       "list"
      ]
     },
     "execution_count": 11,
     "metadata": {},
     "output_type": "execute_result"
    }
   ],
   "source": [
    "type(read_lines)"
   ]
  },
  {
   "cell_type": "code",
   "execution_count": 12,
   "id": "0c2c0674",
   "metadata": {},
   "outputs": [
    {
     "name": "stdout",
     "output_type": "stream",
     "text": [
      "This is line number 0\n",
      "\n",
      "This is line number 1\n",
      "\n",
      "This is line number 2\n",
      "\n",
      "This is line number 3\n",
      "\n",
      "This is line number 4\n",
      "\n",
      "This is line number 5\n",
      "\n",
      "This is another line\n",
      "\n"
     ]
    }
   ],
   "source": [
    "for element in read_lines:\n",
    "    print(element)"
   ]
  },
  {
   "cell_type": "code",
   "execution_count": 24,
   "id": "40dc7a4f",
   "metadata": {},
   "outputs": [],
   "source": [
    "a = open(\"array_o.txt\",\"w\")\n",
    "a.write(\"[[1.20, 2.20, 3.00],[4.14, 5.65, 6.42]]\")\n",
    "a.close()"
   ]
  },
  {
   "cell_type": "code",
   "execution_count": 25,
   "id": "a466d95c",
   "metadata": {},
   "outputs": [
    {
     "name": "stdout",
     "output_type": "stream",
     "text": [
      "[[1.20, 2.20, 3.00],[4.14, 5.65, 6.42]]\n"
     ]
    }
   ],
   "source": [
    "a = open(\"array_o.txt\",\"r\")\n",
    "read_array = a.read()\n",
    "print(read_array)\n",
    "a.close()"
   ]
  },
  {
   "cell_type": "code",
   "execution_count": 26,
   "id": "b6e86cef",
   "metadata": {},
   "outputs": [],
   "source": [
    "# Repeating with Numpy\n",
    "import numpy as np\n",
    "arr = np.array([[1.20, 2.20, 3.00],[4.14, 5.65, 6.42]])\n",
    "\n",
    "np.savetxt(\"numpy_array.txt\", arr, fmt =\"%.2f\", header = \"Col1 Col2 Col3\")"
   ]
  },
  {
   "cell_type": "code",
   "execution_count": 27,
   "id": "590459fd",
   "metadata": {},
   "outputs": [
    {
     "data": {
      "text/plain": [
       "array([[1.2 , 2.2 , 3.  ],\n",
       "       [4.14, 5.65, 6.42]])"
      ]
     },
     "execution_count": 27,
     "metadata": {},
     "output_type": "execute_result"
    }
   ],
   "source": [
    "read_numpy = np.loadtxt(\"numpy_array.txt\")\n",
    "read_numpy"
   ]
  },
  {
   "cell_type": "code",
   "execution_count": 43,
   "id": "448c71ff",
   "metadata": {},
   "outputs": [],
   "source": [
    "# Writing and Opening CSV file:\n",
    "import numpy as np\n",
    "\n",
    "data = np.random.random((100,5)) # Matrix generation with random numbers\n",
    "np.savetxt(\"tst1.csv\", data, fmt = \"%.3f\", delimiter = \",\", header = \"c1, c2, c3, c4, c5\")\n"
   ]
  },
  {
   "cell_type": "code",
   "execution_count": 44,
   "id": "c5394575",
   "metadata": {},
   "outputs": [
    {
     "data": {
      "text/plain": [
       "array([[0.394, 0.553, 0.005, 0.096, 0.109],\n",
       "       [0.656, 0.347, 0.552, 0.4  , 0.9  ],\n",
       "       [0.926, 0.865, 0.569, 0.35 , 0.137],\n",
       "       [0.575, 0.994, 0.486, 0.154, 0.74 ],\n",
       "       [0.487, 0.174, 0.129, 0.482, 0.663]])"
      ]
     },
     "execution_count": 44,
     "metadata": {},
     "output_type": "execute_result"
    }
   ],
   "source": [
    "read_csv = np.loadtxt(\"./tst1.csv\", delimiter = \",\")\n",
    "read_csv[:5, :]"
   ]
  },
  {
   "cell_type": "code",
   "execution_count": 46,
   "id": "f9024a51",
   "metadata": {},
   "outputs": [],
   "source": [
    "# Panda is also used for data analysis and framing"
   ]
  },
  {
   "cell_type": "code",
   "execution_count": null,
   "id": "bd3589bd",
   "metadata": {},
   "outputs": [],
   "source": []
  },
  {
   "cell_type": "code",
   "execution_count": null,
   "id": "c043a566",
   "metadata": {},
   "outputs": [],
   "source": []
  },
  {
   "cell_type": "code",
   "execution_count": null,
   "id": "4a6e8516",
   "metadata": {},
   "outputs": [],
   "source": []
  },
  {
   "cell_type": "code",
   "execution_count": null,
   "id": "548b5ca6",
   "metadata": {},
   "outputs": [],
   "source": []
  },
  {
   "cell_type": "code",
   "execution_count": null,
   "id": "b6abef29",
   "metadata": {},
   "outputs": [],
   "source": []
  }
 ],
 "metadata": {
  "kernelspec": {
   "display_name": "Python 3",
   "language": "python",
   "name": "python3"
  },
  "language_info": {
   "codemirror_mode": {
    "name": "ipython",
    "version": 3
   },
   "file_extension": ".py",
   "mimetype": "text/x-python",
   "name": "python",
   "nbconvert_exporter": "python",
   "pygments_lexer": "ipython3",
   "version": "3.8.8"
  }
 },
 "nbformat": 4,
 "nbformat_minor": 5
}
