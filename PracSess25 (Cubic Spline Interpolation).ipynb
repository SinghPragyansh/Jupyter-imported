{
 "cells": [
  {
   "cell_type": "code",
   "execution_count": 1,
   "id": "7d2b3d8b",
   "metadata": {},
   "outputs": [],
   "source": [
    "# Cubic spline interpolation "
   ]
  },
  {
   "cell_type": "markdown",
   "id": "e296b0eb",
   "metadata": {},
   "source": [
    "the interpolation function is a set of\n",
    "piecewise cubic functions. Specifically, we assume that the points (xi , yi ) and (xi+1 , yi+1 ) are joined by\n",
    "a cubic polynomial Si (x) = ai x 3 + bi x 2 + ci x + di that is valid for xi ≤ x ≤ xi+1.\n",
    "To find the interpolation function, we must first determine the coefficients ai , bi , ci , di for each of\n",
    "the cubic functions.\n",
    "For n points, there are n − 1 cubic functions to find, and each cubic function\n",
    "requires four coefficients. Therefore we have a total of 4(n − 1) unknowns, and so we need 4(n − 1)\n",
    "independent equations to find all the coefficients."
   ]
  },
  {
   "cell_type": "markdown",
   "id": "02e47bd7",
   "metadata": {},
   "source": [
    "In Python, we can use SciPy’s function CubicSpline to perform cubic spline interpolation."
   ]
  },
  {
   "cell_type": "markdown",
   "id": "827ea568",
   "metadata": {},
   "source": [
    "    First, the cubic functions must intersect the data the points on the left and the right:\n",
    "    Si (xi ) = yi ,\n",
    "    Si (xi+1 ) = yi+1 ,"
   ]
  },
  {
   "cell_type": "markdown",
   "id": "e339fcad",
   "metadata": {},
   "source": [
    "Next, we want each cubic function to join as smoothly with its\n",
    "neighbors as possible, so we constrain the splines to have continuous first and second derivatives at the\n",
    "    data points i = 2, . . . , n − 1:\n",
    "\n",
    "    Si'(xi+1 ) = Si+1'(xi+1)\n",
    "    Si''(xi+1 ) = Si+1''(xi+1)"
   ]
  },
  {
   "cell_type": "markdown",
   "id": "ede21283",
   "metadata": {},
   "source": [
    "Two more equations are required to compute the coefficients of Si (x). These last two constraints are\n",
    "arbitrary; they can be chosen to fit the circumstances of the interpolation being performed. A common\n",
    "set of final constraints is to assume that the second derivatives are zero at the endpoints. This means\n",
    "that the curve is a “straight line” at the end points. Explicitly,\n",
    "        \n",
    "        S1''(x1 ) = 0,\n",
    "        Sn−1''(xn ) = 0."
   ]
  },
  {
   "cell_type": "code",
   "execution_count": 5,
   "id": "14dd950b",
   "metadata": {},
   "outputs": [],
   "source": [
    "from scipy.interpolate import CubicSpline \n",
    "import numpy as np\n",
    "import matplotlib.pyplot as plt"
   ]
  },
  {
   "cell_type": "code",
   "execution_count": 59,
   "id": "9200844c",
   "metadata": {},
   "outputs": [],
   "source": [
    "m = [0, 1, 2, 3]\n",
    "n = [1, 3, 7, 15]"
   ]
  },
  {
   "cell_type": "code",
   "execution_count": 60,
   "id": "c5ffa3c9",
   "metadata": {},
   "outputs": [],
   "source": [
    "plt.style.use(\"seaborn-poster\")"
   ]
  },
  {
   "cell_type": "code",
   "execution_count": 61,
   "id": "b884ed23",
   "metadata": {},
   "outputs": [],
   "source": [
    "# use bc_type = \"natural\" to add the additional two constraints"
   ]
  },
  {
   "cell_type": "code",
   "execution_count": 64,
   "id": "cb254f25",
   "metadata": {},
   "outputs": [],
   "source": [
    "t = CubicSpline(m, n, bc_type = \"natural\")\n",
    "m_new = np.linspace(0, 5, 100)\n",
    "n_new = t(m_new)"
   ]
  },
  {
   "cell_type": "code",
   "execution_count": 65,
   "id": "b1e704a5",
   "metadata": {},
   "outputs": [
    {
     "data": {
      "text/plain": [
       "Text(0, 0.5, 'y')"
      ]
     },
     "execution_count": 65,
     "metadata": {},
     "output_type": "execute_result"
    },
    {
     "data": {
      "image/png": "[encoded data removed]",
      "text/plain": [
       "<Figure size 576x360 with 1 Axes>"
      ]
     },
     "metadata": {
      "needs_background": "light"
     },
     "output_type": "display_data"
    }
   ],
   "source": [
    "plt.figure(figsize = (8,5))\n",
    "plt.plot(m_new, n_new, \"b\")\n",
    "plt.plot(m, n, \"ro\")\n",
    "plt.title(\"cubic spline interpolation\")\n",
    "plt.xlabel(\"x\")\n",
    "plt.ylabel(\"y\")"
   ]
  },
  {
   "cell_type": "code",
   "execution_count": null,
   "id": "c784aa88",
   "metadata": {},
   "outputs": [],
   "source": []
  },
  {
   "cell_type": "code",
   "execution_count": null,
   "id": "9db841a0",
   "metadata": {},
   "outputs": [],
   "source": []
  }
 ],
 "metadata": {
  "kernelspec": {
   "display_name": "Python 3",
   "language": "python",
   "name": "python3"
  },
  "language_info": {
   "codemirror_mode": {
    "name": "ipython",
    "version": 3
   },
   "file_extension": ".py",
   "mimetype": "text/x-python",
   "name": "python",
   "nbconvert_exporter": "python",
   "pygments_lexer": "ipython3",
   "version": "3.8.8"
  }
 },
 "nbformat": 4,
 "nbformat_minor": 5
}
