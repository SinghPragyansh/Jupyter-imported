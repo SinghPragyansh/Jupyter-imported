{
 "cells": [
  {
   "cell_type": "code",
   "execution_count": 1,
   "id": "8a3977a6",
   "metadata": {},
   "outputs": [],
   "source": [
    "import numpy as np\n",
    "import matplotlib.pyplot as plt"
   ]
  },
  {
   "cell_type": "code",
   "execution_count": 2,
   "id": "ca49923b",
   "metadata": {},
   "outputs": [],
   "source": [
    "plt.style.use(\"seaborn-poster\")\n",
    "%matplotlib inline"
   ]
  },
  {
   "cell_type": "code",
   "execution_count": 3,
   "id": "aa421247",
   "metadata": {},
   "outputs": [],
   "source": [
    "def FFT(x_n):\n",
    "    \n",
    "    ''' The recursive implementation of the 1D Cooley-Tuckey FFT,\n",
    "    the input should have a length of power of 2. '''\n",
    "    N = len(x_n)\n",
    "    \n",
    "    if N == 1:    #(base condition of recursion)\n",
    "        return x_n\n",
    "    \n",
    "    else:\n",
    "        x_even = FFT(x_n[::2])\n",
    "        '''x[::2]reads “default start index (i.e. zero index element), default stop index (i.e. up to the end),\n",
    "        step size is two—take every second element”.'''\n",
    "        \n",
    "        x_odd = FFT(x_n[1::2])\n",
    "        '''x[1::2] means, start the consideration from one indexed element then, stop is default(i.e. end), \n",
    "        then the step size is two, i.e. only alternate element is considered. Therefore, starting with 1st element, only odd ele\n",
    "        will be considered'''\n",
    "        # Now, even indexed elements of array are stored in X_even and vice versa.\n",
    "        \n",
    "        k = np.arange(N)\n",
    "        factor = np.exp(-2j*np.pi*k/N)\n",
    "        \n",
    "        # factor[:int(N/2)], means consider the start of array at 0 index and end at (N/2) index. \n",
    "        \n",
    "        x_k = np.concatenate([x_even + factor[:int(N/2)]*x_odd,\n",
    "                            x_even + factor[int(N/2):]*x_odd])\n",
    "        '''last two line of code is not very clear'''\n",
    "        \n",
    "        return x_k                            "
   ]
  },
  {
   "cell_type": "markdown",
   "id": "5fe5c0b9",
   "metadata": {},
   "source": [
    "# old program for the x_n"
   ]
  },
  {
   "cell_type": "code",
   "execution_count": 4,
   "id": "86113d43",
   "metadata": {},
   "outputs": [
    {
     "name": "stdout",
     "output_type": "stream",
     "text": [
      "(128,)\n"
     ]
    }
   ],
   "source": [
    "def sin_wave(freq, amplitude, phase, time_grid):\n",
    "    \n",
    "    omega = 2*np.pi*freq\n",
    "    y = amplitude*np.sin(omega*time_grid + phase)\n",
    "    \n",
    "    return y\n",
    "\n",
    "# sampling rate \n",
    "sr = 128\n",
    "s = 1.0/sr\n",
    "t = np.arange(0,1,s)\n",
    "\n",
    "freq_mu_1 = 1\n",
    "amp_1 = 3\n",
    "phase_1 = 0\n",
    "wave_1 = sin_wave(freq_mu_1, amp_1, phase_1, t)\n",
    "\n",
    "freq_mu_2 = 4\n",
    "amp_2 = 1\n",
    "phase_2 = 0\n",
    "wave_2 = sin_wave(freq_mu_2, amp_2, phase_2, t)\n",
    "\n",
    "freq_mu_3 = 7\n",
    "amp_3 = 0.5\n",
    "phase_3 = 0\n",
    "wave_3 = sin_wave(freq_mu_3, amp_3, phase_3, t)\n",
    "\n",
    "final_wave = wave_1 + wave_2 + wave_3\n",
    "\n",
    "print(final_wave.shape)"
   ]
  },
  {
   "cell_type": "markdown",
   "id": "bbe098dd",
   "metadata": {},
   "source": [
    "# Calling the FFT function"
   ]
  },
  {
   "cell_type": "code",
   "execution_count": 5,
   "id": "dac12bcf",
   "metadata": {},
   "outputs": [
    {
     "data": {
      "text/plain": [
       "[<matplotlib.lines.Line2D at 0x7fbec3732250>]"
      ]
     },
     "execution_count": 5,
     "metadata": {},
     "output_type": "execute_result"
    },
    {
     "data": {
      "image/png": "[encoded data removed]",
      "text/plain": [
       "<Figure size 432x288 with 1 Axes>"
      ]
     },
     "metadata": {
      "needs_background": "light"
     },
     "output_type": "display_data"
    }
   ],
   "source": [
    "x_k = FFT(final_wave)\n",
    "N = len(x_k)\n",
    "n = np.arange(N)\n",
    "T = N/sr\n",
    "freq = n/T\n",
    "\n",
    "plt.plot(freq, abs(x_k))"
   ]
  },
  {
   "cell_type": "code",
   "execution_count": 6,
   "id": "f3df0d8b",
   "metadata": {},
   "outputs": [
    {
     "data": {
      "text/plain": [
       "(-1.0, 20.0)"
      ]
     },
     "execution_count": 6,
     "metadata": {},
     "output_type": "execute_result"
    },
    {
     "data": {
      "image/png": "[encoded data removed]",
      "text/plain": [
       "<Figure size 432x288 with 1 Axes>"
      ]
     },
     "metadata": {
      "needs_background": "light"
     },
     "output_type": "display_data"
    }
   ],
   "source": [
    "n_oneside = (N/2)\n",
    "f_oneside = freq[:int(n_oneside)]\n",
    "\n",
    "\n",
    "# normalising the amplitude\n",
    "xk_oneside = x_k[:int(n_oneside)]/n_oneside\n",
    "\n",
    "plt.plot(f_oneside, abs(xk_oneside))\n",
    "plt.xlim(-1,20)"
   ]
  },
  {
   "cell_type": "code",
   "execution_count": null,
   "id": "87df1cd3",
   "metadata": {},
   "outputs": [],
   "source": []
  },
  {
   "cell_type": "markdown",
   "id": "ee1ef5ed",
   "metadata": {},
   "source": [
    "# Using Python library"
   ]
  },
  {
   "cell_type": "code",
   "execution_count": 7,
   "id": "516b9161",
   "metadata": {},
   "outputs": [],
   "source": [
    "from numpy.fft import fft, ifft"
   ]
  },
  {
   "cell_type": "code",
   "execution_count": 17,
   "id": "5c5276d1",
   "metadata": {},
   "outputs": [
    {
     "name": "stdout",
     "output_type": "stream",
     "text": [
      "128 128\n"
     ]
    }
   ],
   "source": [
    "x_k = fft(final_wave)\n",
    "\n",
    "# Creating the k-grid\n",
    "# N is the total numbers of samples taken in for the final_wave function\n",
    "# sr is the number of sample in one second\n",
    "# therefore if the x(final) - x(initial) = 1; (as in this case), \n",
    "# we wil have T = 1, otherwise the T value wil differ.\n",
    "\n",
    "N = len(x_k)\n",
    "n = np.arange(N)\n",
    "T = N / sr\n",
    "freq_l = n/T\n",
    "\n",
    "print(sr, N)"
   ]
  },
  {
   "cell_type": "code",
   "execution_count": 18,
   "id": "048c0577",
   "metadata": {},
   "outputs": [
    {
     "data": {
      "text/plain": [
       "[<matplotlib.lines.Line2D at 0x7fbec2d8f760>]"
      ]
     },
     "execution_count": 18,
     "metadata": {},
     "output_type": "execute_result"
    },
    {
     "data": {
      "image/png": "[encoded data removed]",
      "text/plain": [
       "<Figure size 432x288 with 1 Axes>"
      ]
     },
     "metadata": {
      "needs_background": "light"
     },
     "output_type": "display_data"
    }
   ],
   "source": [
    "plt.plot(freq_l, abs(x_k))"
   ]
  },
  {
   "cell_type": "code",
   "execution_count": 19,
   "id": "5e8e5565",
   "metadata": {},
   "outputs": [],
   "source": [
    "x_ifft_lib = ifft(x_k)\n",
    "N = len(x_ifft_lib)\n",
    "t = np.linspace(0,1,N)"
   ]
  },
  {
   "cell_type": "code",
   "execution_count": 11,
   "id": "81de1081",
   "metadata": {},
   "outputs": [
    {
     "name": "stderr",
     "output_type": "stream",
     "text": [
      "/home/user/anaconda3/lib/python3.8/site-packages/numpy/core/_asarray.py:102: ComplexWarning: Casting complex values to real discards the imaginary part\n",
      "  return array(a, dtype, copy=False, order=order)\n"
     ]
    },
    {
     "data": {
      "text/plain": [
       "[<matplotlib.lines.Line2D at 0x7fbec2dae4c0>]"
      ]
     },
     "execution_count": 11,
     "metadata": {},
     "output_type": "execute_result"
    },
    {
     "data": {
      "image/png": "[encoded data removed]",
      "text/plain": [
       "<Figure size 432x288 with 1 Axes>"
      ]
     },
     "metadata": {
      "needs_background": "light"
     },
     "output_type": "display_data"
    }
   ],
   "source": [
    "plt.plot(t, x_ifft_lib)"
   ]
  },
  {
   "cell_type": "code",
   "execution_count": null,
   "id": "4eb7d6cd",
   "metadata": {},
   "outputs": [],
   "source": []
  }
 ],
 "metadata": {
  "kernelspec": {
   "display_name": "Python 3",
   "language": "python",
   "name": "python3"
  },
  "language_info": {
   "codemirror_mode": {
    "name": "ipython",
    "version": 3
   },
   "file_extension": ".py",
   "mimetype": "text/x-python",
   "name": "python",
   "nbconvert_exporter": "python",
   "pygments_lexer": "ipython3",
   "version": "3.8.8"
  }
 },
 "nbformat": 4,
 "nbformat_minor": 5
}
