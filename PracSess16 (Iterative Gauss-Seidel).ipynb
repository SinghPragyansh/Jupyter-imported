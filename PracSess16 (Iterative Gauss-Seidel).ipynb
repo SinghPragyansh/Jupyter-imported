{
 "cells": [
  {
   "cell_type": "code",
   "execution_count": 3,
   "id": "4262f5f1",
   "metadata": {},
   "outputs": [],
   "source": [
    "# Iterative method: Gauss- Seidel method "
   ]
  },
  {
   "cell_type": "markdown",
   "id": "47ff0c72",
   "metadata": {},
   "source": [
    "This section introduces a different class of methods, namely the iterative meth-\n",
    "ods, or indirect methods. They start with an initial guess of the solution and then repeatedly improve\n",
    "the solution until the change of the solution is below a chosen threshold.\n",
    "Iterative methods require having specific conditions for the solution to converge. A sufficient, but\n",
    "not necessary, condition of the convergence is that the coefficient matrix a is diagonally dominant.\n",
    "This means that in each row of the matrix of coefficients a, the absolute value of the diagonal element\n",
    "is greater than the sum of the absolute values of the off-diagonal elements. If the coefficient matrix\n",
    "satisfies this condition, the iterations will converge to the solution. Note that the solution process might\n",
    "still converge even when this condition is not satisfied."
   ]
  },
  {
   "cell_type": "code",
   "execution_count": 4,
   "id": "03c3f4b2",
   "metadata": {},
   "outputs": [],
   "source": [
    "import numpy as np"
   ]
  },
  {
   "cell_type": "code",
   "execution_count": 38,
   "id": "c3832e3a",
   "metadata": {},
   "outputs": [
    {
     "name": "stdout",
     "output_type": "stream",
     "text": [
      "[ 8  9 11]\n",
      "[6 7 9]\n",
      "The diagonal is dominant, and the Gauss -seidel will converge\n"
     ]
    }
   ],
   "source": [
    "mat_a = [[8, 3, -3], [2, -9, 5], [3,6,11]]\n",
    "\n",
    "# Find diagonal coefficents\n",
    "dia = np.diag(np.abs(mat_a))\n",
    "print(dia)\n",
    "\n",
    "# summing the off diagonal elements\n",
    "off_dia = np.sum(np.abs(mat_a), axis =1) - dia\n",
    "print(off_dia)\n",
    "\n",
    "if np.all(dia > off_dia):\n",
    "    print(\"The diagonal is dominant, and the Gauss -seidel will converge\")\n",
    "else:\n",
    "    print(\"The diagonal is not dominant\")\n",
    "    "
   ]
  },
  {
   "cell_type": "code",
   "execution_count": null,
   "id": "34b322a1",
   "metadata": {},
   "outputs": [],
   "source": [
    "# Gauss-Seidel"
   ]
  },
  {
   "cell_type": "code",
   "execution_count": 43,
   "id": "e326e648",
   "metadata": {},
   "outputs": [],
   "source": [
    "# Inital values\n",
    "n1 = 0\n",
    "n2 = 0\n",
    "n3 = 0\n",
    "epsilon = 0.01       # Threshold\n",
    "converged = False"
   ]
  },
  {
   "cell_type": "code",
   "execution_count": 44,
   "id": "c4837f23",
   "metadata": {},
   "outputs": [],
   "source": [
    "# build the vector\n",
    "n_prev = np.array([n1, n2, n3])"
   ]
  },
  {
   "cell_type": "code",
   "execution_count": 45,
   "id": "b67f3636",
   "metadata": {},
   "outputs": [
    {
     "name": "stdout",
     "output_type": "stream",
     "text": [
      "Iteration results\n",
      " k, n1, n2, n3 \n",
      "1, 1.7500, -0.1667, -1.1136\n",
      "2, 1.3949, -0.8643, -0.6363\n",
      "3, 1.8355, -0.5012, -0.9545\n",
      "4, 1.5800, -0.7347, -0.7574\n",
      "5, 1.7415, -0.5893, -0.8808\n",
      "6, 1.6407, -0.6803, -0.8037\n",
      "7, 1.7037, -0.6234, -0.8519\n",
      "8, 1.6643, -0.6590, -0.8218\n",
      "9, 1.6890, -0.6368, -0.8406\n",
      "10, 1.6736, -0.6506, -0.8288\n",
      "11, 1.6832, -0.6420, -0.8362\n",
      "12, 1.6772, -0.6474, -0.8316\n",
      "Converged!\n"
     ]
    }
   ],
   "source": [
    "print(\"Iteration results\")\n",
    "print(\" k, n1, n2, n3 \")\n",
    "\n",
    "# running loop for iteration on the equation  \n",
    "for k in range(1, 50): \n",
    "    n1 = (14 - 3*n2 + 3*n3) /8\n",
    "    n2 = (5 - 2*n1 - 5*n3) /(-9)\n",
    "    n3 = (-8 - 3*n1 - 6*n2) /(11)\n",
    "    # storing the newly calculated vector coeff into the current vector\n",
    "    n = np.array([n1, n2, n3])\n",
    "    \n",
    "    # substracting the previous vector (n_prev) from current vector (n)\n",
    "    # to get difference vector and then calculating its magnitude\n",
    "    dn_vec = np.sqrt(np.dot(n-n_prev, n-n_prev))\n",
    "    \n",
    "    # comparing the magnitude of difference vector with the threshold \n",
    "    print(\"%d, %.4f, %.4f, %.4f\"%(k, n1, n2, n3))\n",
    "    if dn_vec < epsilon:\n",
    "        converged = True\n",
    "        print(\"Converged!\")\n",
    "        break\n",
    "        \n",
    "    # storing the current n vector in n_prev for the required \n",
    "    # comparison in next loop\n",
    "    n_prev = n\n",
    "    \n",
    "if not converged:\n",
    "    print(\"Not converged, increase the number of iterations\")"
   ]
  },
  {
   "cell_type": "code",
   "execution_count": null,
   "id": "6c3a30c1",
   "metadata": {},
   "outputs": [],
   "source": []
  },
  {
   "cell_type": "code",
   "execution_count": null,
   "id": "c8db7b54",
   "metadata": {},
   "outputs": [],
   "source": []
  }
 ],
 "metadata": {
  "kernelspec": {
   "display_name": "Python 3",
   "language": "python",
   "name": "python3"
  },
  "language_info": {
   "codemirror_mode": {
    "name": "ipython",
    "version": 3
   },
   "file_extension": ".py",
   "mimetype": "text/x-python",
   "name": "python",
   "nbconvert_exporter": "python",
   "pygments_lexer": "ipython3",
   "version": "3.8.8"
  }
 },
 "nbformat": 4,
 "nbformat_minor": 5
}
