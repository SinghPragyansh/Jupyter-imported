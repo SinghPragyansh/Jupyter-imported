{
 "cells": [
  {
   "cell_type": "code",
   "execution_count": 1,
   "id": "bcced411",
   "metadata": {},
   "outputs": [],
   "source": [
    "import numpy as np"
   ]
  },
  {
   "cell_type": "code",
   "execution_count": 21,
   "id": "e537d6cf",
   "metadata": {
    "scrolled": true
   },
   "outputs": [
    {
     "name": "stdout",
     "output_type": "stream",
     "text": [
      "Enter the desired temperature: 34\n",
      "Enter the current temperature: 23\n",
      "Suggestion is to  increase the temp\n"
     ]
    }
   ],
   "source": [
    "# Fucntion with the branching or conditional statements\n",
    "\n",
    "m = float(input(\"Enter the desired temperature: \"))\n",
    "n = float(input(\"Enter the current temperature: \"))\n",
    "\n",
    "# must specify the data type we are looking to give as the input, \n",
    "#otherwise by default the data type of input is string\n",
    "\n",
    "\n",
    "def thermostat(temp, desired_temp):\n",
    "    if temp < desired_temp-5:\n",
    "        status = \"increase the temp\"\n",
    "    elif temp > desired_temp + 5:\n",
    "        status = \"swtich on the AC\"\n",
    "    else:\n",
    "        status = \"keep the temp as it is\"\n",
    "    return status    \n",
    "\n",
    "comment = thermostat(n, m)\n",
    "print(\"Suggestion is to \",comment)"
   ]
  },
  {
   "cell_type": "code",
   "execution_count": 25,
   "id": "c989c270",
   "metadata": {},
   "outputs": [
    {
     "name": "stdout",
     "output_type": "stream",
     "text": [
      "What is x 7\n",
      "4\n"
     ]
    }
   ],
   "source": [
    "# and statements in the conditional statements \n",
    "x = int(input(\"What is x \"))          \n",
    "\n",
    "# must specify the data type we are looking to give as the input, \n",
    "#otherwise by default the data type of input is string\n",
    "\n",
    "if x> 1 and x<5:    \n",
    "    y = 2\n",
    "elif 5<x<10:\n",
    "    y = 4\n",
    "else:\n",
    "    y = 0\n",
    "print(y)"
   ]
  },
  {
   "cell_type": "code",
   "execution_count": 30,
   "id": "c56b7e6c",
   "metadata": {},
   "outputs": [
    {
     "name": "stdout",
     "output_type": "stream",
     "text": [
      "Enter the number =7\n",
      "Odd\n"
     ]
    }
   ],
   "source": [
    "# Odd or even with function\n",
    "def odd_even(number):\n",
    "    if number%2 ==0:\n",
    "        return \"Even\"\n",
    "    else:\n",
    "        return \"Odd\"\n",
    "\n",
    "z = int(input(\"Enter the number =\"))\n",
    "status = odd_even(z)        \n",
    "print(status)"
   ]
  },
  {
   "cell_type": "code",
   "execution_count": 37,
   "id": "718f39a3",
   "metadata": {},
   "outputs": [
    {
     "name": "stdout",
     "output_type": "stream",
     "text": [
      "Enter the calcluation name: Circumference\n",
      "Enter the radius of the circle: 1\n",
      "6.283185307179586\n"
     ]
    }
   ],
   "source": [
    "calculation = input(\"Enter the calcluation name: \")\n",
    "radius = float(input(\"Enter the radius of the circle: \"))\n",
    "\n",
    "\n",
    "def circ_cal(r, calulation):\n",
    "    if calculation == \"Circumference\":\n",
    "        return 2*np.pi*r\n",
    "    elif calculation == \"Area\":\n",
    "        return np.pi*r**2\n",
    "    \n",
    "calculated_value = circ_cal(radius , calculation)    \n",
    "    \n",
    "print(calculated_value)   "
   ]
  },
  {
   "cell_type": "code",
   "execution_count": 43,
   "id": "8c058dcc",
   "metadata": {},
   "outputs": [
    {
     "name": "stdout",
     "output_type": "stream",
     "text": [
      "[ 6.28318531 12.56637061 18.84955592]\n"
     ]
    }
   ],
   "source": [
    "def circ_cal(r, calulation):\n",
    "    if calculation == \"Circumference\":\n",
    "        return 2*np.pi*r\n",
    "    elif calculation == \"Area\":\n",
    "        return np.pi*r**2\n",
    "    \n",
    "calculated_value = circ_cal(np.array([1.0,2.0,3.0]) , calculation)      \n",
    "# Be careful on giving multiple radius, you must input array and not list.\n",
    "\n",
    "print(calculated_value)   "
   ]
  },
  {
   "cell_type": "code",
   "execution_count": null,
   "id": "b348bf10",
   "metadata": {},
   "outputs": [],
   "source": []
  },
  {
   "cell_type": "code",
   "execution_count": null,
   "id": "ecc136d5",
   "metadata": {},
   "outputs": [],
   "source": []
  },
  {
   "cell_type": "code",
   "execution_count": null,
   "id": "3ee6ea61",
   "metadata": {},
   "outputs": [],
   "source": []
  },
  {
   "cell_type": "code",
   "execution_count": null,
   "id": "a9da9fa9",
   "metadata": {},
   "outputs": [],
   "source": []
  },
  {
   "cell_type": "code",
   "execution_count": null,
   "id": "85a3fe61",
   "metadata": {},
   "outputs": [],
   "source": []
  },
  {
   "cell_type": "code",
   "execution_count": null,
   "id": "557f1769",
   "metadata": {},
   "outputs": [],
   "source": []
  }
 ],
 "metadata": {
  "kernelspec": {
   "display_name": "Python 3",
   "language": "python",
   "name": "python3"
  },
  "language_info": {
   "codemirror_mode": {
    "name": "ipython",
    "version": 3
   },
   "file_extension": ".py",
   "mimetype": "text/x-python",
   "name": "python",
   "nbconvert_exporter": "python",
   "pygments_lexer": "ipython3",
   "version": "3.8.8"
  }
 },
 "nbformat": 4,
 "nbformat_minor": 5
}
