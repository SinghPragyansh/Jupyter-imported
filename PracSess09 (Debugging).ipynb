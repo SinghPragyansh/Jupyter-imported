{
 "cells": [
  {
   "cell_type": "code",
   "execution_count": null,
   "id": "91d965c4",
   "metadata": {},
   "outputs": [],
   "source": [
    "import numpy as np"
   ]
  },
  {
   "cell_type": "code",
   "execution_count": null,
   "id": "3810938d",
   "metadata": {},
   "outputs": [],
   "source": [
    "'''\n",
    "Converting to binary:\n",
    "37(base10) = 32 + 4 + 1 = 1 · 25 + 0 · 24 + 0 · 23 + 1 · 22 + 0 · 21 + 1 · 20 = 100101(base2),\n",
    "17(base10) = 16 + 1 = 1 · 24 + 0 · 23 + 0 · 22 + 0 · 21 + 1 · 20 = 10001(base2).\n",
    "'''"
   ]
  },
  {
   "cell_type": "markdown",
   "id": "bec79dca",
   "metadata": {},
   "source": [
    "A module is a function or group of\n",
    "functions that perform a certain task. It is important to design your program in terms of modules,\n",
    "especially for tasks that need to be repeated over and over again. Each module should accomplish a\n",
    "small, well-defined task and know as little information about other functions as possible (i.e., have a\n",
    "very limited set of inputs and outputs).\n",
    "A good rule of thumb is to plan from the top to bottom, and then program from the bottom to the\n",
    "top. That is, decide what the overall program is supposed to do, determine what code is necessary to\n",
    "complete the main tasks, and then break the main tasks into components until the module is small\n",
    "enough that you are confident you can write it without errors."
   ]
  },
  {
   "cell_type": "code",
   "execution_count": null,
   "id": "a939bb36",
   "metadata": {},
   "outputs": [],
   "source": [
    "# Summing up all sorts of numbers\n",
    "\n",
    "def my_adder(a, b, c):\n",
    "# type check\n",
    "    if isinstance(a, (float, int, complex)) and\\\n",
    "        isinstance(b, (float, int, complex)) and\\\n",
    "        isinstance(c, (float, int, complex)):\n",
    "            pass\n",
    "    else:\n",
    "        raise(TypeError(\"Inputs must be numbers\"))\n",
    "    \n",
    "    out = a + b + c\n",
    "    return out\n",
    "\n",
    "my_adder(1j, 2.0, 3)"
   ]
  },
  {
   "cell_type": "code",
   "execution_count": null,
   "id": "11eecf6b",
   "metadata": {},
   "outputs": [],
   "source": [
    "# Debugging\n",
    "# Debugging is the process of systematically removing errors, or bugs, from your code. Python has\n",
    "# functionalities that can assist you when debugging. The standard debugging tool in Python is pdb\n",
    "# (Python DeBugger) for interactive debugging. It lets you step through the code line by line to find out\n",
    "#what might be causing a difficult error. The IPython version of this is ipdb (IPython DeBugger)."
   ]
  },
  {
   "cell_type": "markdown",
   "id": "388b2992",
   "metadata": {},
   "source": [
    "We will show you how to use two really useful\n",
    "magic commands %debug and %pdb to find the code causing trouble.\n",
    "There are two ways you can debug your code: (1) activate the debugger when you run into an\n",
    "exception; and (2) activate debugger before running the code."
   ]
  },
  {
   "cell_type": "code",
   "execution_count": null,
   "id": "1a02ce90",
   "metadata": {},
   "outputs": [],
   "source": [
    "%debug\n",
    "def sq_add(n):\n",
    "    \n",
    "    sq = n**2\n",
    "    sq += n\n",
    "    \n",
    "    return sq\n",
    "\n",
    "sq_add(\"4\")"
   ]
  },
  {
   "cell_type": "code",
   "execution_count": null,
   "id": "0978d741",
   "metadata": {},
   "outputs": [],
   "source": [
    "# Adding Breakpoint\n",
    "# It is often very useful to insert a breakpoint into your code. A breakpoint is a line in your code at which\n",
    "# Python will stop when the function is run."
   ]
  },
  {
   "cell_type": "code",
   "execution_count": 1,
   "id": "17557922",
   "metadata": {},
   "outputs": [
    {
     "name": "stdout",
     "output_type": "stream",
     "text": [
      "> \u001b[0;32m<ipython-input-1-d0c9ca2881f7>\u001b[0m(7)\u001b[0;36msquare_number\u001b[0;34m()\u001b[0m\n",
      "\u001b[0;32m      5 \u001b[0;31m    \u001b[0mpdb\u001b[0m\u001b[0;34m.\u001b[0m\u001b[0mset_trace\u001b[0m\u001b[0;34m(\u001b[0m\u001b[0;34m)\u001b[0m\u001b[0;34m\u001b[0m\u001b[0;34m\u001b[0m\u001b[0m\n",
      "\u001b[0m\u001b[0;32m      6 \u001b[0;31m\u001b[0;34m\u001b[0m\u001b[0m\n",
      "\u001b[0m\u001b[0;32m----> 7 \u001b[0;31m    \u001b[0msq\u001b[0m \u001b[0;34m+=\u001b[0m \u001b[0mn\u001b[0m\u001b[0;34m\u001b[0m\u001b[0;34m\u001b[0m\u001b[0m\n",
      "\u001b[0m\u001b[0;32m      8 \u001b[0;31m\u001b[0;34m\u001b[0m\u001b[0m\n",
      "\u001b[0m\u001b[0;32m      9 \u001b[0;31m    \u001b[0;32mreturn\u001b[0m \u001b[0msq\u001b[0m\u001b[0;34m\u001b[0m\u001b[0;34m\u001b[0m\u001b[0m\n",
      "\u001b[0m\n",
      "ipdb> sq\n",
      "64\n",
      "ipdb> c\n"
     ]
    },
    {
     "data": {
      "text/plain": [
       "72"
      ]
     },
     "execution_count": 1,
     "metadata": {},
     "output_type": "execute_result"
    }
   ],
   "source": [
    "import pdb\n",
    "def square_number(n):\n",
    "    \n",
    "    sq = n**2\n",
    "    pdb.set_trace()\n",
    "    \n",
    "    sq += n\n",
    "    \n",
    "    return sq\n",
    "\n",
    "square_number(8)\n",
    "\n",
    "# After we added pdb.set_trace(), the program stopped at this line and activated the pdb debugger.\n",
    "# We can now check all the variable values that were assigned before this line and use the command c to\n",
    "# continue the execution."
   ]
  },
  {
   "cell_type": "code",
   "execution_count": null,
   "id": "42e57ae0",
   "metadata": {},
   "outputs": [],
   "source": []
  },
  {
   "cell_type": "code",
   "execution_count": null,
   "id": "7f23db04",
   "metadata": {},
   "outputs": [],
   "source": []
  },
  {
   "cell_type": "code",
   "execution_count": null,
   "id": "42150aa1",
   "metadata": {},
   "outputs": [],
   "source": []
  },
  {
   "cell_type": "code",
   "execution_count": null,
   "id": "58c8e78e",
   "metadata": {},
   "outputs": [],
   "source": []
  }
 ],
 "metadata": {
  "kernelspec": {
   "display_name": "Python 3",
   "language": "python",
   "name": "python3"
  },
  "language_info": {
   "codemirror_mode": {
    "name": "ipython",
    "version": 3
   },
   "file_extension": ".py",
   "mimetype": "text/x-python",
   "name": "python",
   "nbconvert_exporter": "python",
   "pygments_lexer": "ipython3",
   "version": "3.8.8"
  }
 },
 "nbformat": 4,
 "nbformat_minor": 5
}
