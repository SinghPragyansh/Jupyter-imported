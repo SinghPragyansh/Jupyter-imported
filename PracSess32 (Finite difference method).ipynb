{
 "cells": [
  {
   "cell_type": "code",
   "execution_count": 2,
   "id": "c7a4a2f7",
   "metadata": {},
   "outputs": [],
   "source": [
    "# Finite difference method to approximate derivatives"
   ]
  },
  {
   "cell_type": "markdown",
   "id": "aaf1079a",
   "metadata": {},
   "source": [
    "The derivative at x = a is the slope at this point. In “finite difference” approximations of this slope,\n",
    "one uses values of the function in a neighborhood of the point x = a to achieve the goal."
   ]
  },
  {
   "cell_type": "code",
   "execution_count": 1,
   "id": "ff2ca6aa",
   "metadata": {},
   "outputs": [],
   "source": [
    "import numpy as np\n",
    "import matplotlib.pyplot as plt\n",
    "%matplotlib inline"
   ]
  },
  {
   "cell_type": "code",
   "execution_count": 39,
   "id": "65f829d7",
   "metadata": {},
   "outputs": [
    {
     "name": "stdout",
     "output_type": "stream",
     "text": [
      "628\n"
     ]
    }
   ],
   "source": [
    "# step size\n",
    "h = 0.01\n",
    "\n",
    "# grid\n",
    "x = np.arange(0, 2*np.pi, h)\n",
    "\n",
    "# cos(x) function\n",
    "y = np.cos(x)\n",
    "\n",
    "# vector of forward difference (using library)\n",
    "forw_diff = np.diff(y)/h\n",
    "\n",
    "# corresponding grid\n",
    "x_diff = x[:-1]\n",
    "print(len(x_diff))"
   ]
  },
  {
   "cell_type": "code",
   "execution_count": 40,
   "id": "cab51270",
   "metadata": {},
   "outputs": [],
   "source": [
    "# exact solution\n",
    "exact_sol = -np.sin(x_diff)"
   ]
  },
  {
   "cell_type": "code",
   "execution_count": 41,
   "id": "ad5c0b1f",
   "metadata": {},
   "outputs": [
    {
     "data": {
      "text/plain": [
       "<matplotlib.legend.Legend at 0x7ff91e18f9d0>"
      ]
     },
     "execution_count": 41,
     "metadata": {},
     "output_type": "execute_result"
    },
    {
     "data": {
      "image/png": "[encoded data removed]",
      "text/plain": [
       "<Figure size 432x288 with 1 Axes>"
      ]
     },
     "metadata": {
      "needs_background": "light"
     },
     "output_type": "display_data"
    }
   ],
   "source": [
    "# plot \n",
    "plt.plot(x_diff, forw_diff,\"-\",\\\n",
    "         label = \"Finite difference approximation\")\n",
    "plt.legend()\n",
    "plt.plot(x_diff, exact_sol, label = \"Exact solution\")\n",
    "plt.legend()"
   ]
  },
  {
   "cell_type": "code",
   "execution_count": 42,
   "id": "68421fba",
   "metadata": {},
   "outputs": [
    {
     "name": "stdout",
     "output_type": "stream",
     "text": [
      "0.004999978536239927\n"
     ]
    }
   ],
   "source": [
    "max_error = max(abs(exact_sol - forw_diff))\n",
    "print(max_error)"
   ]
  },
  {
   "cell_type": "code",
   "execution_count": null,
   "id": "9ee35679",
   "metadata": {},
   "outputs": [],
   "source": []
  },
  {
   "cell_type": "code",
   "execution_count": null,
   "id": "5b5ba43f",
   "metadata": {},
   "outputs": [],
   "source": []
  },
  {
   "cell_type": "code",
   "execution_count": null,
   "id": "36242668",
   "metadata": {},
   "outputs": [],
   "source": []
  },
  {
   "cell_type": "code",
   "execution_count": null,
   "id": "62ac531d",
   "metadata": {},
   "outputs": [],
   "source": []
  }
 ],
 "metadata": {
  "kernelspec": {
   "display_name": "Python 3",
   "language": "python",
   "name": "python3"
  },
  "language_info": {
   "codemirror_mode": {
    "name": "ipython",
    "version": 3
   },
   "file_extension": ".py",
   "mimetype": "text/x-python",
   "name": "python",
   "nbconvert_exporter": "python",
   "pygments_lexer": "ipython3",
   "version": "3.8.8"
  }
 },
 "nbformat": 4,
 "nbformat_minor": 5
}
