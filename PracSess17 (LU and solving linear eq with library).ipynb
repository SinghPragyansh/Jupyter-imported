{
 "cells": [
  {
   "cell_type": "code",
   "execution_count": 1,
   "id": "faeadb0c",
   "metadata": {},
   "outputs": [],
   "source": [
    "# Using python library to solve the linear equation"
   ]
  },
  {
   "cell_type": "code",
   "execution_count": 2,
   "id": "435a8404",
   "metadata": {},
   "outputs": [],
   "source": [
    "import numpy as np"
   ]
  },
  {
   "cell_type": "code",
   "execution_count": 5,
   "id": "92c389f8",
   "metadata": {},
   "outputs": [
    {
     "name": "stdout",
     "output_type": "stream",
     "text": [
      "[ 2.93333333 -3.42222222  0.06666667]\n"
     ]
    }
   ],
   "source": [
    "# np.linalg.solve uses LU decomposition to solve the equation\n",
    "\n",
    "M = np.array([[4,3,8],[-2, -3, 9],[1,0,1]])\n",
    "b = np.array([2,5,3])\n",
    "\n",
    "v = np.linalg.solve(M, b)\n",
    "print(v)"
   ]
  },
  {
   "cell_type": "code",
   "execution_count": 8,
   "id": "60d7b4fd",
   "metadata": {},
   "outputs": [
    {
     "name": "stdout",
     "output_type": "stream",
     "text": [
      "[ 2.93333333 -3.42222222  0.06666667]\n"
     ]
    }
   ],
   "source": [
    "# Using matrix inversion and subsequent mat mult to solve the eq\n",
    "\n",
    "M_inv = np.linalg.inv(M)\n",
    "w = np.dot(M_inv, b)\n",
    "print(w)"
   ]
  },
  {
   "cell_type": "code",
   "execution_count": 14,
   "id": "50b82eb4",
   "metadata": {},
   "outputs": [
    {
     "name": "stdout",
     "output_type": "stream",
     "text": [
      "P:\n",
      " [[1. 0. 0.]\n",
      " [0. 1. 0.]\n",
      " [0. 0. 1.]]\n",
      "L:\n",
      " [[ 1.    0.    0.  ]\n",
      " [-0.5   1.    0.  ]\n",
      " [ 0.25  0.5   1.  ]]\n",
      "U:\n",
      " [[ 4.   3.   8. ]\n",
      " [ 0.  -1.5 13. ]\n",
      " [ 0.   0.  -7.5]]\n",
      "The dot product must lead to original matrix:\n",
      " [[ 4.  3.  8.]\n",
      " [-2. -3.  9.]\n",
      " [ 1.  0.  1.]]\n"
     ]
    }
   ],
   "source": [
    "# Using scipy to get the L and U matrices of the decompostion\n",
    "\n",
    "import scipy as sc\n",
    "from scipy.linalg import lu\n",
    "\n",
    "P, L, U = lu(M)\n",
    "\n",
    "print(\"P:\\n\", P)\n",
    "print(\"L:\\n\", L)\n",
    "print(\"U:\\n\", U)\n",
    "print(\"The dot product must lead to original matrix:\\n\", np.dot(L, U))"
   ]
  },
  {
   "cell_type": "code",
   "execution_count": null,
   "id": "8de2dbaa",
   "metadata": {},
   "outputs": [],
   "source": []
  },
  {
   "cell_type": "code",
   "execution_count": null,
   "id": "ff78633a",
   "metadata": {},
   "outputs": [],
   "source": []
  },
  {
   "cell_type": "code",
   "execution_count": null,
   "id": "f25ba263",
   "metadata": {},
   "outputs": [],
   "source": []
  },
  {
   "cell_type": "code",
   "execution_count": null,
   "id": "0572d697",
   "metadata": {},
   "outputs": [],
   "source": []
  },
  {
   "cell_type": "code",
   "execution_count": null,
   "id": "268c7592",
   "metadata": {},
   "outputs": [],
   "source": []
  },
  {
   "cell_type": "code",
   "execution_count": null,
   "id": "535a6562",
   "metadata": {},
   "outputs": [],
   "source": []
  },
  {
   "cell_type": "code",
   "execution_count": null,
   "id": "820f073a",
   "metadata": {},
   "outputs": [],
   "source": [
    "\n"
   ]
  },
  {
   "cell_type": "code",
   "execution_count": null,
   "id": "b5c09ce4",
   "metadata": {},
   "outputs": [],
   "source": []
  },
  {
   "cell_type": "code",
   "execution_count": null,
   "id": "aabca019",
   "metadata": {},
   "outputs": [],
   "source": []
  },
  {
   "cell_type": "code",
   "execution_count": null,
   "id": "ebf2061f",
   "metadata": {},
   "outputs": [],
   "source": []
  }
 ],
 "metadata": {
  "kernelspec": {
   "display_name": "Python 3",
   "language": "python",
   "name": "python3"
  },
  "language_info": {
   "codemirror_mode": {
    "name": "ipython",
    "version": 3
   },
   "file_extension": ".py",
   "mimetype": "text/x-python",
   "name": "python",
   "nbconvert_exporter": "python",
   "pygments_lexer": "ipython3",
   "version": "3.8.8"
  }
 },
 "nbformat": 4,
 "nbformat_minor": 5
}
