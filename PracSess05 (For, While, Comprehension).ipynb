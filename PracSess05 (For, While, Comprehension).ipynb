{
 "cells": [
  {
   "cell_type": "code",
   "execution_count": 1,
   "id": "73d761a1",
   "metadata": {},
   "outputs": [],
   "source": [
    "import numpy as np"
   ]
  },
  {
   "cell_type": "code",
   "execution_count": 2,
   "id": "30aef1d3",
   "metadata": {},
   "outputs": [
    {
     "name": "stdout",
     "output_type": "stream",
     "text": [
      "b\n",
      "a\n",
      "n\n",
      "a\n",
      "n\n",
      "a\n"
     ]
    }
   ],
   "source": [
    "# For loop is a definite loop \n",
    "for c in \"banana\":\n",
    "    print(c)"
   ]
  },
  {
   "cell_type": "code",
   "execution_count": 5,
   "id": "eba5e648",
   "metadata": {},
   "outputs": [
    {
     "name": "stdout",
     "output_type": "stream",
     "text": [
      "a\n",
      "p\n",
      "p\n",
      "l\n",
      "e\n"
     ]
    }
   ],
   "source": [
    "word = \"apple\"\n",
    "for c in range(len(word)):\n",
    "    print(word[c])"
   ]
  },
  {
   "cell_type": "code",
   "execution_count": 9,
   "id": "21d12a4c",
   "metadata": {},
   "outputs": [
    {
     "name": "stdout",
     "output_type": "stream",
     "text": [
      "41\n"
     ]
    }
   ],
   "source": [
    "# Reading the elements of a list and operating on them\n",
    "list_a = [2,4,5,3,9,12,5,1]\n",
    "s = 0\n",
    "for i in list_a:\n",
    "    s = s + i    # s += i\n",
    "print(s)    "
   ]
  },
  {
   "cell_type": "code",
   "execution_count": 15,
   "id": "7d149ded",
   "metadata": {},
   "outputs": [
    {
     "name": "stdout",
     "output_type": "stream",
     "text": [
      "21\n"
     ]
    }
   ],
   "source": [
    "# summing the even indexed element \n",
    "s = 0\n",
    "for i in range(0,len(list_a),2):\n",
    "    s = s+ list_a[i]\n",
    "print(s)    "
   ]
  },
  {
   "cell_type": "code",
   "execution_count": 16,
   "id": "7368c2e8",
   "metadata": {},
   "outputs": [],
   "source": [
    "# Dictionary and looping through its keys"
   ]
  },
  {
   "cell_type": "code",
   "execution_count": 21,
   "id": "f359728a",
   "metadata": {},
   "outputs": [
    {
     "name": "stdout",
     "output_type": "stream",
     "text": [
      "car : 1\n",
      "Apple : 2\n",
      "Orange : 3\n"
     ]
    }
   ],
   "source": [
    "dict_a = {\"car\":1, \"Apple\":2, \"Orange\":3}\n",
    "for k in dict_a.keys():         # Strings are the keys of dict\n",
    "    print(k ,\":\", dict_a[k] )"
   ]
  },
  {
   "cell_type": "code",
   "execution_count": 37,
   "id": "01450544",
   "metadata": {},
   "outputs": [
    {
     "name": "stdout",
     "output_type": "stream",
     "text": [
      "1\n"
     ]
    }
   ],
   "source": [
    "# Check if the string has any number \n",
    "def have_digits(s):\n",
    "    out = 0\n",
    "    for c in s:\n",
    "        if c.isdigit():\n",
    "            out = 1\n",
    "            break       \n",
    "# Break statement stops the loop when condition is satisfied\n",
    "# here, as soon as any number is found in the string, the loops breaks\n",
    "    return out\n",
    "check = have_digits(\"here 4 you\")\n",
    "print(check)"
   ]
  },
  {
   "cell_type": "code",
   "execution_count": 49,
   "id": "fa0908d9",
   "metadata": {},
   "outputs": [
    {
     "name": "stdout",
     "output_type": "stream",
     "text": [
      "0\n",
      "1\n",
      "2\n",
      "4\n"
     ]
    }
   ],
   "source": [
    "# Continue statement, is used to skip the iteration in\n",
    "#the loop and go to the next element of the looping array\n",
    "for i in range(5):\n",
    "    if i==3:\n",
    "        continue\n",
    "    print(i)"
   ]
  },
  {
   "cell_type": "code",
   "execution_count": 52,
   "id": "6cfa9a68",
   "metadata": {},
   "outputs": [
    {
     "name": "stdout",
     "output_type": "stream",
     "text": [
      "[8.48528137423857, 7.0710678118654755, 5.656854249492381]\n"
     ]
    }
   ],
   "source": [
    "def cal_dist(points , point):\n",
    "    d = []\n",
    "    for x in points:\n",
    "        dist = np.sqrt((x[0]-point[0])**2 + (x[1]-point[1])**2)\n",
    "        d.append(dist)\n",
    "    return d\n",
    "distance = cal_dist([(1,2),(2,3),(3,4)], (7,8))\n",
    "\n",
    "print(distance)"
   ]
  },
  {
   "cell_type": "code",
   "execution_count": 74,
   "id": "c184c8d1",
   "metadata": {},
   "outputs": [
    {
     "name": "stdout",
     "output_type": "stream",
     "text": [
      "10\n"
     ]
    }
   ],
   "source": [
    "# Nested loop to sum elements of an 2D array\n",
    "array_a = np.array([[1,2],[3,4]])\n",
    "n , m = array_a.shape       # n and m takes the row and column number \n",
    "sum = 0\n",
    "for i in range (n):\n",
    "    for j in range (m):\n",
    "        sum = sum + array_a[i,j]  \n",
    "print(sum)"
   ]
  },
  {
   "cell_type": "code",
   "execution_count": 75,
   "id": "3a538542",
   "metadata": {},
   "outputs": [],
   "source": [
    "# While loop is indefinite loop, the iteration continues as long as\n",
    "# logical expression remains true"
   ]
  },
  {
   "cell_type": "code",
   "execution_count": 79,
   "id": "c9f1374b",
   "metadata": {},
   "outputs": [
    {
     "name": "stdout",
     "output_type": "stream",
     "text": [
      " n = 0.5, i = 4\n"
     ]
    }
   ],
   "source": [
    "i = 0\n",
    "n = 8\n",
    "while n >= 1:\n",
    "    n /= 2\n",
    "    i = i+1       #counts the number of steps it will take to break the loop \n",
    "    continue\n",
    "print(f\" n = {n}, i = {i}\")"
   ]
  },
  {
   "cell_type": "markdown",
   "id": "ab4bff89",
   "metadata": {},
   "source": [
    "# When number of iterations is well defined from the start, use for loop\n",
    "# otherwise if the iteration numbers are not defined, use while loop "
   ]
  },
  {
   "cell_type": "code",
   "execution_count": 81,
   "id": "e360f228",
   "metadata": {},
   "outputs": [],
   "source": [
    "# Comprehensions"
   ]
  },
  {
   "cell_type": "code",
   "execution_count": null,
   "id": "5d8cf31a",
   "metadata": {},
   "outputs": [],
   "source": [
    "#Comprehensions allow sequences to be created from other sequences \n",
    "#using very compact syntax"
   ]
  },
  {
   "cell_type": "code",
   "execution_count": 86,
   "id": "b73274f2",
   "metadata": {},
   "outputs": [
    {
     "name": "stdout",
     "output_type": "stream",
     "text": [
      "[1, 4, 9, 16, 25]\n"
     ]
    }
   ],
   "source": [
    "# Squaring the elements of a list using comprehension\n",
    "x = [1,2,3,4,5]\n",
    "y = [i**2 for i in x]     # operating on loop element directly and storing the values in a variable\n",
    "print(y)"
   ]
  },
  {
   "cell_type": "code",
   "execution_count": 88,
   "id": "fc0389c9",
   "metadata": {},
   "outputs": [
    {
     "name": "stdout",
     "output_type": "stream",
     "text": [
      "[4, 16]\n"
     ]
    }
   ],
   "source": [
    "# conditional statement can also be included in the comprehension\n",
    "y = [i**2 for i in x if i%2==0]\n",
    "print(y)"
   ]
  },
  {
   "cell_type": "code",
   "execution_count": 98,
   "id": "7234a816",
   "metadata": {},
   "outputs": [
    {
     "name": "stdout",
     "output_type": "stream",
     "text": [
      "[0, 1, 2, 3, 4, 5, 6, 7, 8, 9, 1, 2, 3, 4, 5, 6, 7, 8, 9, 10, 2, 3, 4, 5, 6, 7, 8, 9, 10, 11, 3, 4, 5, 6, 7, 8, 9, 10, 11, 12, 4, 5, 6, 7, 8, 9, 10, 11, 12, 13]\n"
     ]
    }
   ],
   "source": [
    "# nested loops are also performable in the comprehension\n",
    "z = [ i*j for i in range(5) for j in range(10) if (i*j) % 2==0]\n",
    "print(y)"
   ]
  },
  {
   "cell_type": "code",
   "execution_count": 101,
   "id": "8d807e42",
   "metadata": {},
   "outputs": [
    {
     "data": {
      "text/plain": [
       "{'a': 1, 'b': 12167, 'c': 1728}"
      ]
     },
     "execution_count": 101,
     "metadata": {},
     "output_type": "execute_result"
    }
   ],
   "source": [
    "# Dictionary Comprehension\n",
    "x = {\"a\":1, \"b\":23, \"c\":12}\n",
    "{key:v**3 for (key,v) in x.items()}"
   ]
  },
  {
   "cell_type": "code",
   "execution_count": 124,
   "id": "4135296b",
   "metadata": {},
   "outputs": [
    {
     "name": "stdout",
     "output_type": "stream",
     "text": [
      "[[19. 41.]\n",
      " [43. 93.]]\n"
     ]
    }
   ],
   "source": [
    "# Matrix_Mult\n",
    "\n",
    "arr_a = np.array([[1,2],[3,4]])\n",
    "arr_b = np.array([[5,6],[7,8]])\n",
    "n,m = np.shape(array_a)\n",
    "def mat_mul(a,b):\n",
    "    for i in range(n):\n",
    "        sum = 0\n",
    "        for j in range(n):\n",
    "            for k in range(n):\n",
    "                sum = sum + arr_a[i,k] * arr_b[k,j]\n",
    "        arr_c[i,j] = sum\n",
    "    return arr_c\n",
    "mult = mat_mul(arr_a, arr_b)              \n",
    "print(mult)"
   ]
  },
  {
   "cell_type": "code",
   "execution_count": null,
   "id": "62e9bb6d",
   "metadata": {},
   "outputs": [],
   "source": []
  },
  {
   "cell_type": "code",
   "execution_count": null,
   "id": "3832054a",
   "metadata": {},
   "outputs": [],
   "source": []
  }
 ],
 "metadata": {
  "kernelspec": {
   "display_name": "Python 3",
   "language": "python",
   "name": "python3"
  },
  "language_info": {
   "codemirror_mode": {
    "name": "ipython",
    "version": 3
   },
   "file_extension": ".py",
   "mimetype": "text/x-python",
   "name": "python",
   "nbconvert_exporter": "python",
   "pygments_lexer": "ipython3",
   "version": "3.8.8"
  }
 },
 "nbformat": 4,
 "nbformat_minor": 5
}
