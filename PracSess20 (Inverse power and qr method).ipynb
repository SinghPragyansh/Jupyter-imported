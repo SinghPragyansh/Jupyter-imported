{
 "cells": [
  {
   "cell_type": "code",
   "execution_count": 1,
   "id": "355345d8",
   "metadata": {},
   "outputs": [],
   "source": [
    "# Inverse Power method"
   ]
  },
  {
   "cell_type": "markdown",
   "id": "7f7733dc",
   "metadata": {},
   "source": [
    "The eigenvalues of the inverse matrix A−1 are the reciprocals of the eigenvalues of A. instead of applying A as\n",
    "described above, we just apply A−1 for our iteration to find the largest value of λ11 , which will be the\n",
    "smallest value of the eigenvalues for A"
   ]
  },
  {
   "cell_type": "code",
   "execution_count": 2,
   "id": "cc09c6e5",
   "metadata": {},
   "outputs": [],
   "source": [
    "# Finding the smallest eigen value and corresponding eigen vector"
   ]
  },
  {
   "cell_type": "code",
   "execution_count": 9,
   "id": "406ed3de",
   "metadata": {},
   "outputs": [],
   "source": [
    "import numpy as np\n",
    "from numpy.linalg import inv\n",
    "\n",
    "def inv_pwr(inp_vec):\n",
    "    com_val = abs(inp_vec).max()\n",
    "    new_vec = inp_vec / inp_vec.max()\n",
    "    return com_val, new_vec "
   ]
  },
  {
   "cell_type": "code",
   "execution_count": 15,
   "id": "ca77dddd",
   "metadata": {},
   "outputs": [
    {
     "name": "stdout",
     "output_type": "stream",
     "text": [
      "[[-1.6  1. ]\n",
      " [ 0.2  0. ]]\n",
      "Smallest eigen value:\n",
      " 0.4 and \n",
      "corresponding vector: \n",
      " [[-0.5]\n",
      " [ 1. ]]\n"
     ]
    }
   ],
   "source": [
    "M = np.array([[0,5],[1,8]])\n",
    "M_inv = inv(M)\n",
    "print(M_inv)\n",
    "y = np.array([[2],[3]])\n",
    "store_vec = y\n",
    "for i in range(10):\n",
    "    dp = np.dot(M_inv, store_vec)\n",
    "    least_val, store = inv_pwr(dp)\n",
    "\n",
    "print(\"Smallest eigen value:\\n\",least_val,\"and \\ncorresponding vector: \\n\", store)"
   ]
  },
  {
   "cell_type": "code",
   "execution_count": 16,
   "id": "f2da2464",
   "metadata": {},
   "outputs": [],
   "source": [
    "# The QR method:"
   ]
  },
  {
   "cell_type": "markdown",
   "id": "e329405e",
   "metadata": {},
   "source": [
    "The QR method is the preferred iterative method to find all the eigenvalues of a matrix (but not the\n",
    "eigenvectors at the same time).\n",
    " Similar matrices will have the same eigenvalues and associated eigenvectors. Two square matrices A and B are similar if they are connected by similarity transforamtion."
   ]
  },
  {
   "cell_type": "markdown",
   "id": "d3bb053b",
   "metadata": {},
   "source": [
    "The QR method is a way to decompose a matrix into two matrices Q and R, where Q is\n",
    "an orthogonal matrix, and R is an upper triangular matrix. An orthogonal matrix satisfies\n",
    "Q−1 = QT , which means Q−1 Q = QT Q = I"
   ]
  },
  {
   "cell_type": "markdown",
   "id": "0c20712f",
   "metadata": {},
   "source": [
    "we have qr function in numpy linalg"
   ]
  },
  {
   "cell_type": "code",
   "execution_count": 18,
   "id": "50d9a2a3",
   "metadata": {},
   "outputs": [],
   "source": [
    "from numpy.linalg import qr\n",
    "import numpy as np"
   ]
  },
  {
   "cell_type": "code",
   "execution_count": 20,
   "id": "48d20b04",
   "metadata": {},
   "outputs": [],
   "source": [
    "arr_a = np.array([[0,2],[2,3]])\n",
    "q ,r = qr(arr_a)"
   ]
  },
  {
   "cell_type": "code",
   "execution_count": 25,
   "id": "7d3f7186",
   "metadata": {},
   "outputs": [
    {
     "name": "stdout",
     "output_type": "stream",
     "text": [
      "Q: \n",
      " [[ 0. -1.]\n",
      " [-1.  0.]]\n",
      "R: \n",
      " [[-2. -3.]\n",
      " [ 0. -2.]]\n"
     ]
    }
   ],
   "source": [
    "print(\"Q: \\n\", q)\n",
    "print(\"R: \\n\", r)"
   ]
  },
  {
   "cell_type": "code",
   "execution_count": 26,
   "id": "fb3224ea",
   "metadata": {},
   "outputs": [
    {
     "name": "stdout",
     "output_type": "stream",
     "text": [
      "QR: \n",
      " [[0. 2.]\n",
      " [2. 3.]]\n",
      "RQ: \n",
      " [[3. 2.]\n",
      " [2. 0.]]\n"
     ]
    }
   ],
   "source": [
    "d_pro = np.dot(q, r)\n",
    "d_pro_1 = np.dot(r, q)\n",
    "print(\"QR: \\n\", d_pro)\n",
    "print(\"RQ: \\n\", d_pro_1)"
   ]
  },
  {
   "cell_type": "code",
   "execution_count": 70,
   "id": "ac610afe",
   "metadata": {},
   "outputs": [],
   "source": [
    "# Get different q and r matrices using successive iteration\n",
    "# Now using the above qr matrices to get eigen value"
   ]
  },
  {
   "cell_type": "markdown",
   "id": "22778a44",
   "metadata": {},
   "source": [
    "Eigen value in qr matrix is on diagonal only when we have upper traingular\n",
    "matrix as the ddot product r.q. "
   ]
  },
  {
   "cell_type": "code",
   "execution_count": 73,
   "id": "797d653b",
   "metadata": {},
   "outputs": [
    {
     "name": "stdout",
     "output_type": "stream",
     "text": [
      "Iteration number:  1\n",
      "[[20.71428571  8.96679515 -1.98583068]\n",
      " [11.5851039  24.67072671  2.63317367]\n",
      " [-0.81000988  0.23277687  3.61498757]]\n",
      "Iteration number:  100\n",
      "[[ 3.30693672e+01 -2.47902211e+00 -1.46588147e+00]\n",
      " [ 6.33600050e-41  1.25764128e+01 -2.38864834e+00]\n",
      " [ 4.91904501e-99 -1.19743235e-57  3.35421996e+00]]\n",
      "Iteration number:  771\n",
      "[[ 3.30693672e+001  2.47902211e+000  1.46588147e+000]\n",
      " [-1.23516411e-322  1.25764128e+001 -2.38864834e+000]\n",
      " [ 0.00000000e+000  0.00000000e+000  3.35421996e+000]]\n",
      "Iteration number:  772\n",
      "[[33.06936724 -2.47902211 -1.46588147]\n",
      " [ 0.         12.57641281 -2.38864834]\n",
      " [ 0.          0.          3.35421996]]\n",
      "Iteration number:  1000\n",
      "[[33.06936724 -2.47902211 -1.46588147]\n",
      " [ 0.         12.57641281 -2.38864834]\n",
      " [ 0.          0.          3.35421996]]\n"
     ]
    }
   ],
   "source": [
    "arr_b = np.array([[12,3,5],[6,32,1],[3,2,5]])\n",
    "count = [1, 100, 771, 772, 1000]\n",
    "store = arr_b\n",
    "for i in range(1000):     # Number of iteration for qr\n",
    "    q, r = qr(store)    # setting up q, r matrix formation \n",
    "    store = np.dot(r, q)   # taking dot product of decomposed matrices \n",
    "    if i+1 in count:       # checking the iteration number and printing if it matches the number in count \n",
    "        print(\"Iteration number: \", i+1)\n",
    "        print(store)"
   ]
  },
  {
   "cell_type": "markdown",
   "id": "3fa72178",
   "metadata": {},
   "source": [
    "Important poin to note here is, the dot product of qr is changing into\n",
    "upper triangular matrix at 772nd iteration, therefore we have eigen value on the diagonal only after that iteration"
   ]
  },
  {
   "cell_type": "code",
   "execution_count": 40,
   "id": "eae66743",
   "metadata": {},
   "outputs": [],
   "source": [
    "# Using libraries of python to get the eigen values"
   ]
  },
  {
   "cell_type": "code",
   "execution_count": 41,
   "id": "b5cd89e3",
   "metadata": {},
   "outputs": [],
   "source": [
    "from numpy.linalg import eig"
   ]
  },
  {
   "cell_type": "code",
   "execution_count": 77,
   "id": "5bdd0552",
   "metadata": {},
   "outputs": [
    {
     "name": "stdout",
     "output_type": "stream",
     "text": [
      "Eigen value is: \n",
      "[33.06936724 12.57641281  3.35421996]\n",
      "Eigen vector is: \n",
      " [[-0.16068616 -0.91219811 -0.5194867 ]\n",
      " [-0.98314383  0.29634889  0.07910804]\n",
      " [-0.08722484 -0.28296987  0.85080873]]\n"
     ]
    }
   ],
   "source": [
    "arr_b = np.array([[12,3,5],[6,32,1],[3,2,5]])\n",
    "value , vector = eig(arr_b)\n",
    "print(f\"Eigen value is: \\n{value}\")\n",
    "print(f\"Eigen vector is: \\n {vector}\" )"
   ]
  },
  {
   "cell_type": "code",
   "execution_count": null,
   "id": "57661fb6",
   "metadata": {},
   "outputs": [],
   "source": []
  },
  {
   "cell_type": "code",
   "execution_count": null,
   "id": "882103a7",
   "metadata": {},
   "outputs": [],
   "source": []
  },
  {
   "cell_type": "code",
   "execution_count": null,
   "id": "aff81352",
   "metadata": {},
   "outputs": [],
   "source": []
  }
 ],
 "metadata": {
  "kernelspec": {
   "display_name": "Python 3",
   "language": "python",
   "name": "python3"
  },
  "language_info": {
   "codemirror_mode": {
    "name": "ipython",
    "version": 3
   },
   "file_extension": ".py",
   "mimetype": "text/x-python",
   "name": "python",
   "nbconvert_exporter": "python",
   "pygments_lexer": "ipython3",
   "version": "3.8.8"
  }
 },
 "nbformat": 4,
 "nbformat_minor": 5
}
