{
 "cells": [
  {
   "cell_type": "markdown",
   "id": "70544797",
   "metadata": {},
   "source": [
    "Use the fsolve function from SciPy to compute the root of f (x) = cos(x) − x near\n",
    "−2."
   ]
  },
  {
   "cell_type": "code",
   "execution_count": 2,
   "id": "86e6ab43",
   "metadata": {},
   "outputs": [],
   "source": [
    "import numpy as np\n",
    "from scipy import optimize"
   ]
  },
  {
   "cell_type": "code",
   "execution_count": 3,
   "id": "5d1b4385",
   "metadata": {},
   "outputs": [],
   "source": [
    "# Defining function\n",
    "f = lambda x: x**2 + 4*x - 9\n",
    "g = lambda y: np.cos(y) - y"
   ]
  },
  {
   "cell_type": "code",
   "execution_count": 4,
   "id": "bdab38e0",
   "metadata": {},
   "outputs": [
    {
     "name": "stdout",
     "output_type": "stream",
     "text": [
      "root of eq 1:  [-5.60555128]\n",
      "root of eq 2:  [0.73908513]\n"
     ]
    }
   ],
   "source": [
    "root_1 = optimize.fsolve(f, -3 )   # 2nd argument takes your input as an initial guess and return the nearest root of the equation\n",
    "print(\"root of eq 1: \", root_1)\n",
    "\n",
    "root_2 = optimize.fsolve(g, 10)\n",
    "print(\"root of eq 2: \", root_2)"
   ]
  },
  {
   "cell_type": "code",
   "execution_count": 5,
   "id": "1a8bb0d3",
   "metadata": {},
   "outputs": [
    {
     "name": "stdout",
     "output_type": "stream",
     "text": [
      "[3.55271368e-15]\n",
      "[0.]\n"
     ]
    }
   ],
   "source": [
    "# verification\n",
    "check_1 = f(root_1)\n",
    "print(check_1)\n",
    "\n",
    "check_2 = g(root_2)\n",
    "print(check_2)"
   ]
  },
  {
   "cell_type": "code",
   "execution_count": 16,
   "id": "b9207b58",
   "metadata": {},
   "outputs": [
    {
     "name": "stdout",
     "output_type": "stream",
     "text": [
      "[4.73172279e+127]\n"
     ]
    }
   ],
   "source": [
    "tol = 10**(-5)\n",
    "e = \n",
    "f_x = lambda x: 1/x\n",
    "root_3 = optimize.fsolve(f_x, tol )\n",
    "print(root_3)"
   ]
  },
  {
   "cell_type": "code",
   "execution_count": null,
   "id": "edb349ca",
   "metadata": {},
   "outputs": [],
   "source": []
  },
  {
   "cell_type": "code",
   "execution_count": 17,
   "id": "58f7d986",
   "metadata": {},
   "outputs": [],
   "source": [
    "# Bisection Method:"
   ]
  },
  {
   "cell_type": "markdown",
   "id": "221921f4",
   "metadata": {},
   "source": [
    "The Intermediate Value Theorem says that if f (x) is a continuous function between a and b, and\n",
    "sign(f (a)) != sign(f (b)), then there must be a c, such that a < c < b and f (c) = 0.\n",
    "The bisection method uses the intermediate value theorem iteratively to find roots."
   ]
  },
  {
   "cell_type": "markdown",
   "id": "88c5cf67",
   "metadata": {},
   "source": [
    "Let f (x) be\n",
    "a continuous function, and a and b be real scalar values such that a < b. Assume, without loss of\n",
    "generality, that f (a) > 0 and f (b) < 0. Then, by the intermediate value theorem, there must be a root\n",
    "in the open interval (a, b)."
   ]
  },
  {
   "cell_type": "markdown",
   "id": "9619082f",
   "metadata": {},
   "source": [
    "Now let m = b+a\n",
    "2 be the midpoint between and a and b. If f (m) = 0 or\n",
    "is close enough, then m is a root. If f (m) > 0, then m is an improvement on the left bound, a, and it\n",
    "is guaranteed that there is a root in the open interval (m, b). If f (m) < 0, then m is an improvement\n",
    "on the right bound, b, it is guaranteed that there is a root in the open interval (a, m)."
   ]
  },
  {
   "cell_type": "code",
   "execution_count": 21,
   "id": "33495d98",
   "metadata": {},
   "outputs": [],
   "source": [
    "import numpy as np"
   ]
  },
  {
   "cell_type": "code",
   "execution_count": 23,
   "id": "b16c099a",
   "metadata": {},
   "outputs": [],
   "source": [
    "def bisec_meth(f, a, b, tol):\n",
    "    # Recursive implementation\n",
    "    \n",
    "    if np.sign(f(a)) == np.sign(f(b)):\n",
    "        raise Exception(\"The scalars a and b have same sign of function value\")\n",
    "    \n",
    "    m = (a+b)/2\n",
    "    \n",
    "    if np.abs(f(m)) < tol :\n",
    "        return m       # m is the root\n",
    "    \n",
    "    elif np.sign(f(a)) == np.sign(f(m)):\n",
    "        a = m     # substituting  \"a\" value with \"m\" \n",
    "        return bisec_meth(f, a, b, tol)\n",
    "    \n",
    "    elif np.sign(f(b)) == np.sign(f(m)):\n",
    "        b = m\n",
    "        return bisec_meth(f, a, b, tol)\n",
    "    "
   ]
  },
  {
   "cell_type": "code",
   "execution_count": 48,
   "id": "c73b380d",
   "metadata": {},
   "outputs": [
    {
     "name": "stdout",
     "output_type": "stream",
     "text": [
      "Root_0.1 at x =  1.4375\n",
      "Root_0.01 at x =  1.4140625\n",
      "Root_0.001 at x =  1.4140625\n",
      "f(r1) =  0.06640625\n",
      "f(r01) =  -0.00042724609375\n",
      "f(r001) =  -0.00042724609375\n"
     ]
    }
   ],
   "source": [
    "# Initializing with the function and parameters\n",
    "\n",
    "f_x = lambda x: x**2 - 2\n",
    "\n",
    "r1 = bisec_meth(f_x, 0, 2, 0.1)\n",
    "print(\"Root_0.1 at x = \", r1)\n",
    "\n",
    "r01 = bisec_meth(f_x, 0, 2, 0.01)\n",
    "print(\"Root_0.01 at x = \", r01)\n",
    "\n",
    "r001 = bisec_meth(f_x, 0, 2, 0.001)\n",
    "print(\"Root_0.001 at x = \", r001)\n",
    "\n",
    "print(\"f(r1) = \", f_x(r1))\n",
    "print(\"f(r01) = \", f_x(r01))\n",
    "print(\"f(r001) = \", f_x(r001))"
   ]
  },
  {
   "cell_type": "code",
   "execution_count": null,
   "id": "299d6fc1",
   "metadata": {},
   "outputs": [],
   "source": []
  },
  {
   "cell_type": "code",
   "execution_count": null,
   "id": "d5f26158",
   "metadata": {},
   "outputs": [],
   "source": []
  },
  {
   "cell_type": "code",
   "execution_count": null,
   "id": "699671b7",
   "metadata": {},
   "outputs": [],
   "source": []
  },
  {
   "cell_type": "code",
   "execution_count": null,
   "id": "2a754e54",
   "metadata": {},
   "outputs": [],
   "source": []
  }
 ],
 "metadata": {
  "kernelspec": {
   "display_name": "Python 3",
   "language": "python",
   "name": "python3"
  },
  "language_info": {
   "codemirror_mode": {
    "name": "ipython",
    "version": 3
   },
   "file_extension": ".py",
   "mimetype": "text/x-python",
   "name": "python",
   "nbconvert_exporter": "python",
   "pygments_lexer": "ipython3",
   "version": "3.8.8"
  }
 },
 "nbformat": 4,
 "nbformat_minor": 5
}
