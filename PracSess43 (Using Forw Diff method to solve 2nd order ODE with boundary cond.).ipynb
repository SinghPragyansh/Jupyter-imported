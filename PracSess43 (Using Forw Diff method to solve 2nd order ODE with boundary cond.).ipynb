{
 "cells": [
  {
   "cell_type": "code",
   "execution_count": 1,
   "id": "627b9f61",
   "metadata": {},
   "outputs": [],
   "source": [
    "# Shooting Method"
   ]
  },
  {
   "cell_type": "markdown",
   "id": "2bf39ee8",
   "metadata": {},
   "source": [
    "The shooting method was developed with the goal of transforming an ODE boundary value problem\n",
    "into an equivalent initial value problem Based on the errors, we can adjust our aim and shoot\n",
    "again hoping that we will hit closer to the target. We can see from the analogy that the shooting method\n",
    "is an iterative optimization method."
   ]
  },
  {
   "cell_type": "code",
   "execution_count": 2,
   "id": "d4afa2e0",
   "metadata": {},
   "outputs": [],
   "source": [
    "# Finite difference method"
   ]
  },
  {
   "cell_type": "markdown",
   "id": "1cbda972",
   "metadata": {},
   "source": [
    "Another way to solve the ODE boundary value problems is to use the finite difference method, where\n",
    "we use finite difference formulas at evenly spaced grid points to approximate the differential equations,\n",
    "which then transforms a differential equation into a system of algebraic equations to solve.\n",
    "\n",
    "Usually, we use the central difference formulas in the finite difference methods because they yield\n",
    "better accuracy. The differential equation is enforced only at the grid points,"
   ]
  },
  {
   "cell_type": "code",
   "execution_count": 4,
   "id": "161d7ffe",
   "metadata": {},
   "outputs": [],
   "source": [
    "import numpy as np\n",
    "import matplotlib.pyplot as plt\n",
    "plt.style.use(\"seaborn-poster\")\n",
    "%matplotlib inline"
   ]
  },
  {
   "cell_type": "code",
   "execution_count": 5,
   "id": "d222fa1a",
   "metadata": {},
   "outputs": [],
   "source": [
    "n = 10\n",
    "h = (5-0)/n"
   ]
  },
  {
   "cell_type": "code",
   "execution_count": 12,
   "id": "428445df",
   "metadata": {},
   "outputs": [
    {
     "name": "stdout",
     "output_type": "stream",
     "text": [
      "[[ 1.  0.  0.  0.  0.  0.  0.  0.  0.  0.  0.]\n",
      " [ 1. -2.  1.  0.  0.  0.  0.  0.  0.  0.  0.]\n",
      " [ 0.  1. -2.  1.  0.  0.  0.  0.  0.  0.  0.]\n",
      " [ 0.  0.  1. -2.  1.  0.  0.  0.  0.  0.  0.]\n",
      " [ 0.  0.  0.  1. -2.  1.  0.  0.  0.  0.  0.]\n",
      " [ 0.  0.  0.  0.  1. -2.  1.  0.  0.  0.  0.]\n",
      " [ 0.  0.  0.  0.  0.  1. -2.  1.  0.  0.  0.]\n",
      " [ 0.  0.  0.  0.  0.  0.  1. -2.  1.  0.  0.]\n",
      " [ 0.  0.  0.  0.  0.  0.  0.  1. -2.  1.  0.]\n",
      " [ 0.  0.  0.  0.  0.  0.  0.  0.  1. -2.  1.]\n",
      " [ 0.  0.  0.  0.  0.  0.  0.  0.  0.  0.  1.]]\n"
     ]
    }
   ],
   "source": [
    "# Get M\n",
    "M = np.zeros((n+1, n+1))\n",
    "M[0, 0] = 1\n",
    "M[n, n] = 1\n",
    "\n",
    "for i in range(1,n):\n",
    "    M[i, i-1] = 1\n",
    "    M[i, i] = -2\n",
    "    M[i, i+1] = 1\n",
    "    \n",
    "print(M)"
   ]
  },
  {
   "cell_type": "code",
   "execution_count": 27,
   "id": "adb35643",
   "metadata": {},
   "outputs": [
    {
     "name": "stdout",
     "output_type": "stream",
     "text": [
      "[ 0.     -2.4525 -2.4525 -2.4525 -2.4525 -2.4525 -2.4525 -2.4525 -2.4525\n",
      " -2.4525 50.    ]\n"
     ]
    }
   ],
   "source": [
    "# RHS matrix\n",
    "N = np.zeros((n+1,))\n",
    "N[0] = 0\n",
    "N[n] = 0\n",
    "N[1:-1] = -9.81*h**2\n",
    "N[-1] = 50\n",
    "print(N)"
   ]
  },
  {
   "cell_type": "markdown",
   "id": "ac6d618b",
   "metadata": {},
   "source": [
    "Note: we have M and N matrix and in algebraic form\n",
    "\n",
    "[M] * [y] = [N] "
   ]
  },
  {
   "cell_type": "code",
   "execution_count": 29,
   "id": "d27e878f",
   "metadata": {},
   "outputs": [],
   "source": [
    "# solving the linear algebra\n",
    "\n",
    "y = np.linalg.solve(M, N)\n",
    "\n",
    "interval = np.linspace(0, 5, 11)"
   ]
  },
  {
   "cell_type": "code",
   "execution_count": 30,
   "id": "147fa365",
   "metadata": {},
   "outputs": [
    {
     "data": {
      "text/plain": [
       "[<matplotlib.lines.Line2D at 0x7f116806fb50>]"
      ]
     },
     "execution_count": 30,
     "metadata": {},
     "output_type": "execute_result"
    },
    {
     "data": {
      "image/png": "[encoded data removed]",
      "text/plain": [
       "<Figure size 432x288 with 1 Axes>"
      ]
     },
     "metadata": {
      "needs_background": "light"
     },
     "output_type": "display_data"
    }
   ],
   "source": [
    "plt.plot(interval, y)\n",
    "plt.plot(5, 50, \"ro\")"
   ]
  },
  {
   "cell_type": "code",
   "execution_count": 33,
   "id": "74deb67c",
   "metadata": {},
   "outputs": [],
   "source": [
    "# another way to solve using inverse\n",
    "\n",
    "v = np.dot(np.linalg.inv(M), N)"
   ]
  },
  {
   "cell_type": "code",
   "execution_count": 34,
   "id": "b67a114e",
   "metadata": {},
   "outputs": [
    {
     "data": {
      "text/plain": [
       "[<matplotlib.lines.Line2D at 0x7f1156f67c10>]"
      ]
     },
     "execution_count": 34,
     "metadata": {},
     "output_type": "execute_result"
    },
    {
     "data": {
      "image/png": "[encoded data removed]",
      "text/plain": [
       "<Figure size 432x288 with 1 Axes>"
      ]
     },
     "metadata": {
      "needs_background": "light"
     },
     "output_type": "display_data"
    }
   ],
   "source": [
    "plt.plot(interval , v)    # array plotting\n",
    "plt.plot(5, 50, \"ro\")     # point plotting"
   ]
  },
  {
   "cell_type": "code",
   "execution_count": null,
   "id": "36682492",
   "metadata": {},
   "outputs": [],
   "source": []
  }
 ],
 "metadata": {
  "kernelspec": {
   "display_name": "Python 3",
   "language": "python",
   "name": "python3"
  },
  "language_info": {
   "codemirror_mode": {
    "name": "ipython",
    "version": 3
   },
   "file_extension": ".py",
   "mimetype": "text/x-python",
   "name": "python",
   "nbconvert_exporter": "python",
   "pygments_lexer": "ipython3",
   "version": "3.8.8"
  }
 },
 "nbformat": 4,
 "nbformat_minor": 5
}
