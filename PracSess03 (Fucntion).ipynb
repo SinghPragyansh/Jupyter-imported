{
 "cells": [
  {
   "cell_type": "code",
   "execution_count": 27,
   "id": "ef8c0ef2",
   "metadata": {},
   "outputs": [],
   "source": [
    "import numpy as np\n",
    "\n",
    "# A parameter is a variable defined by function that receives a value when function is called\n",
    "# An argument is a value that is passed to a method when it is invoked\n",
    "\n"
   ]
  },
  {
   "cell_type": "code",
   "execution_count": 34,
   "id": "0148b22f",
   "metadata": {},
   "outputs": [
    {
     "data": {
      "text/plain": [
       "6"
      ]
     },
     "execution_count": 34,
     "metadata": {},
     "output_type": "execute_result"
    }
   ],
   "source": [
    "def my_adder(x,y,z):\n",
    "    return x+y+z  \n",
    "d = my_adder(1,2,3)\n",
    "d"
   ]
  },
  {
   "cell_type": "code",
   "execution_count": 35,
   "id": "48c4327e",
   "metadata": {},
   "outputs": [
    {
     "name": "stdout",
     "output_type": "stream",
     "text": [
      "0.0012460119872275133 \n",
      " -1.2383397728620644 \n",
      " [0.0012460119872275133, -1.2383397728620644]\n"
     ]
    }
   ],
   "source": [
    "#Multiple output from the defined functional statements\n",
    "def tri_sum(a,b):\n",
    "    out1 = np.sin(a) + np.cos(b)\n",
    "    out2 = np.sin(b) + np.sin(a)\n",
    "    return out1, out2, [out1,out2]\n",
    "\n",
    "z1,z2,z3 = tri_sum(5,6)\n",
    "print(z1,\"\\n\",z2,\"\\n\",z3)"
   ]
  },
  {
   "cell_type": "code",
   "execution_count": 36,
   "id": "0a8a4e08",
   "metadata": {},
   "outputs": [
    {
     "data": {
      "text/plain": [
       "list"
      ]
     },
     "execution_count": 36,
     "metadata": {},
     "output_type": "execute_result"
    }
   ],
   "source": [
    "type(z3)"
   ]
  },
  {
   "cell_type": "code",
   "execution_count": 37,
   "id": "d1340eb0",
   "metadata": {},
   "outputs": [
    {
     "name": "stdout",
     "output_type": "stream",
     "text": [
      "(-0.47314030984470196, -1.7157267699710665, [-0.47314030984470196, -1.7157267699710665]) <class 'tuple'>\n"
     ]
    }
   ],
   "source": [
    "z4 = tri_sum(4,5)\n",
    "print(z4,type(z4))"
   ]
  },
  {
   "cell_type": "code",
   "execution_count": 38,
   "id": "6487c110",
   "metadata": {},
   "outputs": [
    {
     "name": "stdout",
     "output_type": "stream",
     "text": [
      "Value of Z is =(-0.47314030984470196, -1.7157267699710665, [-0.47314030984470196, -1.7157267699710665]) \n",
      "\n",
      "Value of z2 and z3 are =-1.2383397728620644 and [0.0012460119872275133, -1.2383397728620644]\n"
     ]
    }
   ],
   "source": [
    "# f is usable as the place holder in the print command\n",
    "print(f\"Value of Z is ={z4}\",\"\\n\")\n",
    "print(f\"Value of z2 and z3 are ={z2} and {z3}\")"
   ]
  },
  {
   "cell_type": "code",
   "execution_count": 39,
   "id": "9ad70834",
   "metadata": {},
   "outputs": [
    {
     "name": "stdout",
     "output_type": "stream",
     "text": [
      "within function is = 43\n",
      "changed n within the function = 3\n",
      "outside n =3\n"
     ]
    }
   ],
   "source": [
    "# Globalising the value of variable\n",
    "n = 43\n",
    "def func():\n",
    "    global n\n",
    "    print(f\"within function is = {n}\")\n",
    "    n = 3\n",
    "    print(f\"changed n within the function = {n}\")\n",
    "\n",
    "func()\n",
    "print(f\"outside n ={n}\")          "
   ]
  },
  {
   "cell_type": "code",
   "execution_count": 40,
   "id": "3c849a47",
   "metadata": {},
   "outputs": [
    {
     "name": "stdout",
     "output_type": "stream",
     "text": [
      "2.8284271247461903\n"
     ]
    }
   ],
   "source": [
    "# Importing list argument into the function definition\n",
    "m = [1,2]\n",
    "n = [3,4]\n",
    "o = [5,6]\n",
    "def dist_xyz(x,y,z):\n",
    "    out = np.sqrt((x[0]-y[0])**2 + (x[1]-y[1])**2)\n",
    "    return out\n",
    "l = dist_xyz(m,n,o)    \n",
    "print(l)"
   ]
  },
  {
   "cell_type": "code",
   "execution_count": 41,
   "id": "ef2ff8b9",
   "metadata": {},
   "outputs": [
    {
     "name": "stdout",
     "output_type": "stream",
     "text": [
      "6\n"
     ]
    }
   ],
   "source": [
    "my_adder = lambda k,l: k+l\n",
    "print(my_adder(2,4))"
   ]
  },
  {
   "cell_type": "code",
   "execution_count": 42,
   "id": "07145e30",
   "metadata": {},
   "outputs": [
    {
     "data": {
      "text/plain": [
       "[(2, 0), (4, 1), (1, 2)]"
      ]
     },
     "execution_count": 42,
     "metadata": {},
     "output_type": "execute_result"
    }
   ],
   "source": [
    "# Sorting the elements of tuple with chosen index\n",
    "# a custom key function can be supplied to customize the sort order\n",
    "tup_1 = ((1,2),(2,0),(4,1))\n",
    "sorted(tup_1, key=lambda y: y[1])"
   ]
  },
  {
   "cell_type": "code",
   "execution_count": 43,
   "id": "48212537",
   "metadata": {},
   "outputs": [
    {
     "data": {
      "text/plain": [
       "[(2, 0), (4, 1), (1, 2)]"
      ]
     },
     "execution_count": 43,
     "metadata": {},
     "output_type": "execute_result"
    }
   ],
   "source": [
    "sorted(((1,2),(2,0),(4,1)), key = lambda y: y[1])"
   ]
  },
  {
   "cell_type": "code",
   "execution_count": 48,
   "id": "f1e59e27",
   "metadata": {},
   "outputs": [
    {
     "name": "stdout",
     "output_type": "stream",
     "text": [
      "R Shankar is Good for fundamentals of graduates\n"
     ]
    }
   ],
   "source": [
    "def something(book, feeling):\n",
    "    print(f\"{book} is {feeling} for fundamentals of graduates\")\n",
    "\n",
    "something(\"R Shankar\",\"Good\")    "
   ]
  },
  {
   "cell_type": "markdown",
   "id": "e25349f7",
   "metadata": {},
   "source": [
    "# NESTED FUNCTION\n",
    "#A nested function is a function that is defined within another function – parent function.\n",
    "#Only the parent function is able to call the nested function."
   ]
  },
  {
   "cell_type": "code",
   "execution_count": 57,
   "id": "50f514a9",
   "metadata": {},
   "outputs": [
    {
     "data": {
      "text/plain": [
       "(1.0, 6.324555320336759, 7.280109889280518)"
      ]
     },
     "execution_count": 57,
     "metadata": {},
     "output_type": "execute_result"
    }
   ],
   "source": [
    "def dist_xyz(k,l,m):    # Import parameter from main program\n",
    "    def dist(x,y):      # Import parameter defintion program\n",
    "        out = np.sqrt((x[0]-y[0])**2 + (x[1]-y[1])**2)\n",
    "        return out\n",
    "    l1 = dist(k,l)       # Argument exported to nested fucntion\n",
    "    l2 = dist(l,m)       \n",
    "    l3 = dist(k,m)\n",
    "    \n",
    "    return (l1, l2, l3)    # Returning the value from calculation of nested function to the main function    \n",
    "\n",
    "t = dist_xyz((1,0),(1,1),(3,7))   \n",
    "t                      # Value obtained from the fucntion"
   ]
  },
  {
   "cell_type": "code",
   "execution_count": 60,
   "id": "b43d1562",
   "metadata": {},
   "outputs": [],
   "source": [
    "# Lambda Fucntion\n",
    "# Structure of Lambda \n",
    "# lambda arguments: expression"
   ]
  },
  {
   "cell_type": "code",
   "execution_count": 61,
   "id": "ea554bf3",
   "metadata": {},
   "outputs": [
    {
     "data": {
      "text/plain": [
       "25"
      ]
     },
     "execution_count": 61,
     "metadata": {},
     "output_type": "execute_result"
    }
   ],
   "source": [
    "sq = lambda x: x**2\n",
    "sq(5)"
   ]
  },
  {
   "cell_type": "code",
   "execution_count": null,
   "id": "8aa942c7",
   "metadata": {},
   "outputs": [],
   "source": [
    "# A function (pre-built or defined by user) can be assigned to a\n",
    "# variable and subsequently can be called later in the programm with \n",
    "# the varible itself"
   ]
  },
  {
   "cell_type": "code",
   "execution_count": 66,
   "id": "e82337b0",
   "metadata": {},
   "outputs": [
    {
     "data": {
      "text/plain": [
       "builtin_function_or_method"
      ]
     },
     "execution_count": 66,
     "metadata": {},
     "output_type": "execute_result"
    }
   ],
   "source": [
    "m = max\n",
    "type(m)"
   ]
  },
  {
   "cell_type": "code",
   "execution_count": 67,
   "id": "49afb0a2",
   "metadata": {},
   "outputs": [
    {
     "data": {
      "text/plain": [
       "70"
      ]
     },
     "execution_count": 67,
     "metadata": {},
     "output_type": "execute_result"
    }
   ],
   "source": [
    "list_a = [4,7,3,70]\n",
    "m(list_a)"
   ]
  },
  {
   "cell_type": "code",
   "execution_count": 68,
   "id": "1ef85a90",
   "metadata": {},
   "outputs": [],
   "source": [
    "# Importing function as a parameter inside another function"
   ]
  },
  {
   "cell_type": "code",
   "execution_count": 76,
   "id": "234c1d52",
   "metadata": {},
   "outputs": [
    {
     "name": "stdout",
     "output_type": "stream",
     "text": [
      "17.389056098930652\n",
      "9.041075725336862\n",
      "12.237160944224742\n"
     ]
    }
   ],
   "source": [
    "def another_func(first_func, floating):\n",
    "    return first_func(floating) + 10\n",
    "\n",
    "another_1 = another_func(np.exp , 2.0 )\n",
    "another_2 = another_func(np.sin , 5.0 )\n",
    "another_3 = another_func(np.tan , 20.0)\n",
    "\n",
    "print(another_1)\n",
    "print(another_2)    \n",
    "print(another_3)    "
   ]
  },
  {
   "cell_type": "code",
   "execution_count": null,
   "id": "9feab4ea",
   "metadata": {},
   "outputs": [],
   "source": []
  },
  {
   "cell_type": "code",
   "execution_count": null,
   "id": "152ec006",
   "metadata": {},
   "outputs": [],
   "source": []
  },
  {
   "cell_type": "code",
   "execution_count": null,
   "id": "ca6ae908",
   "metadata": {},
   "outputs": [],
   "source": []
  },
  {
   "cell_type": "code",
   "execution_count": null,
   "id": "80bce661",
   "metadata": {},
   "outputs": [],
   "source": []
  },
  {
   "cell_type": "code",
   "execution_count": null,
   "id": "336a10c6",
   "metadata": {},
   "outputs": [],
   "source": []
  }
 ],
 "metadata": {
  "kernelspec": {
   "display_name": "Python 3",
   "language": "python",
   "name": "python3"
  },
  "language_info": {
   "codemirror_mode": {
    "name": "ipython",
    "version": 3
   },
   "file_extension": ".py",
   "mimetype": "text/x-python",
   "name": "python",
   "nbconvert_exporter": "python",
   "pygments_lexer": "ipython3",
   "version": "3.8.8"
  }
 },
 "nbformat": 4,
 "nbformat_minor": 5
}
