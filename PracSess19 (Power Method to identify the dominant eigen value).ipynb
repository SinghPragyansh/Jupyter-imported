{
 "cells": [
  {
   "cell_type": "code",
   "execution_count": 1,
   "id": "4bf30474",
   "metadata": {},
   "outputs": [],
   "source": [
    "# Power method to solve the large eigen value problems"
   ]
  },
  {
   "cell_type": "markdown",
   "id": "9e907a5a",
   "metadata": {},
   "source": [
    "Some problems only require finding the largest dominant eigenvalue and its corresponding eigenvector.\n",
    "In this case, we can use the power method, which is an iterative method that will converge to the largest\n",
    "eigenvalue;"
   ]
  },
  {
   "cell_type": "code",
   "execution_count": 2,
   "id": "cd0160d0",
   "metadata": {},
   "outputs": [],
   "source": [
    "import numpy as np"
   ]
  },
  {
   "cell_type": "code",
   "execution_count": 22,
   "id": "93aaffca",
   "metadata": {},
   "outputs": [],
   "source": [
    "def  op_vec(v):\n",
    "    max_value = abs(v).max()  # Deciding the largest component from vect \n",
    "    v_n = v / v.max()     # Dividing all the elements of vect \n",
    "    return max_value , v_n     # returning the largest comp and obtained vector"
   ]
  },
  {
   "cell_type": "code",
   "execution_count": 30,
   "id": "a3a0dfe4",
   "metadata": {},
   "outputs": [
    {
     "name": "stdout",
     "output_type": "stream",
     "text": [
      "Itertion number: 0,\n",
      " has dominant factor: 5\n",
      " with vector: [[0.4]\n",
      " [1. ]]\n",
      "Itertion number: 1,\n",
      " has dominant factor: 3.8\n",
      " with vector: [[0.52631579]\n",
      " [1.        ]]\n",
      "Itertion number: 2,\n",
      " has dominant factor: 4.052631578947368\n",
      " with vector: [[0.49350649]\n",
      " [1.        ]]\n",
      "Itertion number: 3,\n",
      " has dominant factor: 3.987012987012987\n",
      " with vector: [[0.50162866]\n",
      " [1.        ]]\n",
      "Itertion number: 4,\n",
      " has dominant factor: 4.0032573289902285\n",
      " with vector: [[0.49959317]\n",
      " [1.        ]]\n",
      "Itertion number: 5,\n",
      " has dominant factor: 3.999186330349878\n",
      " with vector: [[0.50010173]\n",
      " [1.        ]]\n",
      "Itertion number: 6,\n",
      " has dominant factor: 4.000203458799593\n",
      " with vector: [[0.49997457]\n",
      " [1.        ]]\n",
      "Itertion number: 7,\n",
      " has dominant factor: 3.999949137887188\n",
      " with vector: [[0.50000636]\n",
      " [1.        ]]\n",
      "Itertion number: 8,\n",
      " has dominant factor: 4.0000127156898895\n",
      " with vector: [[0.49999841]\n",
      " [1.        ]]\n",
      "Itertion number: 9,\n",
      " has dominant factor: 3.999996821087633\n",
      " with vector: [[0.5000004]\n",
      " [1.       ]]\n"
     ]
    }
   ],
   "source": [
    "# Defining the initial mat and vec\n",
    "operator_mat = np.array([[0,2],[2,3]]) \n",
    "arbitrary_vec = np.array([[1],[1]])\n",
    " \n",
    "new_vec = arbitrary_vec\n",
    "\n",
    "for i in range(10):      \n",
    "    # operation of mat and vec\n",
    "    dp_col_vec = np.dot(operator_mat, new_vec)    \n",
    "    \n",
    "    # returning the dominant factor and storing the new vec for next iteration\n",
    "    dom_fac, new_vec = op_vec(dp_col_vec)\n",
    "    \n",
    "    print(f\"Itertion number: {i},\\n has dominant factor: {dom_fac}\\n with vector: {new_vec}\")\n"
   ]
  },
  {
   "cell_type": "code",
   "execution_count": null,
   "id": "28b1745e",
   "metadata": {},
   "outputs": [],
   "source": [
    "\n",
    "                          "
   ]
  },
  {
   "cell_type": "code",
   "execution_count": null,
   "id": "633b0857",
   "metadata": {},
   "outputs": [],
   "source": []
  },
  {
   "cell_type": "code",
   "execution_count": null,
   "id": "63e1fcad",
   "metadata": {},
   "outputs": [],
   "source": []
  }
 ],
 "metadata": {
  "kernelspec": {
   "display_name": "Python 3",
   "language": "python",
   "name": "python3"
  },
  "language_info": {
   "codemirror_mode": {
    "name": "ipython",
    "version": 3
   },
   "file_extension": ".py",
   "mimetype": "text/x-python",
   "name": "python",
   "nbconvert_exporter": "python",
   "pygments_lexer": "ipython3",
   "version": "3.8.8"
  }
 },
 "nbformat": 4,
 "nbformat_minor": 5
}
