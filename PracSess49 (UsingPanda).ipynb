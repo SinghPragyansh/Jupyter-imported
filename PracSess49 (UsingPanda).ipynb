{
 "cells": [
  {
   "cell_type": "code",
   "execution_count": 23,
   "id": "21d8441b",
   "metadata": {},
   "outputs": [],
   "source": [
    "import numpy as np\n",
    "import matplotlib.pyplot as plt\n",
    "import pandas as pd"
   ]
  },
  {
   "cell_type": "code",
   "execution_count": 25,
   "id": "25d0c786",
   "metadata": {},
   "outputs": [],
   "source": [
    "data_frame = pd.read_csv('930-data-export.csv', \n",
    "                         delimiter = \",\", parse_dates =[1])"
   ]
  },
  {
   "cell_type": "code",
   "execution_count": 26,
   "id": "fb203e77",
   "metadata": {},
   "outputs": [
    {
     "name": "stdout",
     "output_type": "stream",
     "text": [
      "  Region Code Timestamp (Hour Ending)  Demand (MWh)  \\\n",
      "0        US48     2022-09-25 07:00:00        351187   \n",
      "\n",
      "  Percent Change from Prior Hour  \n",
      "0                             0%  \n"
     ]
    }
   ],
   "source": [
    "print(data_frame)"
   ]
  },
  {
   "cell_type": "code",
   "execution_count": 27,
   "id": "2a1a7c89",
   "metadata": {},
   "outputs": [],
   "source": [
    "data_frame.rename(columns = { \"Timestamp (Hour Ending)\" : \"hour\", \n",
    "                     \"Demand (MWh)\" : \"demand\"}, inplace = True)"
   ]
  },
  {
   "cell_type": "code",
   "execution_count": 28,
   "id": "50865f49",
   "metadata": {},
   "outputs": [
    {
     "name": "stdout",
     "output_type": "stream",
     "text": [
      "0    351187\n",
      "Name: demand, dtype: int64\n"
     ]
    }
   ],
   "source": [
    "print(data_frame[\"demand\"])"
   ]
  },
  {
   "cell_type": "code",
   "execution_count": 29,
   "id": "524bfa03",
   "metadata": {},
   "outputs": [],
   "source": [
    "# plotting to see the electricity demand fluctuation over time"
   ]
  },
  {
   "cell_type": "code",
   "execution_count": 30,
   "id": "7db7f611",
   "metadata": {},
   "outputs": [
    {
     "data": {
      "text/plain": [
       "(array([18628., 18809., 18993., 19174., 19358., 19539., 19723., 19905.]),\n",
       " [Text(0, 0, ''),\n",
       "  Text(0, 0, ''),\n",
       "  Text(0, 0, ''),\n",
       "  Text(0, 0, ''),\n",
       "  Text(0, 0, ''),\n",
       "  Text(0, 0, ''),\n",
       "  Text(0, 0, ''),\n",
       "  Text(0, 0, '')])"
      ]
     },
     "execution_count": 30,
     "metadata": {},
     "output_type": "execute_result"
    },
    {
     "data": {
      "image/png": "[encoded data removed]",
      "text/plain": [
       "<Figure size 432x288 with 1 Axes>"
      ]
     },
     "metadata": {
      "needs_background": "light"
     },
     "output_type": "display_data"
    }
   ],
   "source": [
    "plt.plot(figsize = (8,5))\n",
    "plt.plot(data_frame[\"hour\"], data_frame[\"demand\"])\n",
    "plt.xlabel(\"Datetime\")\n",
    "plt.ylabel(\"California electricty demand (MWh)\")\n",
    "plt.xticks(rotation = 25)"
   ]
  },
  {
   "cell_type": "code",
   "execution_count": 31,
   "id": "df6d07ea",
   "metadata": {},
   "outputs": [],
   "source": [
    "# data collection is not good"
   ]
  },
  {
   "cell_type": "code",
   "execution_count": null,
   "id": "a3132ab3",
   "metadata": {},
   "outputs": [],
   "source": []
  }
 ],
 "metadata": {
  "kernelspec": {
   "display_name": "Python 3",
   "language": "python",
   "name": "python3"
  },
  "language_info": {
   "codemirror_mode": {
    "name": "ipython",
    "version": 3
   },
   "file_extension": ".py",
   "mimetype": "text/x-python",
   "name": "python",
   "nbconvert_exporter": "python",
   "pygments_lexer": "ipython3",
   "version": "3.8.8"
  }
 },
 "nbformat": 4,
 "nbformat_minor": 5
}
