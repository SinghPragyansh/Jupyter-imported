{
 "cells": [
  {
   "cell_type": "markdown",
   "id": "8b74a91f",
   "metadata": {},
   "source": [
    "# Newton-Ralphson"
   ]
  },
  {
   "cell_type": "markdown",
   "id": "ff832c1b",
   "metadata": {},
   "source": [
    "Let f (x) be a smooth function, and xr be an unknown root of f (x). Assume that x0 is a guess for\n",
    "xr . Unless x0 is a very lucky guess, f (x0 ) will not be a root. Given this scenario, we want to find an\n",
    "x1 that is an improvement on x0 (i.e., closer to xr than x0 ). If we assume that x0 is “close enough”\n",
    "to xr , then we can improve upon it by taking the linear approximation of f (x) around x0 , which is\n",
    "a line, and finding the intersection of this line with the x-axis. Written out, the linear approximation\n",
    "of f (x) around x0 is f (x) ≈ f (x0 ) + f \u0005 (x0 )(x − x0 ). Using this approximation, we find x1 such that\n",
    "f (x1 ) = 0. Plugging these values into the linear approximation results in the following equation:"
   ]
  },
  {
   "cell_type": "markdown",
   "id": "71bd7bec",
   "metadata": {},
   "source": [
    "0 = f (x0 ) + f '(x0 )(x1 − x0 )"
   ]
  },
  {
   "cell_type": "code",
   "execution_count": null,
   "id": "347cfd9d",
   "metadata": {},
   "outputs": [],
   "source": [
    "import numpy as np\n",
    "\n",
    "x_ini = 1.4    # Starting point\n",
    "\n",
    "f = lambda x: x**2 - 2\n",
    "f_der = lambda x: 2*x\n",
    "x_1 = x_ini - (f(x_ini))/ f_der(x_ini)\n",
    "\n",
    "print(\"NR root = \", x_1)"
   ]
  },
  {
   "cell_type": "code",
   "execution_count": null,
   "id": "04bd51ad",
   "metadata": {},
   "outputs": [],
   "source": [
    "# defining function for the iterative operation and convergence\n",
    "\n",
    "def newt_raph(f, df, x0, tol):\n",
    "    \n",
    "    # recursive implementation\n",
    "    \n",
    "    if abs(f(x0)) < tol :   # base case for the recursion, i.e. when the recursion breaks\n",
    "        return x0\n",
    "    else:\n",
    "        x_1 = x0 - (f(x0))/ f_der(x0)\n",
    "        return newt_raph(f, df, x_1, tol)  # Sending an updated x0 argument"
   ]
  },
  {
   "cell_type": "code",
   "execution_count": null,
   "id": "99af346b",
   "metadata": {},
   "outputs": [],
   "source": [
    "# defining the two functions that will be exported as an argument later\n",
    "\n",
    "f = lambda x: x**2 - 2\n",
    "f_der = lambda x: 2*x"
   ]
  },
  {
   "cell_type": "code",
   "execution_count": null,
   "id": "f50252b6",
   "metadata": {},
   "outputs": [],
   "source": [
    "tol = 1e-6\n",
    "x_ini = 200\n",
    "\n",
    "nr_root = newt_raph(f, f_der, x_ini, tol)\n",
    "print(\"NR Root = \", r_find)\n"
   ]
  },
  {
   "cell_type": "code",
   "execution_count": null,
   "id": "b25c5858",
   "metadata": {},
   "outputs": [],
   "source": []
  },
  {
   "cell_type": "markdown",
   "id": "fbf18565",
   "metadata": {},
   "source": [
    "# Limitation:\n",
    "In addition\n",
    "to this initialization problem, the Newton–Raphson method has other serious limitations. For example,\n",
    "if the derivative at a guess is close to zero, then the Newton step will be very large and probably lead\n",
    "far away from the root."
   ]
  },
  {
   "cell_type": "code",
   "execution_count": null,
   "id": "321a7f46",
   "metadata": {},
   "outputs": [],
   "source": []
  },
  {
   "cell_type": "markdown",
   "id": "91e207b1",
   "metadata": {},
   "source": [
    "# Secant method"
   ]
  },
  {
   "cell_type": "markdown",
   "id": "07d74bca",
   "metadata": {},
   "source": [
    "Secant method is made use of when the analytical derivative expression is unknown, therefore we use backward difference method\n",
    "derived expression, which would require us to provide two initial x value. It almost does not makes difference, what the value are given."
   ]
  },
  {
   "cell_type": "code",
   "execution_count": 35,
   "id": "a9381139",
   "metadata": {},
   "outputs": [],
   "source": [
    "import numpy as np\n",
    "f_x = lambda x: x**3 - 10 "
   ]
  },
  {
   "cell_type": "code",
   "execution_count": 36,
   "id": "c4aaca63",
   "metadata": {},
   "outputs": [],
   "source": [
    "def sec_meth(f, x0, x1, tol):\n",
    "    \n",
    "    if abs(f(x1)) < tol:\n",
    "        return x1\n",
    "    else:\n",
    "        x_2 = x1 - (f(x1)*(x1 - x0))/(f(x1) - f(x0))\n",
    "        \n",
    "        return sec_meth(f, x1, x_2, tol)"
   ]
  },
  {
   "cell_type": "code",
   "execution_count": 37,
   "id": "096dad0e",
   "metadata": {},
   "outputs": [
    {
     "name": "stdout",
     "output_type": "stream",
     "text": [
      "Root with secant method =  2.1544346907300436\n"
     ]
    }
   ],
   "source": [
    "x_ini_0 = 8\n",
    "x_ini_1 = 10\n",
    "tol = 1e-6\n",
    "\n",
    "secant_root = sec_meth(f_x, x_ini_0, x_ini_1, tol)\n",
    "\n",
    "print(\"Root with secant method = \", secant_root)"
   ]
  },
  {
   "cell_type": "code",
   "execution_count": null,
   "id": "1e5df7ac",
   "metadata": {},
   "outputs": [],
   "source": []
  }
 ],
 "metadata": {
  "kernelspec": {
   "display_name": "Python 3",
   "language": "python",
   "name": "python3"
  },
  "language_info": {
   "codemirror_mode": {
    "name": "ipython",
    "version": 3
   },
   "file_extension": ".py",
   "mimetype": "text/x-python",
   "name": "python",
   "nbconvert_exporter": "python",
   "pygments_lexer": "ipython3",
   "version": "3.8.8"
  }
 },
 "nbformat": 4,
 "nbformat_minor": 5
}
