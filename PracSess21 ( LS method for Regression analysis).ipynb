{
 "cells": [
  {
   "cell_type": "code",
   "execution_count": 33,
   "id": "fef0ecdb",
   "metadata": {},
   "outputs": [],
   "source": [
    "# Programming the least square method by myself\n",
    "import numpy as np\n",
    "from numpy.linalg import inv\n",
    "import matplotlib.pyplot as plt\n",
    "from numpy.linalg import det"
   ]
  },
  {
   "cell_type": "markdown",
   "id": "282fe3a3",
   "metadata": {},
   "source": [
    "The goal of least squares regression is to find\u0003\n",
    "the parameters of the estimation function that mini-\n",
    "mize the total squared error"
   ]
  },
  {
   "cell_type": "code",
   "execution_count": 34,
   "id": "3ac61f45",
   "metadata": {},
   "outputs": [],
   "source": [
    "x = [2,5,4,6]\n",
    "y = [4,8,10,11]\n",
    "sig_xy = 0\n",
    "sig_x = 0\n",
    "sig_y = 0\n",
    "sig_x_2 = 0\n",
    "n = len(x)"
   ]
  },
  {
   "cell_type": "code",
   "execution_count": 35,
   "id": "39980ffb",
   "metadata": {},
   "outputs": [],
   "source": [
    "# Calculating all the sigma terms\n",
    "\n",
    "for i in range(len(x)):\n",
    "    sig_x  = sig_x + x[i]\n",
    "    sig_x_2  = sig_x_2 + x[i] * x[i]\n",
    "    sig_xy  = sig_xy + x[i] * y[i]"
   ]
  },
  {
   "cell_type": "code",
   "execution_count": 36,
   "id": "8d4ad892",
   "metadata": {},
   "outputs": [],
   "source": [
    "# for linear eq: mat(A)*vec(V) = vec(B)\n",
    "# therefore, vec(V) = mat(A)^(-1) . mat(B)\n",
    "# Solution of linear equation gives the slope and intercept of the regression line"
   ]
  },
  {
   "cell_type": "code",
   "execution_count": 37,
   "id": "c38e78aa",
   "metadata": {},
   "outputs": [
    {
     "name": "stdout",
     "output_type": "stream",
     "text": [
      " Slop is: [17.6] and the intercept is: [-74.8]\n"
     ]
    }
   ],
   "source": [
    "# Solving the matrix algebra\n",
    "A = np.array([ [sig_x_2, sig_x], [sig_x, n] ])\n",
    "A_inv = inv(A)\n",
    "B = np.array([ [sig_xy], [sig_y] ])\n",
    "\n",
    "\n",
    "vec = np.dot( A_inv, B )\n",
    "slope = vec[0]\n",
    "intercept = vec [1]\n",
    "\n",
    "print(f\" Slop is: {vec[0]} and the intercept is: {vec[1]}\")"
   ]
  },
  {
   "cell_type": "code",
   "execution_count": 38,
   "id": "9df7eaaf",
   "metadata": {},
   "outputs": [],
   "source": [
    "def line(slo, inter, x_grid):\n",
    "    line_fun_list = []\n",
    "    n = len(x_grid)\n",
    "    for i in range(len(x)):\n",
    "        line_fun_list.append((slo * x_grid[i]) + inter)\n",
    "    \n",
    "    return line_fun_list"
   ]
  },
  {
   "cell_type": "code",
   "execution_count": 39,
   "id": "ffaf3717",
   "metadata": {},
   "outputs": [
    {
     "data": {
      "text/plain": [
       "[<matplotlib.lines.Line2D at 0x7f6b77bc3ac0>]"
      ]
     },
     "execution_count": 39,
     "metadata": {},
     "output_type": "execute_result"
    },
    {
     "data": {
      "image/png": "[encoded data removed]",
      "text/plain": [
       "<Figure size 432x288 with 1 Axes>"
      ]
     },
     "metadata": {
      "needs_background": "light"
     },
     "output_type": "display_data"
    }
   ],
   "source": [
    "regression_line = line(slope, intercept, x)\n",
    "\n",
    "plt.plot(x, y , \"*\")\n",
    "plt.plot(x, regression_line)\n"
   ]
  },
  {
   "cell_type": "code",
   "execution_count": null,
   "id": "9bd35f20",
   "metadata": {},
   "outputs": [],
   "source": []
  },
  {
   "cell_type": "code",
   "execution_count": null,
   "id": "83160253",
   "metadata": {},
   "outputs": [],
   "source": []
  },
  {
   "cell_type": "code",
   "execution_count": null,
   "id": "630f5b1d",
   "metadata": {},
   "outputs": [],
   "source": []
  }
 ],
 "metadata": {
  "kernelspec": {
   "display_name": "Python 3",
   "language": "python",
   "name": "python3"
  },
  "language_info": {
   "codemirror_mode": {
    "name": "ipython",
    "version": 3
   },
   "file_extension": ".py",
   "mimetype": "text/x-python",
   "name": "python",
   "nbconvert_exporter": "python",
   "pygments_lexer": "ipython3",
   "version": "3.8.8"
  }
 },
 "nbformat": 4,
 "nbformat_minor": 5
}
