{
 "cells": [
  {
   "cell_type": "code",
   "execution_count": 1,
   "id": "c42e8b98",
   "metadata": {},
   "outputs": [],
   "source": [
    "# Newton's Polynomial Interpolation"
   ]
  },
  {
   "cell_type": "markdown",
   "id": "5fb3f5b6",
   "metadata": {},
   "source": [
    "    : f (x) = a0 + a1 (x − x0 ) + a2 (x − x0 )(x − x1 ) + · · · + an (x − x0 )(x − x1 ) · · · (x − xn ),\n",
    "    : f (x0 ) = a0 = y0\n",
    "    : a1 = (y1 − y0) /(x1 − x0)\n",
    "    : a1 = f [x1 , x0 ] =y1 − y0/x1 − x0\n",
    "    : a2 = f [x2 , x1 ] − f [x1 , x0 ]/x2 - x0\n",
    "    \n",
    "    "
   ]
  },
  {
   "cell_type": "code",
   "execution_count": 2,
   "id": "c15b2730",
   "metadata": {},
   "outputs": [],
   "source": [
    "import numpy as np\n",
    "import matplotlib.pyplot as plt\n",
    "\n",
    "u = [-5, -1, 0, 2]\n",
    "v = [-2, 6, 1, 3]"
   ]
  },
  {
   "cell_type": "code",
   "execution_count": 61,
   "id": "ea37e9c7",
   "metadata": {},
   "outputs": [],
   "source": [
    "def ForwDiff(x, y):\n",
    "    dd_1 = []\n",
    "    dd_2 = []\n",
    "    dd_3 = []\n",
    "    for i in range(len(x)):\n",
    "        if i != 0:\n",
    "            dd_1.append(y[i] - y[i-1])\n",
    "            \n",
    "    for i in range(len(dd_1)):\n",
    "        if i != 0:\n",
    "            dd_2.append(dd_1[i] - dd_1[i-1])\n",
    "            \n",
    "    for i in range(len(dd_2)):\n",
    "        if i != 0:\n",
    "            dd_3.append(dd_2[i] - dd_2[i-1])\n",
    "    \n",
    "    return dd_1, dd_2, dd_3\n",
    "                    "
   ]
  },
  {
   "cell_type": "code",
   "execution_count": 62,
   "id": "3ad607e1",
   "metadata": {},
   "outputs": [],
   "source": [
    "dd_1, dd_2, dd_3 = ForwDiff(u, v)"
   ]
  },
  {
   "cell_type": "code",
   "execution_count": 63,
   "id": "81a673ce",
   "metadata": {},
   "outputs": [
    {
     "name": "stdout",
     "output_type": "stream",
     "text": [
      "The divided difference column 1: [8, -5, 2]\n",
      "The divided difference column 2: [-13, 7]\n",
      "The divided difference column 3: [20]\n"
     ]
    }
   ],
   "source": [
    "print(f\"The divided difference column 1: {dd_1}\")\n",
    "print(f\"The divided difference column 2: {dd_2}\")\n",
    "print(f\"The divided difference column 3: {dd_3}\")"
   ]
  },
  {
   "cell_type": "code",
   "execution_count": null,
   "id": "0102657c",
   "metadata": {},
   "outputs": [],
   "source": []
  },
  {
   "cell_type": "code",
   "execution_count": 64,
   "id": "54877a84",
   "metadata": {},
   "outputs": [],
   "source": [
    "# Now storing possible Coefficients in a list\n",
    "#If the original grid contains n points, then we will have n+1 coeff\n",
    "\n",
    "a_0 = v[0]\n",
    "a_1 = dd_1[0]\n",
    "a_2 = dd_2[0]\n",
    "a_3 = dd_3[0]"
   ]
  },
  {
   "cell_type": "code",
   "execution_count": 65,
   "id": "56de25cb",
   "metadata": {},
   "outputs": [],
   "source": [
    "f_x = []\n",
    "x_grid = np.arange(-10,10,0.1)\n",
    "\n",
    "for i in range(len(x_grid)):\n",
    "    f_x.append(a_0 + a_1*(x_grid[i] - u[0]) + a_2*(x_grid[i] - u[0])*(x_grid[i] - u[1]) + a_3*(x_grid[i] - u[0])*(x_grid[i] - u[1])*(x_grid[i] - u[2]))   \n",
    "    "
   ]
  },
  {
   "cell_type": "code",
   "execution_count": 66,
   "id": "51519c49",
   "metadata": {},
   "outputs": [
    {
     "data": {
      "text/plain": [
       "[<matplotlib.lines.Line2D at 0x7fa1de9c43d0>,\n",
       " <matplotlib.lines.Line2D at 0x7fa1de9c4400>]"
      ]
     },
     "execution_count": 66,
     "metadata": {},
     "output_type": "execute_result"
    },
    {
     "data": {
      "image/png": "[encoded data removed]",
      "text/plain": [
       "<Figure size 432x288 with 1 Axes>"
      ]
     },
     "metadata": {
      "needs_background": "light"
     },
     "output_type": "display_data"
    }
   ],
   "source": [
    "plt.plot(x_grid, f_x,\"b\", u, v, \"ro\")"
   ]
  },
  {
   "cell_type": "code",
   "execution_count": null,
   "id": "8d364e8c",
   "metadata": {},
   "outputs": [],
   "source": []
  },
  {
   "cell_type": "code",
   "execution_count": 9,
   "id": "ee1522f1",
   "metadata": {},
   "outputs": [],
   "source": [
    "# The program given in the book"
   ]
  },
  {
   "cell_type": "code",
   "execution_count": 33,
   "id": "cd5dda51",
   "metadata": {},
   "outputs": [],
   "source": [
    "# planning the matrix, that will contain the required coefficients\n",
    "\n",
    "def divided_diff(x,y):\n",
    "    n = len(y)\n",
    "    coef_mat = np.zeros((n,n))\n",
    "    # 1st column contains the elements of y\n",
    "    coef_mat[:,0] = y\n",
    "    \n",
    "    for j in range(1,n):  # Starting with the column index loop\n",
    "        # since, first column is already fixed, therefore altering the elements from 2nd column\n",
    "        for i in range(n-j): # Last row is going to be zero, so not changing anything there\n",
    "            coef_mat[i][j] = (coef_mat[i+1][j-1] - coef_mat[i][j-1])/(x[i+j] - x[i])\n",
    "            \n",
    "    return coef_mat            "
   ]
  },
  {
   "cell_type": "code",
   "execution_count": 35,
   "id": "b193723b",
   "metadata": {},
   "outputs": [],
   "source": [
    "# Determining the newton polynomial\n",
    "# Did not understand the functioning of this function\n",
    "def newton_poly(coef_row, x_input, x_grid):\n",
    "   \n",
    "    n = len(x_input) -1  \n",
    "\n",
    "    p = coef_row[n]    # Storing the last element of the dd row in p \n",
    "    for k in range(1, n +1):\n",
    "        # the scalar operation on a list, acts on all the elements\n",
    "        p = coef_row[n - k] + (x_grid - x_input[n -k])*p     \n",
    "        \n",
    "    return p"
   ]
  },
  {
   "cell_type": "code",
   "execution_count": null,
   "id": "17e602f6",
   "metadata": {},
   "outputs": [],
   "source": []
  },
  {
   "cell_type": "code",
   "execution_count": 47,
   "id": "7ae1a4f9",
   "metadata": {},
   "outputs": [],
   "source": [
    "u = np.array([-5, -1, 0, 2])\n",
    "v = np.array([-2, 6, 1, 3])"
   ]
  },
  {
   "cell_type": "code",
   "execution_count": 48,
   "id": "9566b5b0",
   "metadata": {},
   "outputs": [],
   "source": [
    "# The forward difference coefficient is confined to the first row of the matrix\n",
    "# therefore we call back and store the fist row of matrix into dd \n",
    "\n",
    "dd = divided_diff(u, v)[0, :]"
   ]
  },
  {
   "cell_type": "code",
   "execution_count": 49,
   "id": "d2bb193b",
   "metadata": {},
   "outputs": [],
   "source": [
    "# setting up new x grid and evaluating the polynomial on that\n",
    "\n",
    "x_grid = np.arange(-5, 2.1, 0.1)\n",
    "y_new = newton_poly(dd, u, x_grid)"
   ]
  },
  {
   "cell_type": "code",
   "execution_count": 51,
   "id": "400b2de1",
   "metadata": {},
   "outputs": [
    {
     "data": {
      "text/plain": [
       "[<matplotlib.lines.Line2D at 0x7fa1df58b4f0>]"
      ]
     },
     "execution_count": 51,
     "metadata": {},
     "output_type": "execute_result"
    },
    {
     "data": {
      "image/png": "[encoded data removed]",
      "text/plain": [
       "<Figure size 576x360 with 1 Axes>"
      ]
     },
     "metadata": {
      "needs_background": "light"
     },
     "output_type": "display_data"
    }
   ],
   "source": [
    "plt.figure(figsize = (8,5))\n",
    "plt.plot(u, v, \"bo\")\n",
    "plt.plot(x_grid, y_new)"
   ]
  },
  {
   "cell_type": "code",
   "execution_count": null,
   "id": "0bc888fc",
   "metadata": {},
   "outputs": [],
   "source": []
  },
  {
   "cell_type": "code",
   "execution_count": null,
   "id": "ddd75c55",
   "metadata": {},
   "outputs": [],
   "source": []
  },
  {
   "cell_type": "code",
   "execution_count": null,
   "id": "f4fe802d",
   "metadata": {},
   "outputs": [],
   "source": []
  },
  {
   "cell_type": "code",
   "execution_count": null,
   "id": "2d38ea68",
   "metadata": {},
   "outputs": [],
   "source": []
  }
 ],
 "metadata": {
  "kernelspec": {
   "display_name": "Python 3",
   "language": "python",
   "name": "python3"
  },
  "language_info": {
   "codemirror_mode": {
    "name": "ipython",
    "version": 3
   },
   "file_extension": ".py",
   "mimetype": "text/x-python",
   "name": "python",
   "nbconvert_exporter": "python",
   "pygments_lexer": "ipython3",
   "version": "3.8.8"
  }
 },
 "nbformat": 4,
 "nbformat_minor": 5
}
