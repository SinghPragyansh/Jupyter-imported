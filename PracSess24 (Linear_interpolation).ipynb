{
 "cells": [
  {
   "cell_type": "code",
   "execution_count": 80,
   "id": "491416af",
   "metadata": {},
   "outputs": [],
   "source": [
    "# Linear interpolation (By myself)"
   ]
  },
  {
   "cell_type": "code",
   "execution_count": 81,
   "id": "11883f7e",
   "metadata": {},
   "outputs": [],
   "source": [
    "import numpy as np\n",
    "import matplotlib.pyplot as plt"
   ]
  },
  {
   "cell_type": "code",
   "execution_count": 93,
   "id": "91d88362",
   "metadata": {},
   "outputs": [],
   "source": [
    "# Grid and fucntion value at the grid\n",
    "u = [0, 1, 2, 3, 4, 5, 6]\n",
    "v = [1, 3, 2, 32, 56, 12, 6]"
   ]
  },
  {
   "cell_type": "code",
   "execution_count": 98,
   "id": "c40415db",
   "metadata": {},
   "outputs": [],
   "source": [
    "# Defining the inter-polation func\n",
    "# x_b is the input on x grid, x_a is just less than input and x_c is just greater\n",
    "# y_a is the fucntion value at x_a\n",
    "def lin_inter(x_b, y_a, y_c, x_a, x_c):\n",
    "    y_b = y_a + (y_c - y_a)/(x_c - x_a) * (x_b - x_a)\n",
    "    \n",
    "    return y_b    "
   ]
  },
  {
   "cell_type": "code",
   "execution_count": 95,
   "id": "7e0ba5cc",
   "metadata": {},
   "outputs": [
    {
     "name": "stdout",
     "output_type": "stream",
     "text": [
      "Enter the x value where interpolation is to be calculated: 3.5\n"
     ]
    }
   ],
   "source": [
    "k = float(input(\"Enter the x value where interpolation is to be calculated: \"))"
   ]
  },
  {
   "cell_type": "code",
   "execution_count": 96,
   "id": "2a288fab",
   "metadata": {},
   "outputs": [
    {
     "name": "stdout",
     "output_type": "stream",
     "text": [
      "3\n",
      "3\n",
      "4\n"
     ]
    }
   ],
   "source": [
    "# Objective: we need to find the neighbour x numbers of input number\n",
    "# therefore, we will check the number just less than input number\n",
    "# and note it's index, then we will find next number on the x grid with \n",
    "# the help of index\n",
    "store = 0   # Temporary variable\n",
    "for i in u:    # running loop on x grid elements\n",
    "    if i < k:      # \n",
    "        store = i\n",
    "        \n",
    "print(store)\n",
    "ind_a = u.index(store)\n",
    "print(ind_a)\n",
    "ind_c = ind_a + 1\n",
    "print(ind_c)"
   ]
  },
  {
   "cell_type": "code",
   "execution_count": 97,
   "id": "29cd9090",
   "metadata": {},
   "outputs": [
    {
     "name": "stdout",
     "output_type": "stream",
     "text": [
      "44.0\n"
     ]
    }
   ],
   "source": [
    "# y_b is the interpolated value, \n",
    "# v[ind_a] : number just less than input on the grid\n",
    "# v[ind_c] : number just greater than input on the grid\n",
    "\n",
    "y_b = lin_inter(k, v[ind_a], v[ind_c], u[ind_a], u[ind_c])\n",
    "\n",
    "print(y_b)"
   ]
  },
  {
   "cell_type": "code",
   "execution_count": null,
   "id": "b7bdd02d",
   "metadata": {},
   "outputs": [],
   "source": []
  },
  {
   "cell_type": "code",
   "execution_count": 87,
   "id": "293e77de",
   "metadata": {},
   "outputs": [],
   "source": [
    "# With the python library"
   ]
  },
  {
   "cell_type": "code",
   "execution_count": 88,
   "id": "b757cc63",
   "metadata": {},
   "outputs": [],
   "source": [
    "from scipy.interpolate import interp1d\n",
    "import matplotlib.pyplot as plt"
   ]
  },
  {
   "cell_type": "code",
   "execution_count": 89,
   "id": "0ef60101",
   "metadata": {},
   "outputs": [
    {
     "name": "stdout",
     "output_type": "stream",
     "text": [
      "44.0\n"
     ]
    }
   ],
   "source": [
    "plt.style.use(\"seaborn-poster\")\n",
    "\n",
    "f = interp1d(u, v)\n",
    "v_hat = f(k)\n",
    "print(v_hat)"
   ]
  },
  {
   "cell_type": "code",
   "execution_count": null,
   "id": "51b0c552",
   "metadata": {},
   "outputs": [],
   "source": []
  },
  {
   "cell_type": "code",
   "execution_count": 90,
   "id": "f20a8022",
   "metadata": {},
   "outputs": [],
   "source": [
    "# The result from my program is matching the result obtained from the library calculation/"
   ]
  },
  {
   "cell_type": "code",
   "execution_count": 91,
   "id": "136063fa",
   "metadata": {},
   "outputs": [
    {
     "data": {
      "text/plain": [
       "Text(0.5, 1.0, 'linear interpolation at x = 3.5')"
      ]
     },
     "execution_count": 91,
     "metadata": {},
     "output_type": "execute_result"
    },
    {
     "data": {
      "image/png": "[encoded data removed]",
      "text/plain": [
       "<Figure size 576x360 with 1 Axes>"
      ]
     },
     "metadata": {
      "needs_background": "light"
     },
     "output_type": "display_data"
    }
   ],
   "source": [
    "plt.figure(figsize = (8,5))\n",
    "plt.plot(u, v, \"-ob\")\n",
    "plt.plot(k, y_b, \"ro\")\n",
    "plt.title(f\"linear interpolation at x = {k}\")"
   ]
  },
  {
   "cell_type": "code",
   "execution_count": null,
   "id": "e97b513d",
   "metadata": {},
   "outputs": [],
   "source": []
  }
 ],
 "metadata": {
  "kernelspec": {
   "display_name": "Python 3",
   "language": "python",
   "name": "python3"
  },
  "language_info": {
   "codemirror_mode": {
    "name": "ipython",
    "version": 3
   },
   "file_extension": ".py",
   "mimetype": "text/x-python",
   "name": "python",
   "nbconvert_exporter": "python",
   "pygments_lexer": "ipython3",
   "version": "3.8.8"
  }
 },
 "nbformat": 4,
 "nbformat_minor": 5
}
