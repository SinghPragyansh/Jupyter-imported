{
 "cells": [
  {
   "cell_type": "code",
   "execution_count": null,
   "id": "8acef8c0",
   "metadata": {},
   "outputs": [],
   "source": [
    "# Linear Transformation"
   ]
  },
  {
   "cell_type": "code",
   "execution_count": null,
   "id": "58a7cf78",
   "metadata": {},
   "outputs": [],
   "source": [
    "# Linear independance of an vector wrt to a matrix (set of linear equation)\n",
    "# is judged by checked by rank(M) and rank of augmented(M,y)\n",
    "# if rank(aug[M, y]) = rank(M) + 1, then the y is linearly inde wrt\n",
    "# columns of M."
   ]
  },
  {
   "cell_type": "code",
   "execution_count": null,
   "id": "9ada185f",
   "metadata": {},
   "outputs": [],
   "source": [
    "# In terms of finding solution with equation M.x = y"
   ]
  },
  {
   "cell_type": "markdown",
   "id": "abfc588b",
   "metadata": {},
   "source": [
    "Case 1: If M and y happen to be linealy inde, then there can not be any sol of x."
   ]
  },
  {
   "cell_type": "markdown",
   "id": "6ce2067e",
   "metadata": {},
   "source": [
    "Case 2: There is unique solution: rank(aug[M,y]) = rank(M),\n",
    "then there is linear dependance y, s.t. it can be written in terms of column vectors of A, solution of x is possible."
   ]
  },
  {
   "cell_type": "code",
   "execution_count": null,
   "id": "b06812fa",
   "metadata": {},
   "outputs": [],
   "source": [
    "# Gauss Elimination:"
   ]
  },
  {
   "cell_type": "markdown",
   "id": "564a0ad5",
   "metadata": {},
   "source": [
    "x4 can be easily solved for by dividing both sides by a4,4 , and then by substituting the result\n",
    "into the third equation to solve for x3 . With x3 and x4 , we can substitute them into the second equation\n",
    "to solve for x2 , and we are now able to solve for all x. We solved the system of equations bottom-up;\n",
    "this is called backward substitution. Note that, if A were a upper-triangular matrix, we would solve\n",
    "the system top-down by forward substitution."
   ]
  },
  {
   "cell_type": "markdown",
   "id": "f44da0c8",
   "metadata": {},
   "source": [
    "Step 1: Turn these equations to the matrix form Ax = y.   \n",
    "Step 2: Obtain the augmented matrix [A, y]  \n",
    "Step 3: Start eliminating the elements in the matrix by choosing a pivot equation, which is\n",
    "used to eliminate the elements in other equations.\n",
    "step 4: Subsequently try to form a lower-triangular matrix.\n",
    "\n",
    "Caution: Sometimes the first element in the first row is zero. When this is the case, switch the first row\n",
    "with a nonzero first element row,"
   ]
  },
  {
   "cell_type": "code",
   "execution_count": null,
   "id": "1a5af8e9",
   "metadata": {},
   "outputs": [],
   "source": [
    "# Gauss- Jordan elimination method:"
   ]
  },
  {
   "cell_type": "markdown",
   "id": "17179718",
   "metadata": {},
   "source": [
    "Transform the A matrix into identity matrix, s.t. the augmented\n",
    "matrix with y, would lead to y' values as the solution of x.\n"
   ]
  },
  {
   "cell_type": "code",
   "execution_count": null,
   "id": "fef216bd",
   "metadata": {},
   "outputs": [],
   "source": [
    "# LU decomposition"
   ]
  },
  {
   "cell_type": "markdown",
   "id": "ba675d56",
   "metadata": {},
   "source": [
    "The two methods shown above involve changing both A and y at the same time while trying to turn\n",
    "A to an upper triangular or diagonal matrix form. Sometimes we may have same set of equations but\n",
    "different sets of y for different experiments. This is actually quite common in the real world, where we\n",
    "have different experiment observations ya , yb , yc , . . . Therefore, we must solve Ax = ya , Ax = yb , . . .\n",
    "many times, since every time the [A, y] will change. Obviously, this is really inefficient. Is there a\n",
    "method by which we only change the left side of A but not the right-hand side y?\n",
    "The LU decomposition method changes the matrix A only, instead of y. It is ideal for solving the\n",
    "system with the same coefficient matrices A but different constant vectors y. The LU decomposition\n",
    "method aims to turn A into the product of two matrices L and U , where L is a lower triangular matrix\n",
    "while U is an upper triangular matrix"
   ]
  },
  {
   "cell_type": "code",
   "execution_count": 4,
   "id": "dd5d04cc",
   "metadata": {},
   "outputs": [],
   "source": [
    "# Programming the Gauss- Elimination:"
   ]
  },
  {
   "cell_type": "code",
   "execution_count": 7,
   "id": "e52aa53c",
   "metadata": {},
   "outputs": [
    {
     "name": "stdout",
     "output_type": "stream",
     "text": [
      "Enter the dimension of matrix:3\n",
      "Enter the elements of matrix: 1\n",
      "Enter the elements of matrix: 2\n",
      "Enter the elements of matrix: 3\n",
      "Enter the elements of matrix: 4\n",
      "Enter the elements of matrix: 5\n",
      "Enter the elements of matrix: 6\n",
      "Enter the elements of matrix: 7\n",
      "Enter the elements of matrix: 8\n",
      "Enter the elements of matrix: 9\n",
      "[[1. 2. 3.]\n",
      " [4. 5. 6.]\n",
      " [7. 8. 9.]]\n",
      "[0.25]\n",
      "[0.25]\n",
      "[0.25]\n",
      "[0.14285714]\n",
      "[0.14285714]\n",
      "[0.14285714]\n",
      "[0.875]\n",
      "[0.875]\n",
      "[0.875]\n",
      "[[1.   2.   3.  ]\n",
      " [0.   0.75 1.5 ]\n",
      " [0.   0.   0.  ]]\n"
     ]
    }
   ],
   "source": [
    "import numpy as np\n",
    "\n",
    "n = int(input(\"Enter the dimension of matrix:\"))\n",
    "mat_a = np.zeros((n,n))\n",
    "for i in range(n):\n",
    "    for j in range(n):\n",
    "        mat_a[[i],[j]] = int(input(\"Enter the elements of matrix: \"))\n",
    "print(mat_a)\n",
    "\n",
    "for i in range(n-1):\n",
    "    for j in range(i,n-1):\n",
    "        store = mat_a[[i],[i]]/mat_a[[j+1],[i]]\n",
    "        for k in range(n):\n",
    "            print(store)\n",
    "            mat_a[[j+1],[k]] = mat_a[[i],[k]] - mat_a[[j+1],[k]]*store\n",
    "print(mat_a)"
   ]
  },
  {
   "cell_type": "code",
   "execution_count": null,
   "id": "1d4f31e8",
   "metadata": {},
   "outputs": [],
   "source": []
  },
  {
   "cell_type": "code",
   "execution_count": 9,
   "id": "16836d85",
   "metadata": {},
   "outputs": [
    {
     "name": "stdout",
     "output_type": "stream",
     "text": [
      "LU = [[ 4.  3.  5.]\n",
      " [-2. -4.  0.]\n",
      " [ 8.  8. 20.]]\n"
     ]
    }
   ],
   "source": [
    "# verifying LU decomposition using library\n",
    "\n",
    "u = np.array([[4, 3, 5],[0, -2.5, 2.5],[0, 0, 12]])\n",
    "l = np.array([[1, 0, 0],[-0.5, 1, 0],[2, -0.8, 1]])\n",
    "\n",
    "print(\"LU =\", np.dot(l, u))"
   ]
  },
  {
   "cell_type": "code",
   "execution_count": null,
   "id": "c20a812d",
   "metadata": {},
   "outputs": [],
   "source": []
  }
 ],
 "metadata": {
  "kernelspec": {
   "display_name": "Python 3",
   "language": "python",
   "name": "python3"
  },
  "language_info": {
   "codemirror_mode": {
    "name": "ipython",
    "version": 3
   },
   "file_extension": ".py",
   "mimetype": "text/x-python",
   "name": "python",
   "nbconvert_exporter": "python",
   "pygments_lexer": "ipython3",
   "version": "3.8.8"
  }
 },
 "nbformat": 4,
 "nbformat_minor": 5
}
