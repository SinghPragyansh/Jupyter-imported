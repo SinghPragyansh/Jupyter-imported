{
 "cells": [
  {
   "cell_type": "code",
   "execution_count": 12,
   "id": "80147177",
   "metadata": {},
   "outputs": [],
   "source": [
    "# Trapezoid Integration"
   ]
  },
  {
   "cell_type": "code",
   "execution_count": 13,
   "id": "4b312c6d",
   "metadata": {},
   "outputs": [],
   "source": [
    "import numpy as np"
   ]
  },
  {
   "cell_type": "code",
   "execution_count": 19,
   "id": "53419989",
   "metadata": {},
   "outputs": [],
   "source": [
    "def trapezoidal(f):\n",
    "    x = np.linspace(0, np.pi, 11)\n",
    "    n = len(x)\n",
    "    h = x[1] - x[0]\n",
    "    mid_int = 0 \n",
    "    for i in range(1,n-1):\n",
    "        mid_int += f(x[i])\n",
    "        \n",
    "    full_int =  (h/2)*(f(x[0]) + 2*mid_int + f(x[n-1]))\n",
    "    \n",
    "    return full_int\n",
    "    \n",
    "    "
   ]
  },
  {
   "cell_type": "code",
   "execution_count": 20,
   "id": "b80fe393",
   "metadata": {},
   "outputs": [
    {
     "name": "stdout",
     "output_type": "stream",
     "text": [
      "The Trapezoidal integration of Sin function is: 1.9835235375094546\n",
      "The error from the exact solution = 0.01647646249054535\n"
     ]
    }
   ],
   "source": [
    "f = lambda x: np.sin(x)\n",
    "\n",
    "trapezoid_int= trapezoidal(f) \n",
    "\n",
    "print(f\"The Trapezoidal integration of Sin function is: {trapezoid_int}\")\n",
    "print(f\"The error from the exact solution = {2 - trapezoid_int}\")"
   ]
  },
  {
   "cell_type": "code",
   "execution_count": null,
   "id": "c79d263c",
   "metadata": {},
   "outputs": [],
   "source": []
  },
  {
   "cell_type": "code",
   "execution_count": null,
   "id": "241cc8c4",
   "metadata": {},
   "outputs": [],
   "source": []
  },
  {
   "cell_type": "code",
   "execution_count": null,
   "id": "7f370c1c",
   "metadata": {},
   "outputs": [],
   "source": []
  },
  {
   "cell_type": "code",
   "execution_count": 22,
   "id": "c870a8be",
   "metadata": {},
   "outputs": [
    {
     "name": "stdout",
     "output_type": "stream",
     "text": [
      "5.4523004873557595\n"
     ]
    }
   ],
   "source": [
    "g = lambda x: x**2 - x\n",
    "\n",
    "integration = trapezoidal(g)\n",
    "\n",
    "print(integration)"
   ]
  },
  {
   "cell_type": "code",
   "execution_count": null,
   "id": "bc062c3b",
   "metadata": {},
   "outputs": [],
   "source": []
  }
 ],
 "metadata": {
  "kernelspec": {
   "display_name": "Python 3",
   "language": "python",
   "name": "python3"
  },
  "language_info": {
   "codemirror_mode": {
    "name": "ipython",
    "version": 3
   },
   "file_extension": ".py",
   "mimetype": "text/x-python",
   "name": "python",
   "nbconvert_exporter": "python",
   "pygments_lexer": "ipython3",
   "version": "3.8.8"
  }
 },
 "nbformat": 4,
 "nbformat_minor": 5
}
