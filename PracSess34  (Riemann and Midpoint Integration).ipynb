{
 "cells": [
  {
   "cell_type": "code",
   "execution_count": 1,
   "id": "5ad61fd6",
   "metadata": {},
   "outputs": [],
   "source": [
    "# Riemann and midpoint Integral"
   ]
  },
  {
   "cell_type": "markdown",
   "id": "a32adca0",
   "metadata": {},
   "source": [
    "The simplest method for approximating integrals is by summing the area of rectangles that are defined\n",
    "for each subinterval. The width of the rectangle is xi+1 − xi = h, and the height is defined by a function\n",
    "value f (x) for some x in the subinterval."
   ]
  },
  {
   "cell_type": "markdown",
   "id": "a102fa2a",
   "metadata": {},
   "source": [
    "Que: Use the left and right Riemann integral, as well as midpoint rule, to approximate\n",
    "0 sin(x)dx with 11 evenly spaced grid points over the whole interval. Compare this value to\n",
    "the exact value of 2."
   ]
  },
  {
   "cell_type": "code",
   "execution_count": 4,
   "id": "d1e76db1",
   "metadata": {},
   "outputs": [],
   "source": [
    "import numpy as np"
   ]
  },
  {
   "cell_type": "code",
   "execution_count": 6,
   "id": "db32c1c4",
   "metadata": {},
   "outputs": [],
   "source": [
    "a = 0\n",
    "b = np.pi\n",
    "n = 11\n",
    "h = (b-a) / (n-1)\n",
    "x_grid = np.linspace(a, b, n)\n",
    "f = np.sin(x_grid)"
   ]
  },
  {
   "cell_type": "code",
   "execution_count": 19,
   "id": "1398b9d9",
   "metadata": {},
   "outputs": [
    {
     "name": "stdout",
     "output_type": "stream",
     "text": [
      "1.9835235375094546\n",
      "0.01647646249054535\n"
     ]
    }
   ],
   "source": [
    "integral_riemann_left = h* sum(f[:n-1])\n",
    "err_riemannL = 2 - integral_riemann_left \n",
    "print(integral_riemann_left)\n",
    "print(err_riemannL)"
   ]
  },
  {
   "cell_type": "code",
   "execution_count": 20,
   "id": "3196b91f",
   "metadata": {},
   "outputs": [
    {
     "name": "stdout",
     "output_type": "stream",
     "text": [
      "1.9835235375094546\n",
      "0.01647646249054535\n"
     ]
    }
   ],
   "source": [
    "integral_riemann_right = h* sum(f[1::])\n",
    "err_riemannR = 2 - integral_riemann_right\n",
    "print(integral_riemann_right)\n",
    "print(err_riemannR)"
   ]
  },
  {
   "cell_type": "code",
   "execution_count": 22,
   "id": "551dc107",
   "metadata": {},
   "outputs": [
    {
     "name": "stdout",
     "output_type": "stream",
     "text": [
      "2.0082484079079745\n",
      "-0.008248407907974542\n"
     ]
    }
   ],
   "source": [
    "integral_midpoint = h* sum(np.sin((x_grid[:n-1] + x_grid[1:])/2))\n",
    "err_midpoint = 2 - integral_midpoint\n",
    "print(integral_midpoint)\n",
    "print(err_midpoint)"
   ]
  },
  {
   "cell_type": "code",
   "execution_count": null,
   "id": "b8b4d329",
   "metadata": {},
   "outputs": [],
   "source": []
  }
 ],
 "metadata": {
  "kernelspec": {
   "display_name": "Python 3",
   "language": "python",
   "name": "python3"
  },
  "language_info": {
   "codemirror_mode": {
    "name": "ipython",
    "version": 3
   },
   "file_extension": ".py",
   "mimetype": "text/x-python",
   "name": "python",
   "nbconvert_exporter": "python",
   "pygments_lexer": "ipython3",
   "version": "3.8.8"
  }
 },
 "nbformat": 4,
 "nbformat_minor": 5
}
