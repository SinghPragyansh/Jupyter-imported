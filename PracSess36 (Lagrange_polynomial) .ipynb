{
 "cells": [
  {
   "cell_type": "code",
   "execution_count": 51,
   "id": "1f9403eb",
   "metadata": {},
   "outputs": [],
   "source": [
    "import numpy as np\n",
    "import matplotlib.pyplot as plt"
   ]
  },
  {
   "cell_type": "code",
   "execution_count": 114,
   "id": "1089d44f",
   "metadata": {},
   "outputs": [],
   "source": [
    "def L_lagrange(u, x_k):\n",
    "    \n",
    "    m = len(u)\n",
    "    \n",
    "    l_k = 1\n",
    "    l_k_x = 1\n",
    "    \n",
    "    # u is the x array\n",
    "    for i in u:\n",
    "        if i!= x_k:\n",
    "            # getting the l_k_x function\n",
    "            \n",
    "            temp_l_k_x = lambda x: (x - i)\n",
    "            \n",
    "            l_k_x = lambda temp_l_k_x : l_k_x * temp_l_k_x\n",
    "            \n",
    "            # getting the numerical value of l_k\n",
    "            \n",
    "            temp_l_k = 1\n",
    "            temp_l_k = (x_k - i)\n",
    "            l_k = l_k * temp_l_k\n",
    "            \n",
    "    return l_k_x, l_k            "
   ]
  },
  {
   "cell_type": "code",
   "execution_count": 127,
   "id": "e098a322",
   "metadata": {},
   "outputs": [],
   "source": [
    "def lagrange_poly(u, v):\n",
    "    \n",
    "    m = len(u)\n",
    "    p_x_n = 0\n",
    "    \n",
    "    for i in  u:\n",
    "        \n",
    "        l_k_x, l_k = L_lagrange(u, i)\n",
    "        \n",
    "        \n",
    "        p_x = lambda l_k_x: (v[i] * (l_k_x / l_k))\n",
    "        \n",
    "        \n",
    "        p_x_n = lambda x: p_x_n + p_x\n",
    "        \n",
    "    return p_x_n"
   ]
  },
  {
   "cell_type": "code",
   "execution_count": 128,
   "id": "809be964",
   "metadata": {},
   "outputs": [
    {
     "ename": "TypeError",
     "evalue": "unsupported operand type(s) for +: 'function' and 'function'",
     "output_type": "error",
     "traceback": [
      "\u001b[0;31m---------------------------------------------------------------------------\u001b[0m",
      "\u001b[0;31mTypeError\u001b[0m                                 Traceback (most recent call last)",
      "\u001b[0;32m<ipython-input-128-50ed1e6c719b>\u001b[0m in \u001b[0;36m<module>\u001b[0;34m\u001b[0m\n\u001b[1;32m      6\u001b[0m \u001b[0mpolynomial\u001b[0m \u001b[0;34m=\u001b[0m \u001b[0mlagrange_poly\u001b[0m\u001b[0;34m(\u001b[0m\u001b[0mx\u001b[0m\u001b[0;34m,\u001b[0m \u001b[0my\u001b[0m\u001b[0;34m)\u001b[0m\u001b[0;34m\u001b[0m\u001b[0;34m\u001b[0m\u001b[0m\n\u001b[1;32m      7\u001b[0m \u001b[0;34m\u001b[0m\u001b[0m\n\u001b[0;32m----> 8\u001b[0;31m \u001b[0mprint\u001b[0m\u001b[0;34m(\u001b[0m\u001b[0mpolynomial\u001b[0m\u001b[0;34m(\u001b[0m\u001b[0;34m-\u001b[0m\u001b[0;36m1\u001b[0m\u001b[0;34m)\u001b[0m\u001b[0;34m)\u001b[0m\u001b[0;34m\u001b[0m\u001b[0;34m\u001b[0m\u001b[0m\n\u001b[0m",
      "\u001b[0;32m<ipython-input-127-b126c8e239f3>\u001b[0m in \u001b[0;36m<lambda>\u001b[0;34m(x)\u001b[0m\n\u001b[1;32m     12\u001b[0m \u001b[0;34m\u001b[0m\u001b[0m\n\u001b[1;32m     13\u001b[0m \u001b[0;34m\u001b[0m\u001b[0m\n\u001b[0;32m---> 14\u001b[0;31m         \u001b[0mp_x_n\u001b[0m \u001b[0;34m=\u001b[0m \u001b[0;32mlambda\u001b[0m \u001b[0mx\u001b[0m\u001b[0;34m:\u001b[0m \u001b[0mp_x_n\u001b[0m \u001b[0;34m+\u001b[0m \u001b[0mp_x\u001b[0m\u001b[0;34m\u001b[0m\u001b[0;34m\u001b[0m\u001b[0m\n\u001b[0m\u001b[1;32m     15\u001b[0m \u001b[0;34m\u001b[0m\u001b[0m\n\u001b[1;32m     16\u001b[0m     \u001b[0;32mreturn\u001b[0m \u001b[0mp_x_n\u001b[0m\u001b[0;34m\u001b[0m\u001b[0;34m\u001b[0m\u001b[0m\n",
      "\u001b[0;31mTypeError\u001b[0m: unsupported operand type(s) for +: 'function' and 'function'"
     ]
    }
   ],
   "source": [
    "# Intital parameters\n",
    "x = [0, 1, 2, 3]\n",
    "y = [1, 2, 3, 4]\n",
    "x_grid = np.arange(-2.0, 4.2, 0.1)\n",
    "\n",
    "polynomial = lagrange_poly(x, y)\n",
    "\n",
    "print(polynomial(-1))"
   ]
  },
  {
   "cell_type": "code",
   "execution_count": null,
   "id": "4ef0f354",
   "metadata": {},
   "outputs": [],
   "source": [
    "polynomial_grid = polynomial(x_grid)\n",
    "\n",
    "plt.plot(x_grid, polynomial_grid)"
   ]
  }
 ],
 "metadata": {
  "kernelspec": {
   "display_name": "Python 3",
   "language": "python",
   "name": "python3"
  },
  "language_info": {
   "codemirror_mode": {
    "name": "ipython",
    "version": 3
   },
   "file_extension": ".py",
   "mimetype": "text/x-python",
   "name": "python",
   "nbconvert_exporter": "python",
   "pygments_lexer": "ipython3",
   "version": "3.8.8"
  }
 },
 "nbformat": 4,
 "nbformat_minor": 5
}
